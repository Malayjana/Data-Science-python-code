{
 "cells": [
  {
   "cell_type": "code",
   "execution_count": 1,
   "id": "76d8d1f7",
   "metadata": {
    "ExecuteTime": {
     "end_time": "2022-04-08T03:23:08.032585Z",
     "start_time": "2022-04-08T03:23:05.429570Z"
    }
   },
   "outputs": [
    {
     "data": {
      "text/html": [
       "<div>\n",
       "<style scoped>\n",
       "    .dataframe tbody tr th:only-of-type {\n",
       "        vertical-align: middle;\n",
       "    }\n",
       "\n",
       "    .dataframe tbody tr th {\n",
       "        vertical-align: top;\n",
       "    }\n",
       "\n",
       "    .dataframe thead th {\n",
       "        text-align: right;\n",
       "    }\n",
       "</style>\n",
       "<table border=\"1\" class=\"dataframe\">\n",
       "  <thead>\n",
       "    <tr style=\"text-align: right;\">\n",
       "      <th></th>\n",
       "      <th>price</th>\n",
       "      <th>rating</th>\n",
       "    </tr>\n",
       "  </thead>\n",
       "  <tbody>\n",
       "    <tr>\n",
       "      <th>0</th>\n",
       "      <td>10.0</td>\n",
       "      <td>10</td>\n",
       "    </tr>\n",
       "    <tr>\n",
       "      <th>1</th>\n",
       "      <td>11.0</td>\n",
       "      <td>10</td>\n",
       "    </tr>\n",
       "    <tr>\n",
       "      <th>2</th>\n",
       "      <td>12.0</td>\n",
       "      <td>10</td>\n",
       "    </tr>\n",
       "    <tr>\n",
       "      <th>3</th>\n",
       "      <td>13.0</td>\n",
       "      <td>10</td>\n",
       "    </tr>\n",
       "    <tr>\n",
       "      <th>4</th>\n",
       "      <td>14.0</td>\n",
       "      <td>13</td>\n",
       "    </tr>\n",
       "    <tr>\n",
       "      <th>5</th>\n",
       "      <td>15.0</td>\n",
       "      <td>20</td>\n",
       "    </tr>\n",
       "    <tr>\n",
       "      <th>6</th>\n",
       "      <td>17.5</td>\n",
       "      <td>35</td>\n",
       "    </tr>\n",
       "    <tr>\n",
       "      <th>7</th>\n",
       "      <td>18.0</td>\n",
       "      <td>44</td>\n",
       "    </tr>\n",
       "    <tr>\n",
       "      <th>8</th>\n",
       "      <td>18.5</td>\n",
       "      <td>52</td>\n",
       "    </tr>\n",
       "    <tr>\n",
       "      <th>9</th>\n",
       "      <td>19.0</td>\n",
       "      <td>55</td>\n",
       "    </tr>\n",
       "    <tr>\n",
       "      <th>10</th>\n",
       "      <td>21.0</td>\n",
       "      <td>80</td>\n",
       "    </tr>\n",
       "    <tr>\n",
       "      <th>11</th>\n",
       "      <td>22.0</td>\n",
       "      <td>83</td>\n",
       "    </tr>\n",
       "    <tr>\n",
       "      <th>12</th>\n",
       "      <td>23.0</td>\n",
       "      <td>83</td>\n",
       "    </tr>\n",
       "    <tr>\n",
       "      <th>13</th>\n",
       "      <td>24.0</td>\n",
       "      <td>83</td>\n",
       "    </tr>\n",
       "    <tr>\n",
       "      <th>14</th>\n",
       "      <td>25.0</td>\n",
       "      <td>85</td>\n",
       "    </tr>\n",
       "    <tr>\n",
       "      <th>15</th>\n",
       "      <td>28.0</td>\n",
       "      <td>100</td>\n",
       "    </tr>\n",
       "    <tr>\n",
       "      <th>16</th>\n",
       "      <td>29.0</td>\n",
       "      <td>100</td>\n",
       "    </tr>\n",
       "    <tr>\n",
       "      <th>17</th>\n",
       "      <td>30.0</td>\n",
       "      <td>100</td>\n",
       "    </tr>\n",
       "    <tr>\n",
       "      <th>18</th>\n",
       "      <td>31.0</td>\n",
       "      <td>100</td>\n",
       "    </tr>\n",
       "    <tr>\n",
       "      <th>19</th>\n",
       "      <td>31.0</td>\n",
       "      <td>100</td>\n",
       "    </tr>\n",
       "  </tbody>\n",
       "</table>\n",
       "</div>"
      ],
      "text/plain": [
       "    price  rating\n",
       "0    10.0      10\n",
       "1    11.0      10\n",
       "2    12.0      10\n",
       "3    13.0      10\n",
       "4    14.0      13\n",
       "5    15.0      20\n",
       "6    17.5      35\n",
       "7    18.0      44\n",
       "8    18.5      52\n",
       "9    19.0      55\n",
       "10   21.0      80\n",
       "11   22.0      83\n",
       "12   23.0      83\n",
       "13   24.0      83\n",
       "14   25.0      85\n",
       "15   28.0     100\n",
       "16   29.0     100\n",
       "17   30.0     100\n",
       "18   31.0     100\n",
       "19   31.0     100"
      ]
     },
     "execution_count": 1,
     "metadata": {},
     "output_type": "execute_result"
    }
   ],
   "source": [
    "import pandas as pd\n",
    " \n",
    "# initialize data of lists.\n",
    "data = {'price':[10,11,12,13,14,15,17.5,18,18.5,19,21,22,23,24,25,28,29,30,31,31],\n",
    "        'rating':[10,10,10,10,13,20,35,44,52,55,80,83,83,83,85,100,100,100,100,100]}\n",
    " \n",
    "# Create DataFrame\n",
    "df = pd.DataFrame(data)\n",
    "df"
   ]
  },
  {
   "cell_type": "code",
   "execution_count": 6,
   "id": "b0ddf614",
   "metadata": {
    "ExecuteTime": {
     "end_time": "2022-04-08T03:33:35.556803Z",
     "start_time": "2022-04-08T03:33:35.550105Z"
    }
   },
   "outputs": [],
   "source": [
    "import pandas as pd\n",
    "import matplotlib.pyplot as plt\n",
    "#from sklearn import datasets  \n",
    "import numpy as np\n",
    "from sklearn.model_selection import train_test_split\n",
    "from sklearn.tree import DecisionTreeClassifier\n",
    "from sklearn.tree import DecisionTreeRegressor\n",
    "from sklearn import tree\n",
    "from sklearn.metrics import classification_report\n",
    "from sklearn import preprocessing"
   ]
  },
  {
   "cell_type": "code",
   "execution_count": 7,
   "id": "2cf5d97d",
   "metadata": {
    "ExecuteTime": {
     "end_time": "2022-04-08T03:36:52.651969Z",
     "start_time": "2022-04-08T03:36:52.646022Z"
    }
   },
   "outputs": [],
   "source": [
    "array=df.values\n",
    "#array.reshape(-1, 1)\n",
    "X=array[:,0]\n",
    "Y=array[:,1]\n",
    "X=X.reshape(1,-1)\n",
    "Y=Y.reshape(1,-1)"
   ]
  },
  {
   "cell_type": "code",
   "execution_count": 8,
   "id": "5a83cdde",
   "metadata": {
    "ExecuteTime": {
     "end_time": "2022-04-08T03:28:54.173741Z",
     "start_time": "2022-04-08T03:28:54.165201Z"
    }
   },
   "outputs": [
    {
     "data": {
      "text/plain": [
       "array([[10. , 11. , 12. , 13. , 14. , 15. , 17.5, 18. , 18.5, 19. , 21. ,\n",
       "        22. , 23. , 24. , 25. , 28. , 29. , 30. , 31. , 31. ]])"
      ]
     },
     "execution_count": 8,
     "metadata": {},
     "output_type": "execute_result"
    }
   ],
   "source": [
    "X"
   ]
  },
  {
   "cell_type": "code",
   "execution_count": 9,
   "id": "4f5068ef",
   "metadata": {},
   "outputs": [],
   "source": [
    "import numpy as np"
   ]
  },
  {
   "cell_type": "code",
   "execution_count": 10,
   "id": "1053e721",
   "metadata": {
    "ExecuteTime": {
     "end_time": "2022-04-08T03:42:15.980782Z",
     "start_time": "2022-04-08T03:42:15.945037Z"
    }
   },
   "outputs": [
    {
     "data": {
      "text/plain": [
       "DecisionTreeRegressor(max_depth=2)"
      ]
     },
     "execution_count": 10,
     "metadata": {},
     "output_type": "execute_result"
    }
   ],
   "source": [
    "model = DecisionTreeRegressor(max_depth=2)\n",
    "model.fit(X,Y)"
   ]
  },
  {
   "cell_type": "code",
   "execution_count": 11,
   "id": "b7339581",
   "metadata": {},
   "outputs": [
    {
     "data": {
      "text/plain": [
       "array([[ 10.,  10.,  10.,  10.,  13.,  20.,  35.,  44.,  52.,  55.,  80.,\n",
       "         83.,  83.,  83.,  85., 100., 100., 100., 100., 100.]])"
      ]
     },
     "execution_count": 11,
     "metadata": {},
     "output_type": "execute_result"
    }
   ],
   "source": [
    "model.predict(X)"
   ]
  },
  {
   "cell_type": "code",
   "execution_count": 12,
   "id": "7ce9b9ed",
   "metadata": {},
   "outputs": [
    {
     "data": {
      "text/html": [
       "<div>\n",
       "<style scoped>\n",
       "    .dataframe tbody tr th:only-of-type {\n",
       "        vertical-align: middle;\n",
       "    }\n",
       "\n",
       "    .dataframe tbody tr th {\n",
       "        vertical-align: top;\n",
       "    }\n",
       "\n",
       "    .dataframe thead th {\n",
       "        text-align: right;\n",
       "    }\n",
       "</style>\n",
       "<table border=\"1\" class=\"dataframe\">\n",
       "  <thead>\n",
       "    <tr style=\"text-align: right;\">\n",
       "      <th></th>\n",
       "      <th>price</th>\n",
       "      <th>rating</th>\n",
       "      <th>Predictions</th>\n",
       "    </tr>\n",
       "  </thead>\n",
       "  <tbody>\n",
       "    <tr>\n",
       "      <th>0</th>\n",
       "      <td>10.0</td>\n",
       "      <td>10</td>\n",
       "      <td>10.0</td>\n",
       "    </tr>\n",
       "    <tr>\n",
       "      <th>1</th>\n",
       "      <td>11.0</td>\n",
       "      <td>10</td>\n",
       "      <td>10.0</td>\n",
       "    </tr>\n",
       "    <tr>\n",
       "      <th>2</th>\n",
       "      <td>12.0</td>\n",
       "      <td>10</td>\n",
       "      <td>10.0</td>\n",
       "    </tr>\n",
       "    <tr>\n",
       "      <th>3</th>\n",
       "      <td>13.0</td>\n",
       "      <td>10</td>\n",
       "      <td>10.0</td>\n",
       "    </tr>\n",
       "    <tr>\n",
       "      <th>4</th>\n",
       "      <td>14.0</td>\n",
       "      <td>13</td>\n",
       "      <td>13.0</td>\n",
       "    </tr>\n",
       "    <tr>\n",
       "      <th>5</th>\n",
       "      <td>15.0</td>\n",
       "      <td>20</td>\n",
       "      <td>20.0</td>\n",
       "    </tr>\n",
       "    <tr>\n",
       "      <th>6</th>\n",
       "      <td>17.5</td>\n",
       "      <td>35</td>\n",
       "      <td>35.0</td>\n",
       "    </tr>\n",
       "    <tr>\n",
       "      <th>7</th>\n",
       "      <td>18.0</td>\n",
       "      <td>44</td>\n",
       "      <td>44.0</td>\n",
       "    </tr>\n",
       "    <tr>\n",
       "      <th>8</th>\n",
       "      <td>18.5</td>\n",
       "      <td>52</td>\n",
       "      <td>52.0</td>\n",
       "    </tr>\n",
       "    <tr>\n",
       "      <th>9</th>\n",
       "      <td>19.0</td>\n",
       "      <td>55</td>\n",
       "      <td>55.0</td>\n",
       "    </tr>\n",
       "    <tr>\n",
       "      <th>10</th>\n",
       "      <td>21.0</td>\n",
       "      <td>80</td>\n",
       "      <td>80.0</td>\n",
       "    </tr>\n",
       "    <tr>\n",
       "      <th>11</th>\n",
       "      <td>22.0</td>\n",
       "      <td>83</td>\n",
       "      <td>83.0</td>\n",
       "    </tr>\n",
       "    <tr>\n",
       "      <th>12</th>\n",
       "      <td>23.0</td>\n",
       "      <td>83</td>\n",
       "      <td>83.0</td>\n",
       "    </tr>\n",
       "    <tr>\n",
       "      <th>13</th>\n",
       "      <td>24.0</td>\n",
       "      <td>83</td>\n",
       "      <td>83.0</td>\n",
       "    </tr>\n",
       "    <tr>\n",
       "      <th>14</th>\n",
       "      <td>25.0</td>\n",
       "      <td>85</td>\n",
       "      <td>85.0</td>\n",
       "    </tr>\n",
       "    <tr>\n",
       "      <th>15</th>\n",
       "      <td>28.0</td>\n",
       "      <td>100</td>\n",
       "      <td>100.0</td>\n",
       "    </tr>\n",
       "    <tr>\n",
       "      <th>16</th>\n",
       "      <td>29.0</td>\n",
       "      <td>100</td>\n",
       "      <td>100.0</td>\n",
       "    </tr>\n",
       "    <tr>\n",
       "      <th>17</th>\n",
       "      <td>30.0</td>\n",
       "      <td>100</td>\n",
       "      <td>100.0</td>\n",
       "    </tr>\n",
       "    <tr>\n",
       "      <th>18</th>\n",
       "      <td>31.0</td>\n",
       "      <td>100</td>\n",
       "      <td>100.0</td>\n",
       "    </tr>\n",
       "    <tr>\n",
       "      <th>19</th>\n",
       "      <td>31.0</td>\n",
       "      <td>100</td>\n",
       "      <td>100.0</td>\n",
       "    </tr>\n",
       "  </tbody>\n",
       "</table>\n",
       "</div>"
      ],
      "text/plain": [
       "    price  rating  Predictions\n",
       "0    10.0      10         10.0\n",
       "1    11.0      10         10.0\n",
       "2    12.0      10         10.0\n",
       "3    13.0      10         10.0\n",
       "4    14.0      13         13.0\n",
       "5    15.0      20         20.0\n",
       "6    17.5      35         35.0\n",
       "7    18.0      44         44.0\n",
       "8    18.5      52         52.0\n",
       "9    19.0      55         55.0\n",
       "10   21.0      80         80.0\n",
       "11   22.0      83         83.0\n",
       "12   23.0      83         83.0\n",
       "13   24.0      83         83.0\n",
       "14   25.0      85         85.0\n",
       "15   28.0     100        100.0\n",
       "16   29.0     100        100.0\n",
       "17   30.0     100        100.0\n",
       "18   31.0     100        100.0\n",
       "19   31.0     100        100.0"
      ]
     },
     "execution_count": 12,
     "metadata": {},
     "output_type": "execute_result"
    }
   ],
   "source": [
    "df['Predictions']=model.predict(X).reshape(-1,1)\n",
    "df"
   ]
  },
  {
   "cell_type": "code",
   "execution_count": 13,
   "id": "e1595642",
   "metadata": {},
   "outputs": [
    {
     "name": "stdout",
     "output_type": "stream",
     "text": [
      "[[ 10.   10. ]\n",
      " [ 11.   10. ]\n",
      " [ 12.   10. ]\n",
      " [ 13.   10. ]\n",
      " [ 14.   13. ]\n",
      " [ 15.   20. ]\n",
      " [ 17.5  35. ]\n",
      " [ 18.   44. ]\n",
      " [ 18.5  52. ]\n",
      " [ 19.   55. ]\n",
      " [ 21.   80. ]\n",
      " [ 22.   83. ]\n",
      " [ 23.   83. ]\n",
      " [ 24.   83. ]\n",
      " [ 25.   85. ]\n",
      " [ 28.  100. ]\n",
      " [ 29.  100. ]\n",
      " [ 30.  100. ]\n",
      " [ 31.  100. ]\n",
      " [ 31.  100. ]]\n"
     ]
    }
   ],
   "source": [
    "dataset = np.array(\n",
    "[[10,10],\n",
    "[11,10],\n",
    "[12,10],\n",
    "[13,10],\n",
    "[14,13],\n",
    "[15,20],\n",
    "[17.5,35],\n",
    "[18,44],\n",
    "[18.5,52],\n",
    "[19,55],\n",
    "[21,80],\n",
    "[22,83],\n",
    "[23,83],\n",
    "[24,83],\n",
    "[25,85],\n",
    "[28,100],\n",
    "[29,100],\n",
    "[30,100],\n",
    "[31,100],\n",
    "[31,100]\n",
    "])\n",
    "  \n",
    "# print the dataset\n",
    "print(dataset) "
   ]
  },
  {
   "cell_type": "code",
   "execution_count": 14,
   "id": "fd55e11a",
   "metadata": {},
   "outputs": [
    {
     "name": "stdout",
     "output_type": "stream",
     "text": [
      "[[10]\n",
      " [11]\n",
      " [12]\n",
      " [13]\n",
      " [14]\n",
      " [15]\n",
      " [17]\n",
      " [18]\n",
      " [18]\n",
      " [19]\n",
      " [21]\n",
      " [22]\n",
      " [23]\n",
      " [24]\n",
      " [25]\n",
      " [28]\n",
      " [29]\n",
      " [30]\n",
      " [31]\n",
      " [31]]\n"
     ]
    }
   ],
   "source": [
    "# select all rows by : and column 1\n",
    "# by 1:2 representing features\n",
    "X = dataset[:, 0:1].astype(int) \n",
    "  \n",
    "# print X\n",
    "print(X)"
   ]
  },
  {
   "cell_type": "code",
   "execution_count": 15,
   "id": "6ee2fa8d",
   "metadata": {},
   "outputs": [
    {
     "name": "stdout",
     "output_type": "stream",
     "text": [
      "[ 10  10  10  10  13  20  35  44  52  55  80  83  83  83  85 100 100 100\n",
      " 100 100]\n"
     ]
    }
   ],
   "source": [
    "# select all rows by : and column 2\n",
    "# by 2 to Y representing labels\n",
    "y = dataset[:, 1].astype(int) \n",
    "  \n",
    "# print y\n",
    "print(y)"
   ]
  },
  {
   "cell_type": "code",
   "execution_count": 16,
   "id": "8e1c4c2c",
   "metadata": {},
   "outputs": [
    {
     "data": {
      "text/plain": [
       "DecisionTreeRegressor(max_depth=2, random_state=0)"
      ]
     },
     "execution_count": 16,
     "metadata": {},
     "output_type": "execute_result"
    }
   ],
   "source": [
    "# import the regressor\n",
    "from sklearn.tree import DecisionTreeRegressor \n",
    "  \n",
    "# create a regressor object\n",
    "regressor = DecisionTreeRegressor(random_state = 0, max_depth=2) \n",
    "  \n",
    "# fit the regressor with X and Y data\n",
    "regressor.fit(X, y)"
   ]
  },
  {
   "cell_type": "code",
   "execution_count": 160,
   "id": "50af8ff9",
   "metadata": {},
   "outputs": [
    {
     "name": "stdout",
     "output_type": "stream",
     "text": [
      "Predicted price:  82\n",
      "\n"
     ]
    }
   ],
   "source": [
    "# predicting a new value\n",
    "  \n",
    "# test the output by changing values, like 22.5\n",
    "y_pred = regressor.predict([[22.5]])\n",
    "  \n",
    "# print the predicted rating\n",
    "print(\"Predicted rating: % d\\n\"% y_pred) "
   ]
  },
  {
   "cell_type": "code",
   "execution_count": 161,
   "id": "a540781e",
   "metadata": {},
   "outputs": [
    {
     "data": {
      "image/png": "[encoded data removed]",
      "text/plain": [
       "<Figure size 432x288 with 1 Axes>"
      ]
     },
     "metadata": {
      "needs_background": "light"
     },
     "output_type": "display_data"
    }
   ],
   "source": [
    "# arange for creating a range of values \n",
    "# from min value of X to max value of X \n",
    "# with a difference of 0.01 between two\n",
    "# consecutive values\n",
    "X_grid = np.arange(min(X), max(X), 0.01)\n",
    "  \n",
    "# reshape for reshaping the data into \n",
    "# a len(X_grid)*1 array, i.e. to make\n",
    "# a column out of the X_grid values\n",
    "X_grid = X_grid.reshape((len(X_grid), 1)) \n",
    "  \n",
    "# scatter plot for original data\n",
    "plt.scatter(X, y, color = 'red')\n",
    "  \n",
    "# plot predicted data\n",
    "plt.plot(X_grid, regressor.predict(X_grid), color = 'blue') \n",
    "  \n",
    "# specify title\n",
    "plt.title('Price to Review Ratings (Decision Tree Regression)') \n",
    "  \n",
    "# specify X axis label\n",
    "plt.xlabel('Price')\n",
    "  \n",
    "# specify Y axis label\n",
    "plt.ylabel('Review Ratings')\n",
    "  \n",
    "# show the plot\n",
    "plt.show()"
   ]
  },
  {
   "cell_type": "code",
   "execution_count": 162,
   "id": "dbb73efa",
   "metadata": {},
   "outputs": [],
   "source": [
    "# import export_graphviz\n",
    "from sklearn.tree import export_graphviz \n",
    "  \n",
    "# export the decision tree to a tree.dot file\n",
    "# for visualizing the plot easily anywhere\n",
    "export_graphviz(regressor, out_file ='tree.dot',\n",
    "               feature_names =['Price'])"
   ]
  },
  {
   "cell_type": "code",
   "execution_count": null,
   "id": "f2eefc07",
   "metadata": {},
   "outputs": [],
   "source": [
    "https://dreampuf.github.io/GraphvizOnline/#digraph%20Tree%20%7B%0D%0Anode%20%5Bshape%3Dbox%5D%20%3B%0D%0A0%20%5Blabel%3D%22Price%20%3C%3D%2020.0%5Cnmse%20%3D%201267.728%5Cnsamples%20%3D%2020%5Cnvalue%20%3D%2058.65%22%5D%20%3B%0D%0A1%20%5Blabel%3D%22Price%20%3C%3D%2016.0%5Cnmse%20%3D%20315.09%5Cnsamples%20%3D%2010%5Cnvalue%20%3D%2025.9%22%5D%20%3B%0D%0A0%20-%3E%201%20%5Blabeldistance%3D2.5%2C%20labelangle%3D45%2C%20headlabel%3D%22True%22%5D%20%3B%0D%0A2%20%5Blabel%3D%22mse%20%3D%2013.472%5Cnsamples%20%3D%206%5Cnvalue%20%3D%2012.167%22%5D%20%3B%0D%0A1%20-%3E%202%20%3B%0D%0A3%20%5Blabel%3D%22mse%20%3D%2060.25%5Cnsamples%20%3D%204%5Cnvalue%20%3D%2046.5%22%5D%20%3B%0D%0A1%20-%3E%203%20%3B%0D%0A4%20%5Blabel%3D%22Price%20%3C%3D%2026.5%5Cnmse%20%3D%2075.24%5Cnsamples%20%3D%2010%5Cnvalue%20%3D%2091.4%22%5D%20%3B%0D%0A0%20-%3E%204%20%5Blabeldistance%3D2.5%2C%20labelangle%3D-45%2C%20headlabel%3D%22False%22%5D%20%3B%0D%0A5%20%5Blabel%3D%22mse%20%3D%202.56%5Cnsamples%20%3D%205%5Cnvalue%20%3D%2082.8%22%5D%20%3B%0D%0A4%20-%3E%205%20%3B%0D%0A6%20%5Blabel%3D%22mse%20%3D%200.0%5Cnsamples%20%3D%205%5Cnvalue%20%3D%20100.0%22%5D%20%3B%0D%0A4%20-%3E%206%20%3B%0D%0A%7D%0D%0A"
   ]
  }
 ],
 "metadata": {
  "kernelspec": {
   "display_name": "Python 3 (ipykernel)",
   "language": "python",
   "name": "python3"
  },
  "language_info": {
   "codemirror_mode": {
    "name": "ipython",
    "version": 3
   },
   "file_extension": ".py",
   "mimetype": "text/x-python",
   "name": "python",
   "nbconvert_exporter": "python",
   "pygments_lexer": "ipython3",
   "version": "3.9.12"
  }
 },
 "nbformat": 4,
 "nbformat_minor": 5
}

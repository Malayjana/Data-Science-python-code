{
 "cells": [
  {
   "cell_type": "code",
   "execution_count": null,
   "id": "f7e499f1",
   "metadata": {},
   "outputs": [],
   "source": [
    "# If the number is positive, we print an appropriate message\n",
    "num = -2\n",
    "if num > 0:\n",
    "    print(num, \"is a positive number.\")"
   ]
  },
  {
   "cell_type": "code",
   "execution_count": null,
   "id": "9cceb303",
   "metadata": {},
   "outputs": [],
   "source": [
    "num=-5\n",
    "if num < 0:\n",
    "    print(num, \"is a negative number\")"
   ]
  },
  {
   "cell_type": "code",
   "execution_count": null,
   "id": "826c5486",
   "metadata": {},
   "outputs": [],
   "source": [
    "num = -1\n",
    "if num > 0:\n",
    "    print(num, \"is a positive number.\")\n",
    "\n",
    "print(\"This will be always printed.\")"
   ]
  },
  {
   "cell_type": "code",
   "execution_count": null,
   "id": "09cec38f",
   "metadata": {},
   "outputs": [],
   "source": [
    "num=5\n",
    "if num > 0:\n",
    "    print(num, \"is a positive number.\")\n",
    "\n",
    "print(\"This is also always printed.\")"
   ]
  },
  {
   "cell_type": "code",
   "execution_count": null,
   "id": "bbd53ed9",
   "metadata": {},
   "outputs": [],
   "source": [
    "# If else:\n",
    "num = -6\n",
    "if(num>=0):\n",
    "    print(num, \"is either positive or zero\")\n",
    "else:\n",
    "    print(num, \"is a negative number\")"
   ]
  },
  {
   "cell_type": "code",
   "execution_count": null,
   "id": "10e73903",
   "metadata": {},
   "outputs": [],
   "source": [
    "num=8\n",
    "if num<0:\n",
    "    print(num, \"is a negative number\")\n",
    "else:\n",
    "    print(num, 'is either zero or positive')"
   ]
  },
  {
   "cell_type": "code",
   "execution_count": null,
   "id": "9081975d",
   "metadata": {},
   "outputs": [],
   "source": [
    "num=0\n",
    "if (num>0):\n",
    "    print(num, 'is a positive number')\n",
    "elif (num<0):\n",
    "    print(num, 'is a negative number')\n",
    "else:\n",
    "    print(num, 'is neither positive nor negative')"
   ]
  },
  {
   "cell_type": "code",
   "execution_count": null,
   "id": "96ea88e7",
   "metadata": {},
   "outputs": [],
   "source": [
    "rating=5\n",
    "if rating==5:\n",
    "    print(\"Excellent\")\n",
    "elif rating in range(3,5):\n",
    "    print(\"Good\")\n",
    "else:\n",
    "    print(\"Poor\")"
   ]
  },
  {
   "cell_type": "code",
   "execution_count": null,
   "id": "41afef59",
   "metadata": {},
   "outputs": [],
   "source": [
    "rating=6\n",
    "if (rating>=8):\n",
    "    print(\"the product is excellent\")\n",
    "elif (rating>=6) & (rating<8):\n",
    "    print(\"the product is good\")\n",
    "elif (rating>=4) & (rating<6):\n",
    "    print(\"the product is average\")\n",
    "else:\n",
    "    print(\"the product is bad\")"
   ]
  },
  {
   "cell_type": "code",
   "execution_count": null,
   "id": "5e1b1cd0",
   "metadata": {},
   "outputs": [],
   "source": [
    "## Define a function with conditional statement\n",
    "\n",
    "def max_num(num1,num2,num3):    \n",
    "    if (num1>=num2) and (num1>=num3):\n",
    "        return num1\n",
    "    elif (num2>=num1) and (num2>=num3):\n",
    "        return num2\n",
    "    else:\n",
    "        return num3\n",
    "\n",
    "max_num(80,141,3)"
   ]
  },
  {
   "cell_type": "code",
   "execution_count": null,
   "id": "80b65d1a",
   "metadata": {},
   "outputs": [],
   "source": [
    "max_num(400,60,1150)"
   ]
  },
  {
   "cell_type": "code",
   "execution_count": null,
   "id": "69a06555",
   "metadata": {},
   "outputs": [],
   "source": [
    "# Nested If\n",
    "num = int(input(\"Enter a number: \"))\n",
    "if (num >= 0):\n",
    "    if (num == 0):\n",
    "        print(\"Zero\")\n",
    "    else:\n",
    "        print(\"Positive number\")\n",
    "else:\n",
    "    print(\"Negative number\")"
   ]
  },
  {
   "cell_type": "code",
   "execution_count": 1,
   "id": "5fc49bbd",
   "metadata": {},
   "outputs": [
    {
     "name": "stdout",
     "output_type": "stream",
     "text": [
      "pizza is a yummy snack\n",
      "burger is a yummy snack\n",
      "shawarma is a yummy snack\n",
      "franky is a yummy snack\n",
      "Good day!\n"
     ]
    }
   ],
   "source": [
    "############# Loops #####################\n",
    "# for Loop\n",
    "# for each item in sequence , last item reached , no - body of loop , yes , exit loop\n",
    "\n",
    "#Ex:1\n",
    "\n",
    "snacks = ['pizza','burger','shawarma','franky']\n",
    "\n",
    "for x in snacks:\n",
    "    print(x, \"is a yummy snack\")\n",
    "\n",
    "print(\"Good day!\")\n"
   ]
  },
  {
   "cell_type": "code",
   "execution_count": 2,
   "id": "661f0ed2",
   "metadata": {},
   "outputs": [
    {
     "name": "stdout",
     "output_type": "stream",
     "text": [
      "216\n"
     ]
    }
   ],
   "source": [
    "x=[1,2,3,4,5,[6,7]]\n",
    "y=[1,2,3,[4,4.5],5,6]\n",
    "z=[1,[2,2.5],3,4,5,6]\n",
    "count=0\n",
    "for i in x:\n",
    "    for j in y:\n",
    "        for k in z:\n",
    "            count+=1\n",
    "            \n",
    "print(count)            "
   ]
  },
  {
   "cell_type": "code",
   "execution_count": 4,
   "id": "da60a645",
   "metadata": {},
   "outputs": [
    {
     "name": "stdout",
     "output_type": "stream",
     "text": [
      "1 1 1\n",
      "1 1 2\n",
      "1 1 3\n",
      "1 1 4\n",
      "1 1 5\n",
      "1 1 6\n",
      "1 2 1\n",
      "1 2 2\n",
      "1 2 3\n",
      "1 2 4\n",
      "1 2 5\n",
      "1 2 6\n",
      "1 3 1\n",
      "1 3 2\n",
      "1 3 3\n",
      "1 3 4\n",
      "1 3 5\n",
      "1 3 6\n",
      "1 4 1\n",
      "1 4 2\n",
      "1 4 3\n",
      "1 4 4\n",
      "1 4 5\n",
      "1 4 6\n",
      "1 5 1\n",
      "1 5 2\n",
      "1 5 3\n",
      "1 5 4\n",
      "1 5 5\n",
      "1 5 6\n",
      "1 6 1\n",
      "1 6 2\n",
      "1 6 3\n",
      "1 6 4\n",
      "1 6 5\n",
      "1 6 6\n",
      "2 1 1\n",
      "2 1 2\n",
      "2 1 3\n",
      "2 1 4\n",
      "2 1 5\n",
      "2 1 6\n",
      "2 2 1\n",
      "2 2 2\n",
      "2 2 3\n",
      "2 2 4\n",
      "2 2 5\n",
      "2 2 6\n",
      "2 3 1\n",
      "2 3 2\n",
      "2 3 3\n",
      "2 3 4\n",
      "2 3 5\n",
      "2 3 6\n",
      "2 4 1\n",
      "2 4 2\n",
      "2 4 3\n",
      "2 4 4\n",
      "2 4 5\n",
      "2 4 6\n",
      "2 5 1\n",
      "2 5 2\n",
      "2 5 3\n",
      "2 5 4\n",
      "2 5 5\n",
      "2 5 6\n",
      "2 6 1\n",
      "2 6 2\n",
      "2 6 3\n",
      "2 6 4\n",
      "2 6 5\n",
      "2 6 6\n",
      "3 1 1\n",
      "3 1 2\n",
      "3 1 3\n",
      "3 1 4\n",
      "3 1 5\n",
      "3 1 6\n",
      "3 2 1\n",
      "3 2 2\n",
      "3 2 3\n",
      "3 2 4\n",
      "3 2 5\n",
      "3 2 6\n",
      "3 3 1\n",
      "3 3 2\n",
      "3 3 3\n",
      "3 3 4\n",
      "3 3 5\n",
      "3 3 6\n",
      "3 4 1\n",
      "3 4 2\n",
      "3 4 3\n",
      "3 4 4\n",
      "3 4 5\n",
      "3 4 6\n",
      "3 5 1\n",
      "3 5 2\n",
      "3 5 3\n",
      "3 5 4\n",
      "3 5 5\n",
      "3 5 6\n",
      "3 6 1\n",
      "3 6 2\n",
      "3 6 3\n",
      "3 6 4\n",
      "3 6 5\n",
      "3 6 6\n",
      "4 1 1\n",
      "4 1 2\n",
      "4 1 3\n",
      "4 1 4\n",
      "4 1 5\n",
      "4 1 6\n",
      "4 2 1\n",
      "4 2 2\n",
      "4 2 3\n",
      "4 2 4\n",
      "4 2 5\n",
      "4 2 6\n",
      "4 3 1\n",
      "4 3 2\n",
      "4 3 3\n",
      "4 3 4\n",
      "4 3 5\n",
      "4 3 6\n",
      "4 4 1\n",
      "4 4 2\n",
      "4 4 3\n",
      "4 4 4\n",
      "4 4 5\n",
      "4 4 6\n",
      "4 5 1\n",
      "4 5 2\n",
      "4 5 3\n",
      "4 5 4\n",
      "4 5 5\n",
      "4 5 6\n",
      "4 6 1\n",
      "4 6 2\n",
      "4 6 3\n",
      "4 6 4\n",
      "4 6 5\n",
      "4 6 6\n",
      "5 1 1\n",
      "5 1 2\n",
      "5 1 3\n",
      "5 1 4\n",
      "5 1 5\n",
      "5 1 6\n",
      "5 2 1\n",
      "5 2 2\n",
      "5 2 3\n",
      "5 2 4\n",
      "5 2 5\n",
      "5 2 6\n",
      "5 3 1\n",
      "5 3 2\n",
      "5 3 3\n",
      "5 3 4\n",
      "5 3 5\n",
      "5 3 6\n",
      "5 4 1\n",
      "5 4 2\n",
      "5 4 3\n",
      "5 4 4\n",
      "5 4 5\n",
      "5 4 6\n",
      "5 5 1\n",
      "5 5 2\n",
      "5 5 3\n",
      "5 5 4\n",
      "5 5 5\n",
      "5 5 6\n",
      "5 6 1\n",
      "5 6 2\n",
      "5 6 3\n",
      "5 6 4\n",
      "5 6 5\n",
      "5 6 6\n",
      "6 1 1\n",
      "6 1 2\n",
      "6 1 3\n",
      "6 1 4\n",
      "6 1 5\n",
      "6 1 6\n",
      "6 2 1\n",
      "6 2 2\n",
      "6 2 3\n",
      "6 2 4\n",
      "6 2 5\n",
      "6 2 6\n",
      "6 3 1\n",
      "6 3 2\n",
      "6 3 3\n",
      "6 3 4\n",
      "6 3 5\n",
      "6 3 6\n",
      "6 4 1\n",
      "6 4 2\n",
      "6 4 3\n",
      "6 4 4\n",
      "6 4 5\n",
      "6 4 6\n",
      "6 5 1\n",
      "6 5 2\n",
      "6 5 3\n",
      "6 5 4\n",
      "6 5 5\n",
      "6 5 6\n",
      "6 6 1\n",
      "6 6 2\n",
      "6 6 3\n",
      "6 6 4\n",
      "6 6 5\n",
      "6 6 6\n"
     ]
    }
   ],
   "source": [
    "x=[1,2,3,4,5,6]\n",
    "y=[1,2,3,4,5,6]\n",
    "z=[1,2,3,4,5,6]\n",
    "for i in x:\n",
    "    for j in y:\n",
    "        for k in z:\n",
    "            print(i,j,k)"
   ]
  },
  {
   "cell_type": "code",
   "execution_count": 5,
   "id": "aaba66d6",
   "metadata": {},
   "outputs": [
    {
     "name": "stdout",
     "output_type": "stream",
     "text": [
      "Please give a number: 5\n",
      "1\n",
      "2\n",
      "6\n",
      "24\n",
      "120\n",
      "factorial =   120\n"
     ]
    }
   ],
   "source": [
    "#Ex:2\n",
    "\n",
    "num = int(input(\"Please give a number: \"))\n",
    "\n",
    "factorial =1\n",
    "if num < 0:\n",
    "    print(\"Number must be positive\")\n",
    "elif num == 0:\n",
    "    print(\"factorial = 1\")\n",
    "else:\n",
    "    for i in range(1,num+1):       #(If user gives input of 5, range will have the values [1,2,3,4,5], only if we give the upper limit in the range as num+1, i.e.6 in this case)\n",
    "        factorial = factorial * i   #range has now the values [1,2,3,4,5]\n",
    "        print(factorial)\n",
    "    print(\"factorial =  \" ,factorial)\n",
    "\n",
    "#What is a factorial?\n",
    "#5*4*3*2*1\n",
    "#7*6*5*4*3*2*1"
   ]
  },
  {
   "cell_type": "code",
   "execution_count": 7,
   "id": "909f1383",
   "metadata": {},
   "outputs": [
    {
     "name": "stdout",
     "output_type": "stream",
     "text": [
      "Enter a number3\n",
      "3 is a prime number not composite\n"
     ]
    }
   ],
   "source": [
    "num = int(input('Enter a number'))\n",
    "if num == 0 & num == 1:\n",
    "    print(num,'number is neither prime nor composite')\n",
    "elif num > 1:\n",
    "    for i in range(2,num):\n",
    "        if(num%i == 0):\n",
    "            print(num,'is not a prime but composite number')\n",
    "        else:\n",
    "            print(num,'is a prime number not composite')\n",
    "else:\n",
    "    print('please enter positive number only')"
   ]
  },
  {
   "cell_type": "code",
   "execution_count": null,
   "id": "ce43c412",
   "metadata": {},
   "outputs": [],
   "source": [
    "x = range(5)\n",
    "for i in x:\n",
    "    print(i)"
   ]
  },
  {
   "cell_type": "code",
   "execution_count": null,
   "id": "aebaf9c5",
   "metadata": {},
   "outputs": [],
   "source": [
    "#Nested for loop\n",
    "\n",
    "for i in range(0,3):     #[0,1,2]\n",
    "    for j in range(0,3):  #[0,1,2]\n",
    "        print(i,j)"
   ]
  },
  {
   "cell_type": "code",
   "execution_count": null,
   "id": "1e245e30",
   "metadata": {},
   "outputs": [],
   "source": [
    "#Nested for loop\n",
    "\n",
    "for i in range(0,6):     #[0,1,2]\n",
    "    for j in range(0,3):  #[0,1,2]\n",
    "        print(i,j)"
   ]
  },
  {
   "cell_type": "code",
   "execution_count": null,
   "id": "b5d927aa",
   "metadata": {},
   "outputs": [],
   "source": [
    "# For loop with else:\n",
    "digits = [0, 1, 5]\n",
    "\n",
    "for i in digits:\n",
    "    print(i)\n",
    "else:\n",
    "    print(\"No items left.\")"
   ]
  },
  {
   "cell_type": "code",
   "execution_count": 8,
   "id": "2736a8f0",
   "metadata": {},
   "outputs": [
    {
     "name": "stdout",
     "output_type": "stream",
     "text": [
      "sum: 1\n",
      "i: 2\n",
      "sum: 3\n",
      "i: 3\n",
      "sum: 6\n",
      "i: 4\n",
      "sum: 10\n",
      "i: 5\n",
      "sum: 15\n",
      "i: 6\n",
      "The sum is 15\n"
     ]
    }
   ],
   "source": [
    "########################## While Loop #############################\n",
    "# Program to add n natural numbers\n",
    "# Enter the loop , test expression , true , body of code , if false - exit loop.\n",
    "# numbers upto\n",
    "# sum = 1+2+3+...+n\n",
    "# To take input from the user,\n",
    "# n = int(input(\"Enter n: \"))\n",
    "n = 5\n",
    "# initialize sum and counter\n",
    "sum_n = 0\n",
    "i = 1\n",
    "\n",
    "while i <= n:\n",
    "    sum_n = sum_n + i      #sum_n = 10+5 = 15\n",
    "    i = i+1    # update counter    i= 5+1 = 6\n",
    "    print(\"sum:\", sum_n)\n",
    "    print(\"i:\" , i)\n",
    "\n",
    "# print the sum\n",
    "print(\"The sum is\", sum_n)"
   ]
  },
  {
   "cell_type": "markdown",
   "id": "5833f2a0",
   "metadata": {},
   "source": [
    "At the start,\n",
    "\n",
    "n= 4, i=1, sum=0\n",
    "\n",
    "Since i<=n   (1<4)\n",
    "\n",
    "sum= sum+i = 0+1 = 1\n",
    "\n",
    "i= i+1 = 1+1 = 2\n",
    "\n",
    "Still i<=n    (2<=4)\n",
    "\n",
    "sum= sum+i = 1+2 = 3\n",
    "\n",
    "i= i+1 = 2+1 = 3\n",
    "\n",
    "Still i<=n    (3<=4)\n",
    "\n",
    "sum= sum+i = 3+3 = 6\n",
    "\n",
    "i= i+1 = 3+1 = 4\n",
    "\n",
    "Still i<=n    (4<=4)\n",
    "\n",
    "sum= sum+i = 6+4 = 10\n",
    "\n",
    "i= i+1 = 4+1 = 5\n",
    "\n",
    "At this time 'while' condition no longer fulfills because i=5 & 5 is not <=4\n",
    "\n",
    "Hence the loop stops."
   ]
  },
  {
   "cell_type": "code",
   "execution_count": null,
   "id": "c6b0a1e6",
   "metadata": {},
   "outputs": [],
   "source": [
    "a=int(input(\"Please give a natural number: \"))\n",
    "b=list(range(1,a+1)) \n",
    "print(b)\n",
    "# initialize sum and counter\n",
    "sum = 0\n",
    "while sum<b[-1]:\n",
    "    for m in b:\n",
    "        sum=sum+m\n",
    "        print(\"sum:\", sum)\n",
    "    \n",
    "# print the sum\n",
    "print(\"The sum is\", sum) "
   ]
  },
  {
   "cell_type": "code",
   "execution_count": null,
   "id": "7393516f",
   "metadata": {},
   "outputs": [],
   "source": [
    "b=[1,2,3,4,5,7]\n",
    "# initialize sum and counter\n",
    "sum = 0\n",
    "while sum<b[-1]:\n",
    "    for m in b:\n",
    "        sum=sum+m\n",
    "        print(\"sum:\", sum)\n",
    "    \n",
    "# print the sum\n",
    "print(\"The sum is\", sum)   "
   ]
  },
  {
   "cell_type": "code",
   "execution_count": null,
   "id": "b87c1300",
   "metadata": {},
   "outputs": [],
   "source": [
    "c=['a','v','n','i','s','h']\n",
    "c\n",
    "\n",
    "for i in c:\n",
    "    print(i,end='')"
   ]
  },
  {
   "cell_type": "code",
   "execution_count": null,
   "id": "528e467d",
   "metadata": {},
   "outputs": [],
   "source": [
    "# While loop with else\n",
    "# Example to illustrate\n",
    "# the use of else statement\n",
    "# with the while loop\n",
    "\n",
    "counter = 0\n",
    "\n",
    "while counter < 3:\n",
    "    print(\"Inside loop\")\n",
    "    counter = counter + 1\n",
    "else:\n",
    "    print(\"Inside else\")"
   ]
  },
  {
   "cell_type": "code",
   "execution_count": null,
   "id": "c65b8fe8",
   "metadata": {},
   "outputs": [],
   "source": [
    "#Ex: 1\n",
    "count = 0\n",
    "while count < 20:\n",
    "    print(\"Digit: \", count)\n",
    "    count = count + 1\n",
    "\n",
    "print(\"Thank you\")"
   ]
  },
  {
   "cell_type": "code",
   "execution_count": null,
   "id": "7156f552",
   "metadata": {},
   "outputs": [],
   "source": [
    "#Ex: 2\n",
    "\n",
    "import random\n",
    "\n",
    "n = 20\n",
    "\n",
    "random_number = int(n * random.random())\n",
    "\n",
    "guess = 0\n",
    "\n",
    "while guess != random_number:\n",
    "    guess = int(input(\"New Number: \"))\n",
    "    if guess > 0:\n",
    "        if guess > random_number:\n",
    "            print(\"number is too large\")\n",
    "        elif guess < random_number:\n",
    "            print(\"number is too small\")\n",
    "    else:\n",
    "        print(\"sorry that you are giveup!\")\n",
    "        break\n",
    "else:\n",
    "    print(\"Congratulations. YOU WON!\")"
   ]
  },
  {
   "cell_type": "code",
   "execution_count": null,
   "id": "bb5de436",
   "metadata": {},
   "outputs": [],
   "source": []
  },
  {
   "cell_type": "code",
   "execution_count": null,
   "id": "49259d73",
   "metadata": {},
   "outputs": [],
   "source": [
    "a=10\n",
    "print(id(a))"
   ]
  },
  {
   "cell_type": "code",
   "execution_count": null,
   "id": "91c46429",
   "metadata": {},
   "outputs": [],
   "source": [
    "id(10)"
   ]
  },
  {
   "cell_type": "code",
   "execution_count": null,
   "id": "de520e62",
   "metadata": {},
   "outputs": [],
   "source": []
  }
 ],
 "metadata": {
  "kernelspec": {
   "display_name": "Python 3",
   "language": "python",
   "name": "python3"
  },
  "language_info": {
   "codemirror_mode": {
    "name": "ipython",
    "version": 3
   },
   "file_extension": ".py",
   "mimetype": "text/x-python",
   "name": "python",
   "nbconvert_exporter": "python",
   "pygments_lexer": "ipython3",
   "version": "3.8.8"
  }
 },
 "nbformat": 4,
 "nbformat_minor": 5
}

{
 "cells": [
  {
   "cell_type": "markdown",
   "metadata": {},
   "source": [
    "# Day-Wise Agenda\n",
    "\n",
    "Day 1. Installation & Introduction to Data Structures/Libraries, Cells in Jupyter Notebook\n",
    "\n",
    "Day 2. List, Dictionary, Tuple\n",
    "\n",
    "Day 3. Set, Pandas Library Introduction\n",
    "\n",
    "Day 4. Pandas Library\n",
    "\n",
    "Day 5. Numpy Library \n",
    "\n",
    "Day 6. Matplotlib & Seaborn\n",
    "\n",
    "Day 7. String based operations\n",
    "\n",
    "Day 8. Conditional Statements, For loop, while loop"
   ]
  },
  {
   "cell_type": "markdown",
   "metadata": {},
   "source": [
    "Python file extension:\n",
    "Python Basics Data Analytics.ipynb\n",
    "\n",
    "|Data Types:| Description|\n",
    "|-----------|------------|\n",
    "| Numerical:|Integer, Float, Complex, Binary|\n",
    "| Character:|String/Object|\n",
    "| Boollean: |True/False, 1/0|\n",
    "| Date:     |Numerical| \n",
    "\n",
    "\n",
    "Data Structures:\n",
    "- List\n",
    "- Dictionary\n",
    "- Tuple\n",
    "- Set\n",
    "- Array (NumPy)\n",
    "- Series (Pandas)\n",
    "- DataFrame (Pandas)\n",
    "\n",
    "Libraries:\n",
    "- NumPy (Numerical Calculations)\n",
    "- Pandas (For data arranged in table)\n",
    "- Matplotlib (Visualization)\n",
    "- Seaborn (Visualization)\n",
    "- Scikit Learn (Machine Learning)\n",
    "- NLTK & Spacy(Natural Language Processing)\n",
    "- Tensorflow/Keras (Deep Learning)\n",
    "- Scipy Stats (For statistics)\n",
    "\n",
    "\n",
    "| Item         | Price | # In stock |\n",
    "|--------------|:-----:|-----------:|\n",
    "| Apples       |  1.99 |        739 |\n",
    "| Bananas      |  1.89 |          6 |\n",
    "\n",
    "\n",
    "## Usage of brackets\n",
    "\n",
    "- Box Bracket [] : To create a list, or to access any value from a list, tuple, dataframe, array, series or a key from a dictionary, after loc & iloc function in a dataframe\n",
    "\n",
    "- Curve Bracket () : To create a tuple, and for all the functions & methods, except loc & iloc are followed by curve bracket.\n",
    "\n",
    "- Flower bracket {} : To create a dictionary or a set data structure"
   ]
  },
  {
   "cell_type": "markdown",
   "metadata": {},
   "source": [
    "# Creating Objects"
   ]
  },
  {
   "cell_type": "code",
   "execution_count": null,
   "metadata": {},
   "outputs": [],
   "source": [
    "#Creating an object\n",
    "a=9\n",
    "a"
   ]
  },
  {
   "cell_type": "code",
   "execution_count": null,
   "metadata": {},
   "outputs": [],
   "source": [
    "a"
   ]
  },
  {
   "cell_type": "code",
   "execution_count": null,
   "metadata": {},
   "outputs": [],
   "source": [
    "del(a)"
   ]
  },
  {
   "cell_type": "code",
   "execution_count": null,
   "metadata": {},
   "outputs": [],
   "source": [
    "a"
   ]
  },
  {
   "cell_type": "code",
   "execution_count": null,
   "metadata": {},
   "outputs": [],
   "source": [
    "#To check the value of an object intermediate in the cell, 'print' function is required.\n",
    "#An object called on the last line of a cell will display its value even without a print function\n",
    "A=4\n",
    "print(A)\n",
    "a=9\n",
    "a"
   ]
  },
  {
   "cell_type": "code",
   "execution_count": null,
   "metadata": {},
   "outputs": [],
   "source": [
    "a,A"
   ]
  },
  {
   "cell_type": "code",
   "execution_count": 4,
   "metadata": {
    "scrolled": true
   },
   "outputs": [
    {
     "data": {
      "text/plain": [
       "(8, 6, 10)"
      ]
     },
     "execution_count": 4,
     "metadata": {},
     "output_type": "execute_result"
    }
   ],
   "source": [
    "a=8\n",
    "b=6\n",
    "c=10\n",
    "a,b,c"
   ]
  },
  {
   "cell_type": "code",
   "execution_count": null,
   "metadata": {},
   "outputs": [],
   "source": [
    "A=10\n",
    "a=9\n",
    "print(A)\n",
    "print(a)\n",
    "del(a)\n",
    "del(A)\n",
    "a,A"
   ]
  },
  {
   "cell_type": "code",
   "execution_count": null,
   "metadata": {},
   "outputs": [],
   "source": [
    "c"
   ]
  },
  {
   "cell_type": "code",
   "execution_count": null,
   "metadata": {},
   "outputs": [],
   "source": [
    "a=9\n",
    "print(id(a))\n",
    "a=10\n",
    "print(id(a))"
   ]
  },
  {
   "cell_type": "code",
   "execution_count": null,
   "metadata": {},
   "outputs": [],
   "source": [
    "id(5)"
   ]
  },
  {
   "cell_type": "markdown",
   "metadata": {},
   "source": [
    "# Commenting in Jupyter Cell"
   ]
  },
  {
   "cell_type": "code",
   "execution_count": null,
   "metadata": {},
   "outputs": [],
   "source": [
    "#Object & Variable\n",
    "\n",
    "'''This is a multi-line note.\n",
    "You need triple single quotes to write\n",
    "multi-line notes'''\n",
    "\n",
    "\"\"\"This is a multi-line note.\n",
    "You need inverted commas to write\n",
    "multi-line notes\"\"\""
   ]
  },
  {
   "cell_type": "code",
   "execution_count": null,
   "metadata": {},
   "outputs": [],
   "source": [
    "\"This is a comment\""
   ]
  },
  {
   "cell_type": "code",
   "execution_count": 1,
   "metadata": {
    "scrolled": false
   },
   "outputs": [
    {
     "name": "stdout",
     "output_type": "stream",
     "text": [
      "5\n"
     ]
    },
    {
     "data": {
      "text/plain": [
       "3"
      ]
     },
     "execution_count": 1,
     "metadata": {},
     "output_type": "execute_result"
    }
   ],
   "source": [
    "#Creating an object\n",
    "#Since we are calling object 'b' on the last line, \n",
    "#  it is showing result even if we don't give the print function.\n",
    "a=5\n",
    "print(a)\n",
    "b=3\n",
    "b"
   ]
  },
  {
   "cell_type": "code",
   "execution_count": 2,
   "metadata": {},
   "outputs": [
    {
     "data": {
      "text/plain": [
       "3"
      ]
     },
     "execution_count": 2,
     "metadata": {},
     "output_type": "execute_result"
    }
   ],
   "source": [
    "#Only the value for 'b' will be called out.\n",
    "#'a' will not be called, since it is in the middle of the cell, without the print function.\n",
    "a=5\n",
    "a\n",
    "b=3\n",
    "b"
   ]
  },
  {
   "cell_type": "code",
   "execution_count": 3,
   "metadata": {
    "scrolled": false
   },
   "outputs": [
    {
     "name": "stdout",
     "output_type": "stream",
     "text": [
      "2\n",
      "8\n",
      "6\n"
     ]
    },
    {
     "data": {
      "text/plain": [
       "6"
      ]
     },
     "execution_count": 3,
     "metadata": {},
     "output_type": "execute_result"
    }
   ],
   "source": [
    "#Python does a line by line execution\n",
    "a=2\n",
    "print(a)\n",
    "b=8\n",
    "print(b)\n",
    "c=6\n",
    "print(c)\n",
    "c"
   ]
  },
  {
   "cell_type": "code",
   "execution_count": 4,
   "metadata": {
    "scrolled": true
   },
   "outputs": [
    {
     "name": "stdout",
     "output_type": "stream",
     "text": [
      "Value of a: 5\n",
      "Value of b: 3\n",
      "Value of b after replacement: 8\n",
      "Value of A: 2\n"
     ]
    }
   ],
   "source": [
    "#We can change the value in an object in the common cell\n",
    "a=5\n",
    "print('Value of a:',a)\n",
    "b=3\n",
    "print('Value of b:',b)\n",
    "b=8\n",
    "print('Value of b after replacement:',b)\n",
    "A=2\n",
    "print('Value of A:',A)"
   ]
  },
  {
   "cell_type": "code",
   "execution_count": 5,
   "metadata": {},
   "outputs": [
    {
     "name": "stdout",
     "output_type": "stream",
     "text": [
      "Value of A: 2\n",
      "Value of b: 8\n"
     ]
    },
    {
     "data": {
      "text/plain": [
       "8"
      ]
     },
     "execution_count": 5,
     "metadata": {},
     "output_type": "execute_result"
    }
   ],
   "source": [
    "#We can save the value of one object into another.\n",
    "A=2\n",
    "b=8\n",
    "print('Value of A:',A)\n",
    "print('Value of b:',b)\n",
    "A=b\n",
    "A"
   ]
  },
  {
   "cell_type": "code",
   "execution_count": 6,
   "metadata": {},
   "outputs": [
    {
     "ename": "NameError",
     "evalue": "name 'd' is not defined",
     "output_type": "error",
     "traceback": [
      "\u001b[1;31m---------------------------------------------------------------------------\u001b[0m",
      "\u001b[1;31mNameError\u001b[0m                                 Traceback (most recent call last)",
      "Input \u001b[1;32mIn [6]\u001b[0m, in \u001b[0;36m<cell line: 1>\u001b[1;34m()\u001b[0m\n\u001b[1;32m----> 1\u001b[0m \u001b[43md\u001b[49m\n",
      "\u001b[1;31mNameError\u001b[0m: name 'd' is not defined"
     ]
    }
   ],
   "source": [
    "d"
   ]
  },
  {
   "cell_type": "code",
   "execution_count": null,
   "metadata": {},
   "outputs": [],
   "source": [
    "A=d"
   ]
  },
  {
   "cell_type": "code",
   "execution_count": null,
   "metadata": {},
   "outputs": [],
   "source": [
    "d=A\n",
    "d"
   ]
  },
  {
   "cell_type": "code",
   "execution_count": 7,
   "metadata": {},
   "outputs": [
    {
     "name": "stdout",
     "output_type": "stream",
     "text": [
      "6\n",
      "3\n",
      "7\n"
     ]
    }
   ],
   "source": [
    "a=6\n",
    "b=3\n",
    "c=7\n",
    "print(a);print(b);print(c)"
   ]
  },
  {
   "cell_type": "code",
   "execution_count": 8,
   "metadata": {},
   "outputs": [
    {
     "name": "stdout",
     "output_type": "stream",
     "text": [
      "6 3 7\n"
     ]
    }
   ],
   "source": [
    "print(a,b,c)"
   ]
  },
  {
   "cell_type": "code",
   "execution_count": 9,
   "metadata": {},
   "outputs": [
    {
     "name": "stdout",
     "output_type": "stream",
     "text": [
      "The value of a is - 6\n",
      "The value of b is - 3\n",
      "The value of c is : 7\n"
     ]
    }
   ],
   "source": [
    "print('The value of a is -', a)\n",
    "print('The value of b is -', b)\n",
    "print('The value of c is :', c)"
   ]
  },
  {
   "cell_type": "code",
   "execution_count": 10,
   "metadata": {},
   "outputs": [
    {
     "data": {
      "text/plain": [
       "7"
      ]
     },
     "execution_count": 10,
     "metadata": {},
     "output_type": "execute_result"
    }
   ],
   "source": [
    "A=c\n",
    "A"
   ]
  },
  {
   "cell_type": "markdown",
   "metadata": {},
   "source": [
    "###### Difference in Output with/without 'print' statement"
   ]
  },
  {
   "cell_type": "code",
   "execution_count": 11,
   "metadata": {},
   "outputs": [
    {
     "name": "stdout",
     "output_type": "stream",
     "text": [
      "3\n"
     ]
    }
   ],
   "source": [
    "b=3\n",
    "print(b)"
   ]
  },
  {
   "cell_type": "code",
   "execution_count": null,
   "metadata": {
    "scrolled": true
   },
   "outputs": [],
   "source": [
    "b=4\n",
    "b"
   ]
  },
  {
   "cell_type": "code",
   "execution_count": 12,
   "metadata": {},
   "outputs": [
    {
     "name": "stdout",
     "output_type": "stream",
     "text": [
      "4\n",
      "5\n",
      "6\n"
     ]
    },
    {
     "ename": "NameError",
     "evalue": "name 'pYthon' is not defined",
     "output_type": "error",
     "traceback": [
      "\u001b[1;31m---------------------------------------------------------------------------\u001b[0m",
      "\u001b[1;31mNameError\u001b[0m                                 Traceback (most recent call last)",
      "Input \u001b[1;32mIn [12]\u001b[0m, in \u001b[0;36m<cell line: 9>\u001b[1;34m()\u001b[0m\n\u001b[0;32m      7\u001b[0m \u001b[38;5;28mprint\u001b[39m(PYTHON)\n\u001b[0;32m      8\u001b[0m \u001b[38;5;28mprint\u001b[39m(python)\n\u001b[1;32m----> 9\u001b[0m \u001b[43mpYthon\u001b[49m\n",
      "\u001b[1;31mNameError\u001b[0m: name 'pYthon' is not defined"
     ]
    }
   ],
   "source": [
    "#Python is spelling sensitive as well as case-sensitive\n",
    "Python=4\n",
    "PYTHON=5\n",
    "python=6\n",
    "\n",
    "print(Python)\n",
    "print(PYTHON)\n",
    "print(python)\n",
    "pYthon"
   ]
  },
  {
   "cell_type": "code",
   "execution_count": 13,
   "metadata": {},
   "outputs": [
    {
     "name": "stdout",
     "output_type": "stream",
     "text": [
      "2515304671632\n"
     ]
    },
    {
     "data": {
      "text/plain": [
       "4"
      ]
     },
     "execution_count": 13,
     "metadata": {},
     "output_type": "execute_result"
    }
   ],
   "source": [
    "#id() gives the location number of an object in Python memory\n",
    "A=4\n",
    "print(id(A))\n",
    "A"
   ]
  },
  {
   "cell_type": "code",
   "execution_count": 14,
   "metadata": {},
   "outputs": [
    {
     "name": "stdout",
     "output_type": "stream",
     "text": [
      "4\n"
     ]
    },
    {
     "ename": "NameError",
     "evalue": "name 'A' is not defined",
     "output_type": "error",
     "traceback": [
      "\u001b[1;31m---------------------------------------------------------------------------\u001b[0m",
      "\u001b[1;31mNameError\u001b[0m                                 Traceback (most recent call last)",
      "Input \u001b[1;32mIn [14]\u001b[0m, in \u001b[0;36m<cell line: 3>\u001b[1;34m()\u001b[0m\n\u001b[0;32m      1\u001b[0m \u001b[38;5;28mprint\u001b[39m(A)\n\u001b[0;32m      2\u001b[0m \u001b[38;5;28;01mdel\u001b[39;00m(A)\n\u001b[1;32m----> 3\u001b[0m \u001b[43mA\u001b[49m\n",
      "\u001b[1;31mNameError\u001b[0m: name 'A' is not defined"
     ]
    }
   ],
   "source": [
    "print(A)\n",
    "del(A)\n",
    "A"
   ]
  },
  {
   "cell_type": "code",
   "execution_count": null,
   "metadata": {},
   "outputs": [],
   "source": [
    "a = \"Python\"\n",
    "print(type(a))\n",
    "#ID Function is used to return the identity of an object\n",
    "#This identity has to be unique and constant for this object.\n",
    "#They are actually the memory address, here in Python it is the unique id. \n",
    "#This function is generally used internally in Python.\n",
    "print(id(a))\n",
    "print(a)"
   ]
  },
  {
   "cell_type": "markdown",
   "metadata": {},
   "source": [
    "# Data Types\n",
    "\n",
    "- Integer \n",
    "- String\n",
    "- Float\n",
    "- Boollean\n",
    "- Complex\n",
    "- Object"
   ]
  },
  {
   "cell_type": "code",
   "execution_count": 15,
   "metadata": {},
   "outputs": [
    {
     "name": "stdout",
     "output_type": "stream",
     "text": [
      "pYthon\n"
     ]
    },
    {
     "data": {
      "text/plain": [
       "str"
      ]
     },
     "execution_count": 15,
     "metadata": {},
     "output_type": "execute_result"
    }
   ],
   "source": [
    "b='pYthon'\n",
    "print(b)\n",
    "type(b)"
   ]
  },
  {
   "cell_type": "code",
   "execution_count": 21,
   "metadata": {
    "scrolled": true
   },
   "outputs": [
    {
     "data": {
      "text/plain": [
       "int"
      ]
     },
     "execution_count": 21,
     "metadata": {},
     "output_type": "execute_result"
    }
   ],
   "source": [
    "Data_Science=5\n",
    "type(Data_Science)"
   ]
  },
  {
   "cell_type": "code",
   "execution_count": 18,
   "metadata": {},
   "outputs": [
    {
     "name": "stdout",
     "output_type": "stream",
     "text": [
      "<class 'float'>\n"
     ]
    },
    {
     "data": {
      "text/plain": [
       "float"
      ]
     },
     "execution_count": 18,
     "metadata": {},
     "output_type": "execute_result"
    }
   ],
   "source": [
    "b=5.6\n",
    "print(type(b))\n",
    "type(b)"
   ]
  },
  {
   "cell_type": "code",
   "execution_count": 22,
   "metadata": {},
   "outputs": [
    {
     "data": {
      "text/plain": [
       "complex"
      ]
     },
     "execution_count": 22,
     "metadata": {},
     "output_type": "execute_result"
    }
   ],
   "source": [
    "w=5+6j\n",
    "type(w)"
   ]
  },
  {
   "cell_type": "code",
   "execution_count": null,
   "metadata": {},
   "outputs": [],
   "source": [
    "j=6j\n",
    "type(j)"
   ]
  },
  {
   "cell_type": "code",
   "execution_count": 24,
   "metadata": {},
   "outputs": [
    {
     "data": {
      "text/plain": [
       "(5+0j)"
      ]
     },
     "execution_count": 24,
     "metadata": {},
     "output_type": "execute_result"
    }
   ],
   "source": [
    "5+0j"
   ]
  },
  {
   "cell_type": "code",
   "execution_count": 23,
   "metadata": {},
   "outputs": [
    {
     "name": "stdout",
     "output_type": "stream",
     "text": [
      "<class 'complex'>\n"
     ]
    },
    {
     "data": {
      "text/plain": [
       "complex"
      ]
     },
     "execution_count": 23,
     "metadata": {},
     "output_type": "execute_result"
    }
   ],
   "source": [
    "x=3j\n",
    "print(type(x))\n",
    "type(x)"
   ]
  },
  {
   "cell_type": "code",
   "execution_count": 29,
   "metadata": {},
   "outputs": [
    {
     "name": "stdout",
     "output_type": "stream",
     "text": [
      "<class 'bool'>\n",
      "<class 'bool'>\n"
     ]
    }
   ],
   "source": [
    "a=False\n",
    "b=True\n",
    "print(type(a))\n",
    "print(type(b))"
   ]
  },
  {
   "cell_type": "code",
   "execution_count": 30,
   "metadata": {},
   "outputs": [
    {
     "ename": "TypeError",
     "evalue": "type() takes 1 or 3 arguments",
     "output_type": "error",
     "traceback": [
      "\u001b[1;31m---------------------------------------------------------------------------\u001b[0m",
      "\u001b[1;31mTypeError\u001b[0m                                 Traceback (most recent call last)",
      "Input \u001b[1;32mIn [30]\u001b[0m, in \u001b[0;36m<cell line: 1>\u001b[1;34m()\u001b[0m\n\u001b[1;32m----> 1\u001b[0m \u001b[38;5;28mprint\u001b[39m(\u001b[38;5;28;43mtype\u001b[39;49m\u001b[43m(\u001b[49m\u001b[43ma\u001b[49m\u001b[43m,\u001b[49m\u001b[43mb\u001b[49m\u001b[43m)\u001b[49m)\n",
      "\u001b[1;31mTypeError\u001b[0m: type() takes 1 or 3 arguments"
     ]
    }
   ],
   "source": [
    "print(type(a,b))"
   ]
  },
  {
   "cell_type": "code",
   "execution_count": 31,
   "metadata": {},
   "outputs": [
    {
     "name": "stdout",
     "output_type": "stream",
     "text": [
      "<class 'bool'> <class 'bool'>\n"
     ]
    }
   ],
   "source": [
    "print(type(a),type(b))"
   ]
  },
  {
   "cell_type": "code",
   "execution_count": 28,
   "metadata": {},
   "outputs": [
    {
     "name": "stdout",
     "output_type": "stream",
     "text": [
      "The type of a is <class 'bool'>\n",
      "The type of b is <class 'str'>\n",
      "The type of c is <class 'str'>\n"
     ]
    }
   ],
   "source": [
    "a=True\n",
    "b='TRUE'\n",
    "c='True'\n",
    "\n",
    "print('The type of a is',type(a))\n",
    "print('The type of b is',type(b))\n",
    "print('The type of c is',type(c))"
   ]
  },
  {
   "cell_type": "code",
   "execution_count": 37,
   "metadata": {},
   "outputs": [
    {
     "data": {
      "text/plain": [
       "str"
      ]
     },
     "execution_count": 37,
     "metadata": {},
     "output_type": "execute_result"
    }
   ],
   "source": [
    "a='9'\n",
    "type(a)"
   ]
  },
  {
   "cell_type": "code",
   "execution_count": 38,
   "metadata": {},
   "outputs": [
    {
     "data": {
      "text/plain": [
       "int"
      ]
     },
     "execution_count": 38,
     "metadata": {},
     "output_type": "execute_result"
    }
   ],
   "source": [
    "a=int(a)\n",
    "type(a)"
   ]
  },
  {
   "cell_type": "code",
   "execution_count": 39,
   "metadata": {},
   "outputs": [
    {
     "data": {
      "text/plain": [
       "str"
      ]
     },
     "execution_count": 39,
     "metadata": {},
     "output_type": "execute_result"
    }
   ],
   "source": [
    "a='R'\n",
    "type(a)"
   ]
  },
  {
   "cell_type": "code",
   "execution_count": 40,
   "metadata": {
    "scrolled": true
   },
   "outputs": [
    {
     "ename": "ValueError",
     "evalue": "invalid literal for int() with base 10: 'R'",
     "output_type": "error",
     "traceback": [
      "\u001b[1;31m---------------------------------------------------------------------------\u001b[0m",
      "\u001b[1;31mValueError\u001b[0m                                Traceback (most recent call last)",
      "Input \u001b[1;32mIn [40]\u001b[0m, in \u001b[0;36m<cell line: 1>\u001b[1;34m()\u001b[0m\n\u001b[1;32m----> 1\u001b[0m a\u001b[38;5;241m=\u001b[39m\u001b[38;5;28;43mint\u001b[39;49m\u001b[43m(\u001b[49m\u001b[43ma\u001b[49m\u001b[43m)\u001b[49m\n\u001b[0;32m      2\u001b[0m \u001b[38;5;28mtype\u001b[39m(a)\n",
      "\u001b[1;31mValueError\u001b[0m: invalid literal for int() with base 10: 'R'"
     ]
    }
   ],
   "source": [
    "a=int(a)\n",
    "type(a)"
   ]
  },
  {
   "cell_type": "code",
   "execution_count": 42,
   "metadata": {},
   "outputs": [],
   "source": [
    "R=8"
   ]
  },
  {
   "cell_type": "code",
   "execution_count": 43,
   "metadata": {},
   "outputs": [],
   "source": [
    "a=R"
   ]
  },
  {
   "cell_type": "code",
   "execution_count": 44,
   "metadata": {},
   "outputs": [
    {
     "data": {
      "text/plain": [
       "8"
      ]
     },
     "execution_count": 44,
     "metadata": {},
     "output_type": "execute_result"
    }
   ],
   "source": [
    "a"
   ]
  },
  {
   "cell_type": "code",
   "execution_count": 48,
   "metadata": {},
   "outputs": [
    {
     "ename": "NameError",
     "evalue": "name 'z' is not defined",
     "output_type": "error",
     "traceback": [
      "\u001b[1;31m---------------------------------------------------------------------------\u001b[0m",
      "\u001b[1;31mNameError\u001b[0m                                 Traceback (most recent call last)",
      "Input \u001b[1;32mIn [48]\u001b[0m, in \u001b[0;36m<cell line: 2>\u001b[1;34m()\u001b[0m\n\u001b[0;32m      1\u001b[0m \u001b[38;5;66;03m#c='Neha'\u001b[39;00m\n\u001b[1;32m----> 2\u001b[0m b\u001b[38;5;241m=\u001b[39m\u001b[38;5;28mbool\u001b[39m(\u001b[43mz\u001b[49m)\n\u001b[0;32m      3\u001b[0m \u001b[38;5;28mprint\u001b[39m(b)\n",
      "\u001b[1;31mNameError\u001b[0m: name 'z' is not defined"
     ]
    }
   ],
   "source": [
    "#c='Neha'\n",
    "b=bool(z)\n",
    "print(b)"
   ]
  },
  {
   "cell_type": "code",
   "execution_count": 52,
   "metadata": {},
   "outputs": [
    {
     "name": "stdout",
     "output_type": "stream",
     "text": [
      "True\n"
     ]
    }
   ],
   "source": [
    "c='Neha'\n",
    "b=bool(c)\n",
    "print(b)"
   ]
  },
  {
   "cell_type": "code",
   "execution_count": 57,
   "metadata": {},
   "outputs": [
    {
     "name": "stdout",
     "output_type": "stream",
     "text": [
      "True\n",
      "Neha\n"
     ]
    }
   ],
   "source": [
    "c='Neha'\n",
    "b=bool(c)\n",
    "print(b)\n",
    "print(c)"
   ]
  },
  {
   "cell_type": "code",
   "execution_count": 55,
   "metadata": {},
   "outputs": [
    {
     "name": "stdout",
     "output_type": "stream",
     "text": [
      "1\n"
     ]
    }
   ],
   "source": [
    "a=True\n",
    "b=int(a)\n",
    "print(b)"
   ]
  },
  {
   "cell_type": "code",
   "execution_count": 56,
   "metadata": {},
   "outputs": [
    {
     "name": "stdout",
     "output_type": "stream",
     "text": [
      "False\n"
     ]
    }
   ],
   "source": [
    "a=0\n",
    "b=bool(a)\n",
    "print(b)"
   ]
  },
  {
   "cell_type": "code",
   "execution_count": 58,
   "metadata": {},
   "outputs": [
    {
     "name": "stdout",
     "output_type": "stream",
     "text": [
      "True\n"
     ]
    }
   ],
   "source": [
    "a=4\n",
    "b=bool(a)\n",
    "print(b)"
   ]
  },
  {
   "cell_type": "code",
   "execution_count": 59,
   "metadata": {},
   "outputs": [
    {
     "data": {
      "text/plain": [
       "'6R'"
      ]
     },
     "execution_count": 59,
     "metadata": {},
     "output_type": "execute_result"
    }
   ],
   "source": [
    "a='R'\n",
    "b='6'\n",
    "b+a"
   ]
  },
  {
   "cell_type": "code",
   "execution_count": 60,
   "metadata": {},
   "outputs": [
    {
     "data": {
      "text/plain": [
       "'R6'"
      ]
     },
     "execution_count": 60,
     "metadata": {},
     "output_type": "execute_result"
    }
   ],
   "source": [
    "a+b"
   ]
  },
  {
   "cell_type": "code",
   "execution_count": 61,
   "metadata": {},
   "outputs": [
    {
     "ename": "TypeError",
     "evalue": "can only concatenate str (not \"int\") to str",
     "output_type": "error",
     "traceback": [
      "\u001b[1;31m---------------------------------------------------------------------------\u001b[0m",
      "\u001b[1;31mTypeError\u001b[0m                                 Traceback (most recent call last)",
      "Input \u001b[1;32mIn [61]\u001b[0m, in \u001b[0;36m<cell line: 3>\u001b[1;34m()\u001b[0m\n\u001b[0;32m      1\u001b[0m a\u001b[38;5;241m=\u001b[39m\u001b[38;5;241m6\u001b[39m\n\u001b[0;32m      2\u001b[0m b\u001b[38;5;241m=\u001b[39m\u001b[38;5;124m'\u001b[39m\u001b[38;5;124mR\u001b[39m\u001b[38;5;124m'\u001b[39m\n\u001b[1;32m----> 3\u001b[0m \u001b[43mb\u001b[49m\u001b[38;5;241;43m+\u001b[39;49m\u001b[43ma\u001b[49m\n",
      "\u001b[1;31mTypeError\u001b[0m: can only concatenate str (not \"int\") to str"
     ]
    }
   ],
   "source": [
    "a=6\n",
    "b='R'\n",
    "b+a"
   ]
  },
  {
   "cell_type": "code",
   "execution_count": null,
   "metadata": {},
   "outputs": [],
   "source": [
    "6+'R'"
   ]
  },
  {
   "cell_type": "code",
   "execution_count": 62,
   "metadata": {},
   "outputs": [
    {
     "data": {
      "text/plain": [
       "'DataScience'"
      ]
     },
     "execution_count": 62,
     "metadata": {},
     "output_type": "execute_result"
    }
   ],
   "source": [
    "a='Data'\n",
    "b='Science'\n",
    "a+b"
   ]
  },
  {
   "cell_type": "code",
   "execution_count": 63,
   "metadata": {},
   "outputs": [
    {
     "data": {
      "text/plain": [
       "'Data Science'"
      ]
     },
     "execution_count": 63,
     "metadata": {},
     "output_type": "execute_result"
    }
   ],
   "source": [
    "'Data' + ' ' + 'Science'"
   ]
  },
  {
   "cell_type": "code",
   "execution_count": 64,
   "metadata": {},
   "outputs": [
    {
     "data": {
      "text/plain": [
       "14"
      ]
     },
     "execution_count": 64,
     "metadata": {},
     "output_type": "execute_result"
    }
   ],
   "source": [
    "a=5\n",
    "b=9\n",
    "a+b"
   ]
  },
  {
   "cell_type": "code",
   "execution_count": 65,
   "metadata": {},
   "outputs": [
    {
     "name": "stdout",
     "output_type": "stream",
     "text": [
      "<class 'float'>\n",
      "<class 'int'>\n"
     ]
    },
    {
     "data": {
      "text/plain": [
       "14.6"
      ]
     },
     "execution_count": 65,
     "metadata": {},
     "output_type": "execute_result"
    }
   ],
   "source": [
    "a=5.6\n",
    "print(type(a))\n",
    "b=9\n",
    "print(type(b))\n",
    "a+b"
   ]
  },
  {
   "cell_type": "code",
   "execution_count": 66,
   "metadata": {},
   "outputs": [
    {
     "data": {
      "text/plain": [
       "'56'"
      ]
     },
     "execution_count": 66,
     "metadata": {},
     "output_type": "execute_result"
    }
   ],
   "source": [
    "a='5'\n",
    "b='6'\n",
    "a+b"
   ]
  },
  {
   "cell_type": "code",
   "execution_count": 67,
   "metadata": {},
   "outputs": [
    {
     "name": "stdout",
     "output_type": "stream",
     "text": [
      "10\n",
      "9\n"
     ]
    }
   ],
   "source": [
    "#Boolean value True by default is equivalent to 1\n",
    "#Boolean value False by default is equivalent to 0\n",
    "\n",
    "print(9+True)\n",
    "print(9-False)"
   ]
  },
  {
   "cell_type": "code",
   "execution_count": 68,
   "metadata": {},
   "outputs": [
    {
     "data": {
      "text/plain": [
       "1"
      ]
     },
     "execution_count": 68,
     "metadata": {},
     "output_type": "execute_result"
    }
   ],
   "source": [
    "a=int(True)\n",
    "a"
   ]
  },
  {
   "cell_type": "code",
   "execution_count": 69,
   "metadata": {},
   "outputs": [
    {
     "data": {
      "text/plain": [
       "0"
      ]
     },
     "execution_count": 69,
     "metadata": {},
     "output_type": "execute_result"
    }
   ],
   "source": [
    "a=int(False)\n",
    "a"
   ]
  },
  {
   "cell_type": "code",
   "execution_count": 76,
   "metadata": {},
   "outputs": [
    {
     "name": "stdout",
     "output_type": "stream",
     "text": [
      "50.0 %\n"
     ]
    }
   ],
   "source": [
    "print((25/50)*100,'%')"
   ]
  },
  {
   "cell_type": "code",
   "execution_count": 74,
   "metadata": {},
   "outputs": [
    {
     "data": {
      "text/plain": [
       "6"
      ]
     },
     "execution_count": 74,
     "metadata": {},
     "output_type": "execute_result"
    }
   ],
   "source": [
    "8-2*True"
   ]
  },
  {
   "cell_type": "code",
   "execution_count": null,
   "metadata": {},
   "outputs": [],
   "source": [
    "6+'True'"
   ]
  },
  {
   "cell_type": "code",
   "execution_count": 75,
   "metadata": {},
   "outputs": [
    {
     "data": {
      "text/plain": [
       "14j"
      ]
     },
     "execution_count": 75,
     "metadata": {},
     "output_type": "execute_result"
    }
   ],
   "source": [
    "6j+8j"
   ]
  },
  {
   "cell_type": "code",
   "execution_count": null,
   "metadata": {},
   "outputs": [],
   "source": [
    "TRUE=5"
   ]
  },
  {
   "cell_type": "code",
   "execution_count": null,
   "metadata": {},
   "outputs": [],
   "source": [
    "a=TRUE\n",
    "a"
   ]
  },
  {
   "cell_type": "code",
   "execution_count": null,
   "metadata": {},
   "outputs": [],
   "source": [
    "print(type(TRUE))\n",
    "print(type(a))"
   ]
  },
  {
   "cell_type": "code",
   "execution_count": null,
   "metadata": {},
   "outputs": [],
   "source": [
    "5e+6"
   ]
  },
  {
   "cell_type": "code",
   "execution_count": null,
   "metadata": {},
   "outputs": [],
   "source": [
    "4e-04"
   ]
  },
  {
   "cell_type": "code",
   "execution_count": null,
   "metadata": {},
   "outputs": [],
   "source": [
    "5e+4j"
   ]
  },
  {
   "cell_type": "code",
   "execution_count": null,
   "metadata": {},
   "outputs": [],
   "source": [
    "import numpy as np\n",
    "np.e"
   ]
  },
  {
   "cell_type": "code",
   "execution_count": null,
   "metadata": {},
   "outputs": [],
   "source": [
    "np.pi"
   ]
  },
  {
   "cell_type": "code",
   "execution_count": null,
   "metadata": {},
   "outputs": [],
   "source": [
    "d=False\n",
    "e='FALSE'\n",
    "f='false'\n",
    "g='True'\n",
    "\n",
    "print(type(d))\n",
    "print(type(e))\n",
    "print(type(f))\n",
    "print(type(g))"
   ]
  },
  {
   "cell_type": "markdown",
   "metadata": {},
   "source": [
    "# Operators in Python\n",
    "\n",
    "#### Addition +\n",
    "\n",
    "#### Subtraction -\n",
    "\n",
    "#### Multiplication *\n",
    "\n",
    "#### Division /\n",
    "\n",
    "#### Power **\n",
    "\n",
    "#### Mod %"
   ]
  },
  {
   "cell_type": "code",
   "execution_count": 77,
   "metadata": {},
   "outputs": [
    {
     "data": {
      "text/plain": [
       "14"
      ]
     },
     "execution_count": 77,
     "metadata": {},
     "output_type": "execute_result"
    }
   ],
   "source": [
    "#Addition\n",
    "9+5"
   ]
  },
  {
   "cell_type": "code",
   "execution_count": 78,
   "metadata": {},
   "outputs": [
    {
     "data": {
      "text/plain": [
       "3"
      ]
     },
     "execution_count": 78,
     "metadata": {},
     "output_type": "execute_result"
    }
   ],
   "source": [
    "#Subtraction\n",
    "6-3"
   ]
  },
  {
   "cell_type": "code",
   "execution_count": 79,
   "metadata": {},
   "outputs": [
    {
     "data": {
      "text/plain": [
       "24"
      ]
     },
     "execution_count": 79,
     "metadata": {},
     "output_type": "execute_result"
    }
   ],
   "source": [
    "#Multiplication\n",
    "3*8"
   ]
  },
  {
   "cell_type": "code",
   "execution_count": 80,
   "metadata": {},
   "outputs": [
    {
     "data": {
      "text/plain": [
       "4.5"
      ]
     },
     "execution_count": 80,
     "metadata": {},
     "output_type": "execute_result"
    }
   ],
   "source": [
    "#Division\n",
    "9/2"
   ]
  },
  {
   "cell_type": "code",
   "execution_count": 81,
   "metadata": {},
   "outputs": [
    {
     "data": {
      "text/plain": [
       "4"
      ]
     },
     "execution_count": 81,
     "metadata": {},
     "output_type": "execute_result"
    }
   ],
   "source": [
    "#Floor Division (Returns the quotient rounded to the lower whole value)\n",
    "9//2"
   ]
  },
  {
   "cell_type": "code",
   "execution_count": 82,
   "metadata": {},
   "outputs": [
    {
     "data": {
      "text/plain": [
       "1"
      ]
     },
     "execution_count": 82,
     "metadata": {},
     "output_type": "execute_result"
    }
   ],
   "source": [
    "#Mod\n",
    "9%2"
   ]
  },
  {
   "cell_type": "code",
   "execution_count": 83,
   "metadata": {},
   "outputs": [
    {
     "data": {
      "text/plain": [
       "3"
      ]
     },
     "execution_count": 83,
     "metadata": {},
     "output_type": "execute_result"
    }
   ],
   "source": [
    "23%5"
   ]
  },
  {
   "cell_type": "code",
   "execution_count": 84,
   "metadata": {},
   "outputs": [
    {
     "data": {
      "text/plain": [
       "256"
      ]
     },
     "execution_count": 84,
     "metadata": {},
     "output_type": "execute_result"
    }
   ],
   "source": [
    "#Power\n",
    "2**8\n",
    "\n",
    "2*2*2*2*2*2*2*2"
   ]
  },
  {
   "cell_type": "code",
   "execution_count": 85,
   "metadata": {},
   "outputs": [
    {
     "data": {
      "text/plain": [
       "-236"
      ]
     },
     "execution_count": 85,
     "metadata": {},
     "output_type": "execute_result"
    }
   ],
   "source": [
    "9-7*35"
   ]
  },
  {
   "cell_type": "code",
   "execution_count": null,
   "metadata": {},
   "outputs": [],
   "source": [
    "6**4"
   ]
  },
  {
   "cell_type": "code",
   "execution_count": null,
   "metadata": {},
   "outputs": [],
   "source": [
    "#Concatenating Strings with '+' operator\n",
    "a='+91'\n",
    "b='5151515151'\n",
    "a+' '+b"
   ]
  },
  {
   "cell_type": "code",
   "execution_count": null,
   "metadata": {},
   "outputs": [],
   "source": [
    "a+b"
   ]
  },
  {
   "cell_type": "markdown",
   "metadata": {},
   "source": [
    "# 1234567890"
   ]
  },
  {
   "cell_type": "code",
   "execution_count": null,
   "metadata": {},
   "outputs": [],
   "source": [
    "a='0123456789'\n",
    "b='9876543210'"
   ]
  },
  {
   "cell_type": "code",
   "execution_count": null,
   "metadata": {},
   "outputs": [],
   "source": [
    "a + ' '+ b[0:5]+ ' ' + b[5:]"
   ]
  },
  {
   "cell_type": "code",
   "execution_count": null,
   "metadata": {},
   "outputs": [],
   "source": [
    "a + ' '+ b[:7]+ ' ' + b[3:]"
   ]
  },
  {
   "cell_type": "code",
   "execution_count": null,
   "metadata": {},
   "outputs": [],
   "source": [
    "d='123456789987654321'"
   ]
  },
  {
   "cell_type": "code",
   "execution_count": null,
   "metadata": {},
   "outputs": [],
   "source": [
    "d[2:15]"
   ]
  },
  {
   "cell_type": "code",
   "execution_count": null,
   "metadata": {},
   "outputs": [],
   "source": [
    "d[2:15:5]"
   ]
  },
  {
   "cell_type": "code",
   "execution_count": null,
   "metadata": {},
   "outputs": [],
   "source": [
    "# id of the object will change if we replace a value\n",
    "# the object is first deleted from the memory, and re-created with the new value\n",
    "b=7\n",
    "print(b)\n",
    "print(id(b))\n",
    "b=8\n",
    "print(b)\n",
    "print(id(b))"
   ]
  },
  {
   "cell_type": "code",
   "execution_count": null,
   "metadata": {},
   "outputs": [],
   "source": [
    "a=b+b\n",
    "a"
   ]
  },
  {
   "cell_type": "markdown",
   "metadata": {},
   "source": [
    "### To read values from the end of the object, index can be given as -1\n",
    "\n",
    "So for the string given below, b='123456789'\n",
    "\n",
    "9 = index value will be -1\n",
    "\n",
    "8 = index value will be -2\n",
    "\n",
    "7 = index value will be -3\n",
    ".... & so on"
   ]
  },
  {
   "cell_type": "code",
   "execution_count": null,
   "metadata": {},
   "outputs": [],
   "source": [
    "b='123456789'\n",
    "print(b[-4])\n",
    "print(b[-4:-1])\n",
    "print(b[-4:])"
   ]
  },
  {
   "cell_type": "code",
   "execution_count": null,
   "metadata": {},
   "outputs": [],
   "source": [
    "#Creating object 'DS' with value 5\n",
    "DS=5\n",
    "print(DS)\n",
    "\n",
    "#Creating object 'Python' with value 10\n",
    "Python=10\n",
    "print(Python)\n",
    "\n",
    "print(DS + Python)\n",
    "\n",
    "#Saving 'Python' in 'DS' as a string \n",
    "DS='Python'\n",
    "print(DS)\n",
    "\n",
    "'''Saving 'Python' in 'DS' as an object, \n",
    "so value 10 which was previously stored in 'Python' will be assigned to 'DS' '''\n",
    "DS=Python\n",
    "print(DS)\n",
    "\n",
    "print(DS + Python)"
   ]
  },
  {
   "cell_type": "code",
   "execution_count": null,
   "metadata": {},
   "outputs": [],
   "source": [
    "a=15\n",
    "print(a)\n",
    "del(a)\n",
    "print(a)"
   ]
  },
  {
   "cell_type": "code",
   "execution_count": null,
   "metadata": {},
   "outputs": [],
   "source": [
    "#Always use either single quotes, or double quotes to enclose a string.\n",
    "#If started with single quote, end with single only\n",
    "#If started with double quote, end with double only\n",
    "a = [\"a\", \"b\", \"c\", \"d\",'s\"]\n",
    "a"
   ]
  },
  {
   "cell_type": "code",
   "execution_count": null,
   "metadata": {},
   "outputs": [],
   "source": [
    "a = [\"a\", \"b\", \"c\", \"d\",'s']\n",
    "a"
   ]
  },
  {
   "cell_type": "code",
   "execution_count": null,
   "metadata": {},
   "outputs": [],
   "source": [
    "\"\"\"It's a tiring day. It is very hectic, Too many sessions, Too many meetings, lot of travel, \n",
    "but at the end of the day, day was good\"\"\""
   ]
  },
  {
   "cell_type": "markdown",
   "metadata": {},
   "source": [
    "# Data Structures\n",
    "- List\n",
    "- Tuples\n",
    "- Dictionary\n",
    "- Set\n",
    "- Dataframe (Pandas)\n",
    "- Array (Numpy)\n",
    "- Series (Pandas)"
   ]
  },
  {
   "cell_type": "markdown",
   "metadata": {},
   "source": [
    "# List"
   ]
  },
  {
   "cell_type": "code",
   "execution_count": null,
   "metadata": {},
   "outputs": [],
   "source": [
    "#We create lists with box brackets.\n",
    "list1 = ['Python', 'Java',2013, 2018,[1,2,3,4],54.3, 89.2, 8+5j, 3+4j,True,False]"
   ]
  },
  {
   "cell_type": "code",
   "execution_count": null,
   "metadata": {},
   "outputs": [],
   "source": [
    "list1"
   ]
  },
  {
   "cell_type": "code",
   "execution_count": null,
   "metadata": {
    "scrolled": true
   },
   "outputs": [],
   "source": [
    "print(list1)"
   ]
  },
  {
   "cell_type": "code",
   "execution_count": null,
   "metadata": {},
   "outputs": [],
   "source": [
    "#Python indexing always starts from 0\n",
    "list1[3]"
   ]
  },
  {
   "cell_type": "code",
   "execution_count": null,
   "metadata": {},
   "outputs": [],
   "source": [
    "list1[6]"
   ]
  },
  {
   "cell_type": "code",
   "execution_count": null,
   "metadata": {},
   "outputs": [],
   "source": [
    "list1[4][3]"
   ]
  },
  {
   "cell_type": "code",
   "execution_count": null,
   "metadata": {},
   "outputs": [],
   "source": [
    "list1[4][1]"
   ]
  },
  {
   "cell_type": "code",
   "execution_count": null,
   "metadata": {},
   "outputs": [],
   "source": [
    "list2=[1,51,9,8,1,201,534,4,[8,4,101,2,[5,4,891,91,6,3,4],3,600],[8,9,685,5,4,1,[72,808,52]]]"
   ]
  },
  {
   "cell_type": "code",
   "execution_count": null,
   "metadata": {},
   "outputs": [],
   "source": [
    "list2[9][6][1]"
   ]
  },
  {
   "cell_type": "code",
   "execution_count": null,
   "metadata": {},
   "outputs": [],
   "source": [
    "list2[9][2]"
   ]
  },
  {
   "cell_type": "code",
   "execution_count": null,
   "metadata": {},
   "outputs": [],
   "source": [
    "list2[8][4][2]"
   ]
  },
  {
   "cell_type": "code",
   "execution_count": null,
   "metadata": {},
   "outputs": [],
   "source": [
    "print(list2)\n",
    "print(list2[8][2])\n",
    "list2[8][2]=201\n",
    "print(list2)"
   ]
  },
  {
   "cell_type": "code",
   "execution_count": null,
   "metadata": {},
   "outputs": [],
   "source": [
    "list2=[1,51,9,8,1,201,534,4,[8,4,101,2,[5,4,891,91,6,3,4],3,600],[8,9,685,5,4,1,[72,808,52]]]\n",
    "print(list2)\n",
    "print(id(list2))\n",
    "print(list2[8][2])\n",
    "list2[8][2]=201\n",
    "print(list2)\n",
    "print(id(list2))"
   ]
  },
  {
   "cell_type": "code",
   "execution_count": null,
   "metadata": {},
   "outputs": [],
   "source": [
    "a=[1,2,3,4,5]\n",
    "print(a[:2]);print(a[2:]);"
   ]
  },
  {
   "cell_type": "code",
   "execution_count": null,
   "metadata": {},
   "outputs": [],
   "source": [
    "a=[1,2,3,4,5]\n",
    "b=a[:2]\n",
    "c=a[2:]\n",
    "print(a)\n",
    "print(b)\n",
    "print(c)\n",
    "del(a[0:2])\n",
    "print(a)"
   ]
  },
  {
   "cell_type": "code",
   "execution_count": null,
   "metadata": {},
   "outputs": [],
   "source": [
    "#Pass a parameter in a function\n",
    "#OR apply a method on an object"
   ]
  },
  {
   "cell_type": "code",
   "execution_count": null,
   "metadata": {},
   "outputs": [],
   "source": [
    "#Nested List\n",
    "list1 = ['Python', 'Python', 2013, 2018,[1,2,3,['c','d',9],4]]"
   ]
  },
  {
   "cell_type": "code",
   "execution_count": null,
   "metadata": {},
   "outputs": [],
   "source": [
    "#Since we don't have any value at index 5 in the mentioned list, it will show error.\n",
    "list1[5][2][2]"
   ]
  },
  {
   "cell_type": "code",
   "execution_count": null,
   "metadata": {},
   "outputs": [],
   "source": [
    "list1[4][3][1]"
   ]
  },
  {
   "cell_type": "code",
   "execution_count": null,
   "metadata": {},
   "outputs": [],
   "source": [
    "list1[4][4]"
   ]
  },
  {
   "cell_type": "code",
   "execution_count": null,
   "metadata": {
    "scrolled": true
   },
   "outputs": [],
   "source": [
    "list1 = [1, 2, 3, 4, 5]                  \n",
    "print(id(list1))\n",
    "print(list1)\n",
    "list1[3] = 257\n",
    "print(list1)\n",
    "print(id(list1))"
   ]
  },
  {
   "cell_type": "code",
   "execution_count": null,
   "metadata": {},
   "outputs": [],
   "source": [
    "list1 = [1, 2, 3, 4, 5]                  \n",
    "print(id(list1))\n",
    "print(list1)\n",
    "list1 = [1,2,3,257,5]\n",
    "print(list1)\n",
    "print(id(list1))"
   ]
  },
  {
   "cell_type": "code",
   "execution_count": null,
   "metadata": {},
   "outputs": [],
   "source": [
    "list1=[1, 2, 3, 4, 5]\n",
    "print(list1)\n",
    "print(id(list1))\n",
    "list1=['a','b','c']\n",
    "print(list1)\n",
    "print(id(list1))\n",
    "#list1=['a','b',1]\n",
    "#list1[2]=1\n",
    "#print(list1)\n",
    "#print(id(list1))"
   ]
  },
  {
   "cell_type": "code",
   "execution_count": null,
   "metadata": {},
   "outputs": [],
   "source": [
    "#To replace a value in a list \n",
    "list2 = [1, 2, 3, 4, 5, 6, 7]\n",
    "print(list2)\n",
    "list2[3] = \"Python\"\n",
    "print(list2)"
   ]
  },
  {
   "cell_type": "code",
   "execution_count": null,
   "metadata": {},
   "outputs": [],
   "source": [
    "list1 =[\"Neha\"]\n",
    "print(type(list1))\n",
    "list1 =\"Neha\"\n",
    "print(type(list1))"
   ]
  },
  {
   "cell_type": "code",
   "execution_count": null,
   "metadata": {},
   "outputs": [],
   "source": [
    "list1=[4,8,6,4,7,8]\n",
    "list2=['Python','DS','Marketing']\n",
    "list3=[3+9j,True, 1.23, False]\n",
    "\n",
    "print(list1 + list2 + list3)\n",
    "print(list1 , list2 , list3)\n",
    "print(list1); print(list2); print(list3);"
   ]
  },
  {
   "cell_type": "code",
   "execution_count": null,
   "metadata": {},
   "outputs": [],
   "source": [
    "print(list1 , ',', list2, ',', list3)"
   ]
  },
  {
   "cell_type": "code",
   "execution_count": null,
   "metadata": {},
   "outputs": [],
   "source": [
    "x=2; y=3;\n",
    "print(x);print(y);"
   ]
  },
  {
   "cell_type": "code",
   "execution_count": null,
   "metadata": {},
   "outputs": [],
   "source": [
    "print(x,y)"
   ]
  },
  {
   "cell_type": "code",
   "execution_count": null,
   "metadata": {},
   "outputs": [],
   "source": [
    "list4= list1 + list2 + list3\n",
    "print(list4)"
   ]
  },
  {
   "cell_type": "code",
   "execution_count": null,
   "metadata": {},
   "outputs": [],
   "source": [
    "list1 = ['Python', 'R', 'SAS', 2013, 2018, 2022]\n",
    "print(list1)\n",
    "print(id(list1))"
   ]
  },
  {
   "cell_type": "code",
   "execution_count": null,
   "metadata": {},
   "outputs": [],
   "source": [
    "#To view the list of applicable methods\n",
    "#list1. + 'Tab Key on your keyboard'\n",
    "\n",
    "help(list1.count)"
   ]
  },
  {
   "cell_type": "code",
   "execution_count": null,
   "metadata": {},
   "outputs": [],
   "source": [
    "list1 = ['Python', 'R', 'SAS', 2013, 2018, 2022]\n",
    "print(list1)\n",
    "list1.remove('SAS')\n",
    "print(list1)"
   ]
  },
  {
   "cell_type": "code",
   "execution_count": null,
   "metadata": {},
   "outputs": [],
   "source": [
    "list1.remove(2013)\n",
    "print(list1)"
   ]
  },
  {
   "cell_type": "code",
   "execution_count": null,
   "metadata": {},
   "outputs": [],
   "source": [
    "#Cannot remove multiple elements in a single remove function\n",
    "list1 = ['Python', 'Basics', 2013, 2018]\n",
    "print(list1)\n",
    "list1.remove(['Python',2013])\n",
    "print(list1)"
   ]
  },
  {
   "cell_type": "code",
   "execution_count": null,
   "metadata": {},
   "outputs": [],
   "source": [
    "list1 = ['Python', 'R', 'SAS', 2013, 2018, 2022]\n",
    "print(list1)\n",
    "list1.remove(list1[0])\n",
    "list1"
   ]
  },
  {
   "cell_type": "code",
   "execution_count": null,
   "metadata": {},
   "outputs": [],
   "source": [
    "list1=['R', 'SAS', 2013, 2018, 2022,'SAS',2013, 2018, 2022,'R', 'SAS', 2013, 2018]\n",
    "print(list1)\n",
    "list1.remove(list1[9])\n",
    "list1"
   ]
  },
  {
   "cell_type": "code",
   "execution_count": null,
   "metadata": {},
   "outputs": [],
   "source": [
    "list1=['R', 'SAS', 2013, 2018, 2022, 2013, 2018, 2022,'R', 'SAS', 2013, 2018]\n",
    "print(list1)\n",
    "list1.remove('SAS')\n",
    "list1"
   ]
  },
  {
   "cell_type": "code",
   "execution_count": null,
   "metadata": {},
   "outputs": [],
   "source": [
    "# Append\n",
    "aList = [123, 'xyz', 'zara', 'abc']\n",
    "print(aList)\n",
    "aList.append('abcd')\n",
    "print(aList)\n",
    "aList.append(2021)\n",
    "print(aList)"
   ]
  },
  {
   "cell_type": "code",
   "execution_count": null,
   "metadata": {},
   "outputs": [],
   "source": [
    "list1=['R', 'SAS', 2013, 2018, 2022, 2013, 2018, 2022,'R', 'SAS', 2013, 2018]\n",
    "list_2013=[]\n",
    "for i in range(0,len(list1)):\n",
    "    if list1[i]==2013:\n",
    "        list_2013.append(i)\n",
    "list_2013       "
   ]
  },
  {
   "cell_type": "code",
   "execution_count": null,
   "metadata": {},
   "outputs": [],
   "source": [
    "list1=['R', 'SAS', 2013, 2018, 2022, 2013, 2018, 2022,'R', 'SAS', 2013, 2018]\n",
    "list(range(0,len(list1)))"
   ]
  },
  {
   "cell_type": "code",
   "execution_count": null,
   "metadata": {},
   "outputs": [],
   "source": [
    "list1=['R', 'SAS', 2013]\n",
    "print(list1)\n",
    "del(list1)\n",
    "print(list1)"
   ]
  },
  {
   "cell_type": "code",
   "execution_count": null,
   "metadata": {},
   "outputs": [],
   "source": [
    "#It will remove the first instance of the value it sees on the specified index inside the remove function\n",
    "#Since a[6] is 3, it will remove the first instance of 3, instead of the value at index 6 in the list 'a'.\n",
    "a=[1,2,3,4,5,2,3]\n",
    "print(a)\n",
    "a.remove(a[6])\n",
    "print(a)"
   ]
  },
  {
   "cell_type": "code",
   "execution_count": null,
   "metadata": {},
   "outputs": [],
   "source": [
    "a=[1,2,3,4,5,2,3]\n",
    "print(a)\n",
    "a.pop(2)\n",
    "print(a)"
   ]
  },
  {
   "cell_type": "code",
   "execution_count": null,
   "metadata": {},
   "outputs": [],
   "source": [
    "a=[1,2,3,4,5,2,3]\n",
    "print(a)\n",
    "a.pop()\n",
    "print(a)"
   ]
  },
  {
   "cell_type": "code",
   "execution_count": null,
   "metadata": {},
   "outputs": [],
   "source": [
    "a=[1,2,3,4,5,2,3,1,2,3,4,5,2,3]\n",
    "print(a)"
   ]
  },
  {
   "cell_type": "code",
   "execution_count": null,
   "metadata": {},
   "outputs": [],
   "source": [
    "a.remove(3)\n",
    "print(a)"
   ]
  },
  {
   "cell_type": "code",
   "execution_count": null,
   "metadata": {},
   "outputs": [],
   "source": [
    "a=[1,2,3,4,5,2,3,1,2,3,4,5,2,3]\n",
    "print(a)\n",
    "c=a.copy()\n",
    "for i in a:\n",
    "    if (i==1) | (i==3):\n",
    "        c.remove(i) \n",
    "c        "
   ]
  },
  {
   "cell_type": "code",
   "execution_count": null,
   "metadata": {},
   "outputs": [],
   "source": [
    "a=[1,2,3,4,5,2,3,1,2,3,4,5,2,3]\n",
    "print(a)\n",
    "b=[1,3]\n",
    "c=a.copy()\n",
    "\n",
    "for i in a:\n",
    "    if i in b:\n",
    "        c.remove(i)\n",
    "        \n",
    "print(c)"
   ]
  },
  {
   "cell_type": "code",
   "execution_count": null,
   "metadata": {},
   "outputs": [],
   "source": [
    "a=[1,2,3,1,4,5,2,3,1,2,3,4,5,2,3]\n",
    "b=[1,3]\n",
    "c=[i for i in a if i not in b]\n",
    "c        "
   ]
  },
  {
   "cell_type": "code",
   "execution_count": null,
   "metadata": {},
   "outputs": [],
   "source": [
    "lista=['bye','lord',[1,2,3],4,5]\n",
    "print(lista)\n",
    "lista[2].remove(1)\n",
    "print(lista)"
   ]
  },
  {
   "cell_type": "code",
   "execution_count": null,
   "metadata": {},
   "outputs": [],
   "source": [
    "list1=['Python','Java','sap',[1,2,3],'zahra',2018,2022,2033,(8j+1),8j,9j]\n",
    "print(list1)\n",
    "list1[3].remove(2)\n",
    "print(list1)"
   ]
  },
  {
   "cell_type": "code",
   "execution_count": null,
   "metadata": {},
   "outputs": [],
   "source": [
    "print(list1)\n",
    "list1[3][1].remove()\n",
    "print(list1)"
   ]
  },
  {
   "cell_type": "code",
   "execution_count": null,
   "metadata": {},
   "outputs": [],
   "source": [
    "#Insert\n",
    "aList=[123, 2009, 'xyz', 'zara', 'abc', 1234]\n",
    "print(aList)"
   ]
  },
  {
   "cell_type": "code",
   "execution_count": null,
   "metadata": {},
   "outputs": [],
   "source": [
    "aList.insert(1, 2022)\n",
    "print(aList)"
   ]
  },
  {
   "cell_type": "code",
   "execution_count": null,
   "metadata": {},
   "outputs": [],
   "source": [
    "aList.insert(3,'Neha')\n",
    "print(aList)"
   ]
  },
  {
   "cell_type": "code",
   "execution_count": null,
   "metadata": {},
   "outputs": [],
   "source": [
    "list1=['Python','Java','sap',[1,2,3],'zahra',2018,2022,2033,(8j+1),8j,9j]\n",
    "print(list1)\n",
    "list1[3].insert(1,2)\n",
    "print(list1)"
   ]
  },
  {
   "cell_type": "code",
   "execution_count": null,
   "metadata": {},
   "outputs": [],
   "source": [
    "list1[3].insert(3,\"Python\")\n",
    "print(list1)"
   ]
  },
  {
   "cell_type": "code",
   "execution_count": null,
   "metadata": {},
   "outputs": [],
   "source": [
    "list1[3].pop(4)\n",
    "print(list1)"
   ]
  },
  {
   "cell_type": "code",
   "execution_count": null,
   "metadata": {},
   "outputs": [],
   "source": [
    "list1=['Python',2018, 'Java', 'sap', [1, 2, 2, 'Python', 'Java', 'Java', 3], 'zahra', 2018, 2022, 2033, (1+8j), 8j, 9j]"
   ]
  },
  {
   "cell_type": "code",
   "execution_count": null,
   "metadata": {},
   "outputs": [],
   "source": [
    "list1[4].remove('Java')\n",
    "print(list1)"
   ]
  },
  {
   "cell_type": "code",
   "execution_count": null,
   "metadata": {},
   "outputs": [],
   "source": [
    "print(list1[6])\n",
    "list1.remove(list1[6])\n",
    "print(list1)"
   ]
  },
  {
   "cell_type": "code",
   "execution_count": null,
   "metadata": {},
   "outputs": [],
   "source": [
    "#Pop\n",
    "aList=[123, 2009, 'xyz', 'zara', 'abc', 1234]\n",
    "print(aList)\n",
    "print(aList.pop())\n",
    "print(aList)"
   ]
  },
  {
   "cell_type": "code",
   "execution_count": null,
   "metadata": {},
   "outputs": [],
   "source": [
    "print(aList.pop())\n",
    "print(aList)"
   ]
  },
  {
   "cell_type": "code",
   "execution_count": null,
   "metadata": {},
   "outputs": [],
   "source": [
    "#Pop function with a value inside bracket will remove the element on the stated index value.\n",
    "aList=[123, 2009, 'xyz', 'zara', 'abc', 1234]\n",
    "print(aList)\n",
    "print(aList.pop(2))\n",
    "print(aList)"
   ]
  },
  {
   "cell_type": "code",
   "execution_count": null,
   "metadata": {},
   "outputs": [],
   "source": [
    "aList=[123, 2009, ['xyz', 'zara'], 'abc', 1234]\n",
    "print(aList)\n",
    "print(aList[2].pop())\n",
    "print(aList)"
   ]
  },
  {
   "cell_type": "code",
   "execution_count": null,
   "metadata": {},
   "outputs": [],
   "source": [
    "list2=[1,51,9,8,1,201,534,4,[8,4,101,2,[5,4,891,91,6,3,4],3,600],[8,9,685,5,4,1,[72,808,52]]]\n",
    "list2[8][4][2]"
   ]
  },
  {
   "cell_type": "code",
   "execution_count": null,
   "metadata": {},
   "outputs": [],
   "source": [
    "print(list2)\n",
    "list2[8][4].remove(891)\n",
    "print(list2)"
   ]
  },
  {
   "cell_type": "code",
   "execution_count": null,
   "metadata": {},
   "outputs": [],
   "source": [
    "#Extend\n",
    "aList = [123, 'xyz', 'tommy', 'abc', 123]\n",
    "bList = [2009, 'beneli']\n",
    "print(aList)\n",
    "aList.extend(bList)\n",
    "print(aList)\n",
    "print(bList)"
   ]
  },
  {
   "cell_type": "code",
   "execution_count": null,
   "metadata": {},
   "outputs": [],
   "source": [
    "aList = [123, 'xyz', 'tommy', 'abc', 123]\n",
    "bList = [2009, 'beneli']\n",
    "print(bList)\n",
    "bList.extend(aList)\n",
    "print(bList)\n",
    "print(aList)"
   ]
  },
  {
   "cell_type": "code",
   "execution_count": null,
   "metadata": {},
   "outputs": [],
   "source": [
    "aList = [123, 'xyz', 'tommy', 'abc', 123]\n",
    "print(aList)\n",
    "aList.extend([456,'Python'])\n",
    "print(aList)"
   ]
  },
  {
   "cell_type": "code",
   "execution_count": null,
   "metadata": {},
   "outputs": [],
   "source": [
    "aList = [123, 'xyz', 'tommy', 'abc', 123]\n",
    "bList = [2009, 'beneli']\n",
    "aList.append(bList)\n",
    "aList             "
   ]
  },
  {
   "cell_type": "code",
   "execution_count": null,
   "metadata": {},
   "outputs": [],
   "source": [
    "#Reverse\n",
    "aList = [123, 'xyz', 'tommy', 'abc', 123,'Hi',56]\n",
    "print(aList)\n",
    "aList.reverse()\n",
    "print(aList)"
   ]
  },
  {
   "cell_type": "code",
   "execution_count": null,
   "metadata": {},
   "outputs": [],
   "source": [
    "#6,5,4,3,2,1,0,-1,-2,-3,\n",
    "#starting from length 7-1, to 0\n",
    "\n",
    "print(list(range(len(aList))))\n",
    "print(list(range(len(aList)-1, -1, -1)))"
   ]
  },
  {
   "cell_type": "code",
   "execution_count": null,
   "metadata": {},
   "outputs": [],
   "source": [
    "aList = [123, 'xyz', 'tommy', 'abc', 123,'Hi',56]\n",
    "print(aList)\n",
    "bList=[]\n",
    "for i in range(len(aList)-1, -1, -1):\n",
    "    bList.append(aList[i])\n",
    "    \n",
    "print(bList)"
   ]
  },
  {
   "cell_type": "code",
   "execution_count": null,
   "metadata": {},
   "outputs": [],
   "source": [
    "listalpine=['husky','mangoose',505,12,8,4005,'sealion']\n",
    "print(listalpine)\n",
    "for i in range(len(listalpine)-1,-1,-1):\n",
    "    print(listalpine[i],end=' ')"
   ]
  },
  {
   "cell_type": "code",
   "execution_count": null,
   "metadata": {},
   "outputs": [],
   "source": [
    "#Cannot sort a list having multiple data types\n",
    "aList = [123, 'xyz', 'tommy', 'abc', 123,'Hi',56]\n",
    "aList.sort()"
   ]
  },
  {
   "cell_type": "code",
   "execution_count": null,
   "metadata": {},
   "outputs": [],
   "source": [
    "#Sort\n",
    "#'reverse' parameter inside 'sort' method means 'descending'\n",
    "#If reverse=True, values will be ordered from highest to lowest\n",
    "#If reverse=False, values will be ordered from lowest to highest\n",
    "#By default, sort is always set to 'reverse=False'\n",
    "\n",
    "bList = [8,99,45,33,96,52,47,14,45]\n",
    "print(bList)\n",
    "bList.sort(reverse = False)\n",
    "bList"
   ]
  },
  {
   "cell_type": "code",
   "execution_count": null,
   "metadata": {},
   "outputs": [],
   "source": [
    "bList = [8,99,45,33,96,52,47,14,45]\n",
    "print(bList)\n",
    "bList.sort(reverse = True)\n",
    "print(bList)"
   ]
  },
  {
   "cell_type": "code",
   "execution_count": null,
   "metadata": {},
   "outputs": [],
   "source": [
    "bList = [8, 99, 45, 33, 96, 52, 47, 14]\n",
    "bList.sort()\n",
    "bList"
   ]
  },
  {
   "cell_type": "code",
   "execution_count": null,
   "metadata": {},
   "outputs": [],
   "source": [
    "a=['Abhishek','Rahul','Bhavna','Tarun','Harsh']\n",
    "a.sort(reverse=True)\n",
    "a"
   ]
  },
  {
   "cell_type": "code",
   "execution_count": null,
   "metadata": {},
   "outputs": [],
   "source": [
    "a=['Abhishek','Rahul','Bhavna','Tarun','Harsh']\n",
    "a.sort()\n",
    "a"
   ]
  },
  {
   "cell_type": "code",
   "execution_count": null,
   "metadata": {},
   "outputs": [],
   "source": [
    "a=['Abhishek','Rahul','bhavna','Tarun','Harsh']\n",
    "a.sort()\n",
    "a"
   ]
  },
  {
   "cell_type": "code",
   "execution_count": null,
   "metadata": {},
   "outputs": [],
   "source": [
    "c=[9j,11j,8j,2j]\n",
    "c.sort()\n",
    "print(c)"
   ]
  },
  {
   "cell_type": "code",
   "execution_count": null,
   "metadata": {},
   "outputs": [],
   "source": [
    "#count\n",
    "#To get the count of a specific element inside a list\n",
    "aList = [123, 'xyz', 'zara', 'abc', 123, \"zara\",123]\n",
    "aList.count(123)"
   ]
  },
  {
   "cell_type": "code",
   "execution_count": null,
   "metadata": {},
   "outputs": [],
   "source": [
    "aList.count('xyz')"
   ]
  },
  {
   "cell_type": "code",
   "execution_count": null,
   "metadata": {},
   "outputs": [],
   "source": [
    "aList.count(\"zara\")"
   ]
  },
  {
   "cell_type": "code",
   "execution_count": null,
   "metadata": {},
   "outputs": [],
   "source": [
    "aList = [123, 'xyz', 'zara', 'abc', 123, \"zara\",123]\n",
    "a=[123, 'xyz']\n",
    "for i in a:\n",
    "    print(i, aList.count(i))"
   ]
  },
  {
   "cell_type": "code",
   "execution_count": null,
   "metadata": {},
   "outputs": [],
   "source": [
    "aList = [123, 'xyz', 'zara', 'abc', 123, \"zara\",123]\n",
    "a=[]\n",
    "for i in aList:\n",
    "    if i not in a:\n",
    "        a.append(i)\n",
    "print(a)\n",
    "for i in a:\n",
    "    print(i, aList.count(i))"
   ]
  },
  {
   "cell_type": "code",
   "execution_count": null,
   "metadata": {},
   "outputs": [],
   "source": [
    "alist=[123,['zara','abc',[1,2,3]],'zara','abc',123,'abc',123,['abc',123,'abc']]\n",
    "#alist.count('zara')"
   ]
  },
  {
   "cell_type": "code",
   "execution_count": null,
   "metadata": {},
   "outputs": [],
   "source": [
    "aList = [123, 'xyz', 'zara', 'abc', 123, \"zara\",123,\"zara\",123]\n",
    "len(aList)"
   ]
  },
  {
   "cell_type": "code",
   "execution_count": null,
   "metadata": {},
   "outputs": [],
   "source": [
    "def len_nested(a):\n",
    "    count=0\n",
    "    for i in a:\n",
    "        if type(i)==list:\n",
    "            count+=len_nested(i)\n",
    "        else:\n",
    "            count+=1\n",
    "    return count"
   ]
  },
  {
   "cell_type": "code",
   "execution_count": null,
   "metadata": {},
   "outputs": [],
   "source": [
    "len_nested(alist)"
   ]
  },
  {
   "cell_type": "code",
   "execution_count": null,
   "metadata": {},
   "outputs": [],
   "source": [
    "y=[1,51,9,8,1,201,534,4,[8,4,101,2,[5,4,891,91,6,3,4],3,600],[8,9,685,5,4,1,[72,808,52]]]\n",
    "len_nested(y)"
   ]
  },
  {
   "cell_type": "code",
   "execution_count": null,
   "metadata": {
    "scrolled": true
   },
   "outputs": [],
   "source": [
    "#To count the number of elements in a list, length\n",
    "print(aList)\n",
    "len(aList)"
   ]
  },
  {
   "cell_type": "code",
   "execution_count": null,
   "metadata": {},
   "outputs": [],
   "source": [
    "Empty_List=[]\n",
    "Empty_List"
   ]
  },
  {
   "cell_type": "code",
   "execution_count": null,
   "metadata": {},
   "outputs": [],
   "source": [
    "print(id(Empty_List))"
   ]
  },
  {
   "cell_type": "code",
   "execution_count": null,
   "metadata": {},
   "outputs": [],
   "source": [
    "a=[1,2,3,4,5]\n",
    "b=6 in a\n",
    "c=5 in a\n",
    "print(b)\n",
    "print(c)\n",
    "print(type(c))\n",
    "print(type(b))"
   ]
  },
  {
   "cell_type": "code",
   "execution_count": null,
   "metadata": {},
   "outputs": [],
   "source": [
    "a=[1,2,3,4,5]\n",
    "d=4 not in a\n",
    "print(d)\n",
    "e=9 not in a\n",
    "print(e)"
   ]
  },
  {
   "cell_type": "code",
   "execution_count": null,
   "metadata": {},
   "outputs": [],
   "source": [
    "x=a[2] is 3\n",
    "x"
   ]
  },
  {
   "cell_type": "code",
   "execution_count": null,
   "metadata": {},
   "outputs": [],
   "source": [
    "a[4] is not 5"
   ]
  },
  {
   "cell_type": "code",
   "execution_count": null,
   "metadata": {},
   "outputs": [],
   "source": [
    "x=a[2] == 3\n",
    "x"
   ]
  },
  {
   "cell_type": "code",
   "execution_count": null,
   "metadata": {},
   "outputs": [],
   "source": [
    "a[4] != 5"
   ]
  },
  {
   "cell_type": "code",
   "execution_count": null,
   "metadata": {},
   "outputs": [],
   "source": [
    "range(15)"
   ]
  },
  {
   "cell_type": "code",
   "execution_count": null,
   "metadata": {},
   "outputs": [],
   "source": [
    "list(range(15))"
   ]
  },
  {
   "cell_type": "code",
   "execution_count": null,
   "metadata": {},
   "outputs": [],
   "source": [
    "list(range(1,10))"
   ]
  },
  {
   "cell_type": "code",
   "execution_count": null,
   "metadata": {},
   "outputs": [],
   "source": [
    "list(range(5,16))"
   ]
  },
  {
   "cell_type": "code",
   "execution_count": null,
   "metadata": {},
   "outputs": [],
   "source": [
    "#List is an iterable data structure\n",
    "a=list(range(8))\n",
    "print(a)"
   ]
  },
  {
   "cell_type": "code",
   "execution_count": null,
   "metadata": {},
   "outputs": [],
   "source": [
    "# 'i' stands for every element\n",
    "for i in a:\n",
    "    print(i)"
   ]
  },
  {
   "cell_type": "code",
   "execution_count": null,
   "metadata": {},
   "outputs": [],
   "source": [
    "list1=[1,2,3,4,5,6,7,8,9,10]\n",
    "for m in list1:\n",
    "    print(m**m)"
   ]
  },
  {
   "cell_type": "code",
   "execution_count": null,
   "metadata": {},
   "outputs": [],
   "source": [
    "list1=[1,2,3,4,5,6,7,8,9,10]\n",
    "for m in list1:\n",
    "    print(m*m)"
   ]
  },
  {
   "cell_type": "code",
   "execution_count": null,
   "metadata": {},
   "outputs": [],
   "source": [
    "#To filter numbers from a list that are even numbers\n",
    "even_nos=[]\n",
    "list1=[1,2,3,4,5,6,7,8,9,10]\n",
    "for i in list1:\n",
    "    if i%2==0:\n",
    "        even_nos.append(i)\n",
    "\n",
    "print(even_nos)        "
   ]
  },
  {
   "cell_type": "code",
   "execution_count": null,
   "metadata": {},
   "outputs": [],
   "source": [
    "#Write a program to find first 30 multiples of 7"
   ]
  },
  {
   "cell_type": "code",
   "execution_count": null,
   "metadata": {},
   "outputs": [],
   "source": [
    "a=int(input(\"table\"))\n",
    "n=int(input(\"range\"))\n",
    "for i in range(1,n+1):\n",
    "    b=a*i\n",
    "    print(f'{a}*{i}={b}')"
   ]
  },
  {
   "cell_type": "code",
   "execution_count": null,
   "metadata": {},
   "outputs": [],
   "source": [
    "a=range(1,31)\n",
    "for i in a:\n",
    "    print(7*i)"
   ]
  },
  {
   "cell_type": "markdown",
   "metadata": {},
   "source": [
    "Using 'for' loop, create a list of square roots which are/ divisible by 3, of first 500 natural numbers.  "
   ]
  },
  {
   "cell_type": "code",
   "execution_count": null,
   "metadata": {},
   "outputs": [],
   "source": [
    "sroot = []\n",
    "for i in range(1,501):\n",
    "    if (i**0.5)%3 ==0:\n",
    "        sroot.append(i**0.5)    \n",
    "print(sroot)"
   ]
  },
  {
   "cell_type": "code",
   "execution_count": null,
   "metadata": {},
   "outputs": [],
   "source": [
    "sroot = []\n",
    "for i in range(1,501):\n",
    "    if (i**0.5)%3 ==0:\n",
    "        sroot.append(i**0.5)\n",
    "    \n",
    "print(sroot)\n"
   ]
  },
  {
   "cell_type": "code",
   "execution_count": null,
   "metadata": {},
   "outputs": [],
   "source": [
    "#List of perfect squares between 0 to 1000 that are divisible by 3 & 9\n",
    "a=[]\n",
    "for i in range(1001):\n",
    "    if i*i<=1000:\n",
    "        a.append(i*i)\n",
    "b=[]        \n",
    "for i in a:\n",
    "    if i%3==0 & i%9==0:\n",
    "        b.append(i)\n",
    "print(b)    "
   ]
  },
  {
   "cell_type": "code",
   "execution_count": null,
   "metadata": {},
   "outputs": [],
   "source": [
    "a=[]\n",
    "for i in range(1000):\n",
    "    if ((i*i)%3==0) & ((i*i)%9==0) & ((i*i)<=1000):\n",
    "        a.append(i*i)\n",
    "a"
   ]
  },
  {
   "cell_type": "code",
   "execution_count": null,
   "metadata": {},
   "outputs": [],
   "source": [
    "a = list(range(1,501))\n",
    "b=[]\n",
    "for i in a:\n",
    "    b.append(i**0.5)\n",
    "b\n",
    "for i in b:\n",
    "    if i%3 == 0:\n",
    "        list2.append(i)\n",
    "print(list2)"
   ]
  },
  {
   "cell_type": "code",
   "execution_count": null,
   "metadata": {},
   "outputs": [],
   "source": [
    "sq_r=[]\n",
    "for i in range(1,500):\n",
    "    if (i**0.5)%3==0:\n",
    "        sq_r.append(i**0.5)\n",
    "        \n",
    "print(sq_r)"
   ]
  },
  {
   "cell_type": "code",
   "execution_count": null,
   "metadata": {},
   "outputs": [],
   "source": [
    "nat_nos=list(range(1,501))\n",
    "nat_nos_squares=[]\n",
    "list1=[]\n",
    "for i in nat_nos:\n",
    "    nat_nos_squares.append(i**0.5)\n",
    "\n",
    "for j in nat_nos_squares:\n",
    "    if j%3==0:\n",
    "        list1.append(j)\n",
    "        \n",
    "print(list1) \n",
    "print(nat_nos_squares)"
   ]
  },
  {
   "cell_type": "code",
   "execution_count": null,
   "metadata": {},
   "outputs": [],
   "source": [
    "#To filter numbers from a list that are divisible by 3\n",
    "div_by_3=[]\n",
    "list1=[1,2,3,4,5,6,7,8,9,10]\n",
    "for i in list1:\n",
    "    if i%3==0:\n",
    "        div_by_3.append(i)\n",
    "\n",
    "print(div_by_3)  "
   ]
  },
  {
   "cell_type": "code",
   "execution_count": null,
   "metadata": {},
   "outputs": [],
   "source": [
    "aList = [123, 'xyz', 'zara', 'abc', 123, \"zara\",123,'zara']"
   ]
  },
  {
   "cell_type": "code",
   "execution_count": null,
   "metadata": {},
   "outputs": [],
   "source": [
    "#Index\n",
    "# Gives the index value of the first instance of an element in the list.\n",
    "aList.index('zara')"
   ]
  },
  {
   "cell_type": "code",
   "execution_count": null,
   "metadata": {},
   "outputs": [],
   "source": [
    "aList.index('mno')"
   ]
  },
  {
   "cell_type": "code",
   "execution_count": null,
   "metadata": {},
   "outputs": [],
   "source": [
    "#To find the index of the specified element between elements from index 1 to index 6\n",
    "aList = [123, 'xyz', 'zara', 'abc', 123, 'zara',123]\n",
    "print(aList.index(123))\n",
    "aList.index(123,4,7)"
   ]
  },
  {
   "cell_type": "code",
   "execution_count": null,
   "metadata": {},
   "outputs": [],
   "source": [
    "a=[]\n",
    "aList = [123, 'xyz', 'zara', 'abc', 123, 'zara',123]\n",
    "print(list(range(len(aList))))\n",
    "for i in range(len(aList)):    # [0,1,2,3,4,5,6]\n",
    "    if aList[i]==123:\n",
    "        a.append(i)\n",
    "        \n",
    "a"
   ]
  },
  {
   "cell_type": "code",
   "execution_count": null,
   "metadata": {},
   "outputs": [],
   "source": [
    "a=[]\n",
    "aList = [123, 'xyz', 'zara', 'abc', 123, 'zara',123]\n",
    "list(range(len(aList)))\n",
    "for i in range(4,7):    # [4,5,6]\n",
    "    if aList[i]==123:\n",
    "        a.append(i)\n",
    "        \n",
    "a"
   ]
  },
  {
   "cell_type": "code",
   "execution_count": null,
   "metadata": {},
   "outputs": [],
   "source": [
    "c=[1,8,5,2,4,1,2,5,8,7,9,2,5,3]\n",
    "count = -1\n",
    "idlist=[]\n",
    "for i in c:\n",
    "    count = count+1\n",
    "    if i==2:\n",
    "        idlist.append(count)\n",
    "print(idlist)"
   ]
  },
  {
   "cell_type": "code",
   "execution_count": null,
   "metadata": {},
   "outputs": [],
   "source": [
    "a=[1,8,5,2,4,1,2,5,8,7,9,2,5,3]\n",
    "b=[]\n",
    "for i in range(len(a)):\n",
    "    if a[i]==2:\n",
    "        b.append(i)\n",
    "b"
   ]
  },
  {
   "cell_type": "code",
   "execution_count": null,
   "metadata": {},
   "outputs": [],
   "source": [
    "a=[2,2,3,5,6,1,4,3,1,2,7]\n",
    "print(a)\n",
    "b=[]\n",
    "j=0\n",
    "for i in a:\n",
    "    if (i==2):\n",
    "        b.append(a.index(i,j))\n",
    "    j+=1\n",
    "b"
   ]
  },
  {
   "cell_type": "code",
   "execution_count": null,
   "metadata": {},
   "outputs": [],
   "source": [
    "a=[2,2,3,5,6,1,4,3,1,2,7]\n",
    "print(a)\n",
    "b=[]\n",
    "j=0\n",
    "for i in a:\n",
    "    if (i==2):\n",
    "        b.append(j)\n",
    "    j+=1\n",
    "b"
   ]
  },
  {
   "cell_type": "code",
   "execution_count": null,
   "metadata": {},
   "outputs": [],
   "source": [
    "a=[1,2,3,5,6,1,4,3,1,2,7]\n",
    "a.index(2,2)"
   ]
  },
  {
   "cell_type": "code",
   "execution_count": null,
   "metadata": {},
   "outputs": [],
   "source": [
    "a=[2,2,3,5,6,1,4,3,1,2,7]\n",
    "oddlist=[]\n",
    "\n",
    "for i in a:\n",
    "    if i%2!=0:\n",
    "        oddlist.append(i)\n",
    "oddlist"
   ]
  },
  {
   "cell_type": "code",
   "execution_count": null,
   "metadata": {},
   "outputs": [],
   "source": [
    "#Perfect squares between 0 to 1000 that are divisible by 3 & 9."
   ]
  },
  {
   "cell_type": "code",
   "execution_count": null,
   "metadata": {},
   "outputs": [],
   "source": [
    "aList[4]"
   ]
  },
  {
   "cell_type": "code",
   "execution_count": null,
   "metadata": {},
   "outputs": [],
   "source": [
    "x=[56,85,'Python','ExcelR','Basics','ML']\n",
    "print(x)\n",
    "y=x.copy()\n",
    "print(y)\n",
    "x.append('SAS')\n",
    "print(x)\n",
    "print(y)"
   ]
  },
  {
   "cell_type": "code",
   "execution_count": null,
   "metadata": {},
   "outputs": [],
   "source": [
    "aList = [123, 'xyz', 'zara', 'abc', 123, 'zara',123]"
   ]
  },
  {
   "cell_type": "code",
   "execution_count": null,
   "metadata": {},
   "outputs": [],
   "source": [
    "#Clear\n",
    "print(aList)\n",
    "aList.clear()\n",
    "print(aList)"
   ]
  },
  {
   "cell_type": "code",
   "execution_count": null,
   "metadata": {},
   "outputs": [],
   "source": [
    "#Slicing of data\n",
    "a=[123, 'xyz', 'zara', 'abc', 123, 'zara']\n",
    "print(a)\n",
    "b=a[0:3] #Call out values at indices 0 to 2\n",
    "b"
   ]
  },
  {
   "cell_type": "code",
   "execution_count": null,
   "metadata": {},
   "outputs": [],
   "source": [
    "#Values at index 2,3,4,5 will be displayed, value at index 6 will be excluded\n",
    "print(a)\n",
    "a[2:6]   "
   ]
  },
  {
   "cell_type": "code",
   "execution_count": null,
   "metadata": {},
   "outputs": [],
   "source": [
    "#50 multiples of 7, which are divisible by 3. Using list & for loop statements."
   ]
  },
  {
   "cell_type": "code",
   "execution_count": null,
   "metadata": {},
   "outputs": [],
   "source": [
    "a=[x for x in range(1,10000) if x%7==0 if x%3==0]\n",
    "a[0:51]"
   ]
  },
  {
   "cell_type": "code",
   "execution_count": null,
   "metadata": {},
   "outputs": [],
   "source": [
    "lst=[]\n",
    "for i in range(0,1100):\n",
    "    if i % 7 ==0 and i%3==0:\n",
    "        lst.append(i)\n",
    "print(lst)\n",
    "\n",
    "len(lst)"
   ]
  },
  {
   "cell_type": "code",
   "execution_count": null,
   "metadata": {},
   "outputs": [],
   "source": [
    "lst=[]\n",
    "for i in range(0,1050):\n",
    "    if i % 7 ==0 and i%3==0:\n",
    "        lst.append(i)\n",
    "print(lst)\n",
    "len(lst)"
   ]
  },
  {
   "cell_type": "code",
   "execution_count": null,
   "metadata": {},
   "outputs": [],
   "source": [
    "#We expect values at index 4,5,6,7,8\n",
    "#But since the elements are fewer than 7, we do not have any value at index 6,7,8\n",
    "#So it will only display values at index 4 & 5, since they actually exist in the list.\n",
    "a[4:9]"
   ]
  },
  {
   "cell_type": "code",
   "execution_count": null,
   "metadata": {},
   "outputs": [],
   "source": [
    "a[6:]"
   ]
  },
  {
   "cell_type": "code",
   "execution_count": null,
   "metadata": {},
   "outputs": [],
   "source": [
    "a=[1,2,3]\n",
    "b=a\n",
    "print(b)\n",
    "print(a)"
   ]
  },
  {
   "cell_type": "code",
   "execution_count": null,
   "metadata": {},
   "outputs": [],
   "source": [
    "#If we want to remove some specific elements from a list\n",
    "b=[]\n",
    "unique=[3,4]\n",
    "a=[1,2,3,3,4,5,3,2,6]\n",
    "for i in a:\n",
    "    if i not in unique:\n",
    "        b.append(i)\n",
    "print(b)"
   ]
  },
  {
   "cell_type": "code",
   "execution_count": null,
   "metadata": {},
   "outputs": [],
   "source": [
    "a=[1,2,3,3,4,5,3,2,6]\n",
    "print(a)\n",
    "b=a.copy()\n",
    "print(b)\n",
    "print(id(a))\n",
    "print(id(b))"
   ]
  },
  {
   "cell_type": "code",
   "execution_count": null,
   "metadata": {},
   "outputs": [],
   "source": [
    "#Membership in list\n",
    "#Is the element present in the list?\n",
    "print(3 in [1,2,3])\n",
    "print(5 in [1,2,3])"
   ]
  },
  {
   "cell_type": "code",
   "execution_count": null,
   "metadata": {},
   "outputs": [],
   "source": [
    "#Is the element '8' present in the list 'a' or not? \n",
    "#Is '8' a member of 'a' or not\n",
    "a=[2,5,8,9,6,4,7]\n",
    "8 in a"
   ]
  },
  {
   "cell_type": "code",
   "execution_count": null,
   "metadata": {},
   "outputs": [],
   "source": [
    "10 in a"
   ]
  },
  {
   "cell_type": "code",
   "execution_count": null,
   "metadata": {},
   "outputs": [],
   "source": [
    "a[3] is 9"
   ]
  },
  {
   "cell_type": "code",
   "execution_count": null,
   "metadata": {},
   "outputs": [],
   "source": [
    "#Is '9' the 3rd index value in 'a'?\n",
    "a[3]==9"
   ]
  },
  {
   "cell_type": "code",
   "execution_count": null,
   "metadata": {},
   "outputs": [],
   "source": [
    "#Is '9' not in a?\n",
    "9 not in a"
   ]
  },
  {
   "cell_type": "code",
   "execution_count": null,
   "metadata": {},
   "outputs": [],
   "source": [
    "#Is the value at index 2 not equal to value at index 3?\n",
    "a[2]!=a[3]"
   ]
  },
  {
   "cell_type": "code",
   "execution_count": null,
   "metadata": {},
   "outputs": [],
   "source": [
    "a=range(50)\n",
    "b=list(a)\n",
    "print(b)"
   ]
  },
  {
   "cell_type": "markdown",
   "metadata": {},
   "source": [
    "- !=  Not equal to\n",
    "- == Equal to"
   ]
  },
  {
   "cell_type": "code",
   "execution_count": null,
   "metadata": {},
   "outputs": [],
   "source": []
  },
  {
   "cell_type": "code",
   "execution_count": null,
   "metadata": {},
   "outputs": [],
   "source": [
    "# Write a code to create a list with cubes of first 30 natural numbers."
   ]
  },
  {
   "cell_type": "code",
   "execution_count": null,
   "metadata": {},
   "outputs": [],
   "source": [
    "alist=range(31*3)\n",
    "b =list(alist)\n",
    "print(b,end='')"
   ]
  },
  {
   "cell_type": "code",
   "execution_count": null,
   "metadata": {
    "scrolled": true
   },
   "outputs": [],
   "source": [
    "for i in range(1,31):\n",
    "    print(i*i*i, end=' ')"
   ]
  },
  {
   "cell_type": "code",
   "execution_count": null,
   "metadata": {},
   "outputs": [],
   "source": [
    "alist=range(11)\n",
    "print(alist)\n",
    "for i in alist:\n",
    "    print(i*i/2)"
   ]
  },
  {
   "cell_type": "code",
   "execution_count": null,
   "metadata": {},
   "outputs": [],
   "source": [
    "#find the square of the first 10 multiples of 4\n",
    "x=range(1,11)\n",
    "x=list(x)\n",
    "print(x)\n",
    "mult_4=[]\n",
    "sq_mult_4=[]\n",
    "for i in x:\n",
    "    a=4*i\n",
    "    b=(4*i)*(4*i)\n",
    "    mult_4.append(a)\n",
    "    sq_mult_4.append(b)\n",
    "\n",
    "print(mult_4) \n",
    "print(sq_mult_4)"
   ]
  },
  {
   "cell_type": "code",
   "execution_count": null,
   "metadata": {},
   "outputs": [],
   "source": [
    "x=[2,6,4,5,1,2,5,7,8,9,5,4,2]\n",
    "\n",
    "div_2=[]\n",
    "\n",
    "for i in x:\n",
    "    if i%2==0:\n",
    "        div_2.append(i)\n",
    "        \n",
    "print(div_2)        "
   ]
  },
  {
   "cell_type": "markdown",
   "metadata": {},
   "source": [
    "# Tuples"
   ]
  },
  {
   "cell_type": "markdown",
   "metadata": {},
   "source": [
    "- Tuples are immutable series of elements.\n",
    "- Once you create a tuple, you cannot add element, remove element, or modify a tuple in any way."
   ]
  },
  {
   "cell_type": "code",
   "execution_count": null,
   "metadata": {},
   "outputs": [],
   "source": [
    "## Create a tuple dataset\n",
    "tup1 = ('Street triple','Beneli', 8055, True, False, 5j, 2+3j, 5.6, 8.96)\n",
    "tup2 = (1, 2, 3, 4, 5 )\n",
    "tup3 = (\"a\", \"b\", \"c\", \"d\")"
   ]
  },
  {
   "cell_type": "code",
   "execution_count": null,
   "metadata": {
    "scrolled": true
   },
   "outputs": [],
   "source": [
    "print(tup1)\n",
    "tup1"
   ]
  },
  {
   "cell_type": "code",
   "execution_count": null,
   "metadata": {},
   "outputs": [],
   "source": [
    "tup2"
   ]
  },
  {
   "cell_type": "code",
   "execution_count": null,
   "metadata": {},
   "outputs": [],
   "source": [
    "tup3"
   ]
  },
  {
   "cell_type": "code",
   "execution_count": null,
   "metadata": {},
   "outputs": [],
   "source": [
    "### Create a empty tuple\n",
    "tup4 = ()\n",
    "tup4 "
   ]
  },
  {
   "cell_type": "code",
   "execution_count": null,
   "metadata": {},
   "outputs": [],
   "source": [
    "id(tup4)"
   ]
  },
  {
   "cell_type": "code",
   "execution_count": null,
   "metadata": {},
   "outputs": [],
   "source": [
    "#Create a single tuple\n",
    "tup1 = (50,)\n",
    "print(tup1)\n",
    "type(tup1)"
   ]
  },
  {
   "cell_type": "code",
   "execution_count": null,
   "metadata": {},
   "outputs": [],
   "source": [
    "#If we don't use comma after the value, it would not save the value as a tuple\n",
    "tup1 = (50)\n",
    "print(tup1)\n",
    "type(tup1)"
   ]
  },
  {
   "cell_type": "code",
   "execution_count": null,
   "metadata": {},
   "outputs": [],
   "source": [
    "#Accessing Values in Tuples\n",
    "tup1 = ('Akarsh','Neha',2022,'Pradeep', 8055)\n",
    "print(tup1)\n",
    "print(tup1[0])\n",
    "print(tup1[2])"
   ]
  },
  {
   "cell_type": "code",
   "execution_count": null,
   "metadata": {
    "scrolled": true
   },
   "outputs": [],
   "source": [
    "#Tuple is immutable, hence we cannot replace a value in tuple\n",
    "tup2 = (1, 2, 3, 4, 5, 6, 7)\n",
    "tup2[2] = 14"
   ]
  },
  {
   "cell_type": "code",
   "execution_count": null,
   "metadata": {},
   "outputs": [],
   "source": [
    "#Slicing\n",
    "tup2 = (1, 2, 3, 4, 5, 6, 7 )\n",
    "print(tup2)\n",
    "print(tup2[1:6])"
   ]
  },
  {
   "cell_type": "code",
   "execution_count": null,
   "metadata": {},
   "outputs": [],
   "source": [
    "tup2[0:6]"
   ]
  },
  {
   "cell_type": "code",
   "execution_count": null,
   "metadata": {},
   "outputs": [],
   "source": [
    "tup2[1:3]"
   ]
  },
  {
   "cell_type": "code",
   "execution_count": null,
   "metadata": {},
   "outputs": [],
   "source": [
    "tup2.reverse()"
   ]
  },
  {
   "cell_type": "code",
   "execution_count": null,
   "metadata": {},
   "outputs": [],
   "source": [
    "print(tup2)"
   ]
  },
  {
   "cell_type": "code",
   "execution_count": null,
   "metadata": {},
   "outputs": [],
   "source": [
    "tup2 = (1, 2, 3, 4, 5, 6, 7 )\n",
    "print(tup2[2])\n",
    "print(tup2[5])\n",
    "tup2[2] + tup2[5]"
   ]
  },
  {
   "cell_type": "code",
   "execution_count": null,
   "metadata": {},
   "outputs": [],
   "source": [
    "a=(1,2,3,4,5)\n",
    "b=(6,7,8,9,10)\n",
    "print(a[2])\n",
    "print(b[4])\n",
    "a[2] + b[4]"
   ]
  },
  {
   "cell_type": "code",
   "execution_count": null,
   "metadata": {},
   "outputs": [],
   "source": [
    "a=(1,2,3,4,5)\n",
    "b=[6,7,8,9,10]\n",
    "print(a[2])\n",
    "print(b[3])\n",
    "a[2] + b[3]"
   ]
  },
  {
   "cell_type": "code",
   "execution_count": null,
   "metadata": {},
   "outputs": [],
   "source": [
    "print(a)\n",
    "print(b)"
   ]
  },
  {
   "cell_type": "code",
   "execution_count": null,
   "metadata": {},
   "outputs": [],
   "source": [
    "c=a+b\n",
    "print(c)\n",
    "d=c+a\n",
    "print(d)\n",
    "d+a"
   ]
  },
  {
   "cell_type": "code",
   "execution_count": null,
   "metadata": {},
   "outputs": [],
   "source": [
    "a=(1,2,3,4,5)\n",
    "b=(6,7,8,9,10)\n",
    "d=a+b\n",
    "print('This is tuple d:', d)\n",
    "e=list(d)\n",
    "print('This list is created by using list function on tuple d:', e)\n",
    "e.remove(2)\n",
    "e.append(12)\n",
    "print('Here we have modified the list:', e)\n",
    "f=tuple(e)\n",
    "print('After modyfing list, we apply tuple function to change f again into tuple:', f)"
   ]
  },
  {
   "cell_type": "code",
   "execution_count": null,
   "metadata": {
    "scrolled": true
   },
   "outputs": [],
   "source": [
    "#Updating Tuples\n",
    "tup1 = ('Street triple','Detona','Beneli', 8055)\n",
    "tup2 = (1, 2, 3, 4, 5, 6, 7 )\n",
    "print(tup1)\n",
    "print(tup2)\n",
    "#We can replace the whole tuple under the same object name\n",
    "#But within a tuple, we cannot make any kind of change\n",
    "tup1 = (12, 34.56)\n",
    "tup2 = ('abc', 'xyz')\n",
    "print(tup1)\n",
    "print(tup2)"
   ]
  },
  {
   "cell_type": "code",
   "execution_count": null,
   "metadata": {},
   "outputs": [],
   "source": [
    "#Delete Tuple \n",
    "tup = ('Street triple','Detona','Beneli', 8055)\n",
    "print(tup)"
   ]
  },
  {
   "cell_type": "code",
   "execution_count": null,
   "metadata": {},
   "outputs": [],
   "source": [
    "del(tup)\n",
    "print(tup)"
   ]
  },
  {
   "cell_type": "code",
   "execution_count": null,
   "metadata": {},
   "outputs": [],
   "source": [
    "#Basic Tuples Operations\n",
    "#To know length of the tuple\n",
    "tup = (1,2,'Basics',3,'Python',8,5,9,3,'Basics','Python','Basics')\n",
    "len(tup)"
   ]
  },
  {
   "cell_type": "code",
   "execution_count": null,
   "metadata": {},
   "outputs": [],
   "source": [
    "tup.count('Basics')"
   ]
  },
  {
   "cell_type": "code",
   "execution_count": null,
   "metadata": {},
   "outputs": [],
   "source": [
    "tup.count('Python')"
   ]
  },
  {
   "cell_type": "code",
   "execution_count": null,
   "metadata": {},
   "outputs": [],
   "source": [
    "#It will tell the index (position) of the element mentioned in the index method\n",
    "tup.index(9)"
   ]
  },
  {
   "cell_type": "code",
   "execution_count": null,
   "metadata": {},
   "outputs": [],
   "source": [
    "# It will tell which element is present at the index mentioned in the bracket\n",
    "tup[9]"
   ]
  },
  {
   "cell_type": "code",
   "execution_count": null,
   "metadata": {},
   "outputs": [],
   "source": [
    "tup.index('Basics')"
   ]
  },
  {
   "cell_type": "code",
   "execution_count": null,
   "metadata": {},
   "outputs": [],
   "source": [
    "tup.index('Python')"
   ]
  },
  {
   "cell_type": "code",
   "execution_count": null,
   "metadata": {},
   "outputs": [],
   "source": [
    "a = (1, 2, 3, 4, 5, 6, 7)\n",
    "print(a)\n",
    "b=a*4\n",
    "print(b)"
   ]
  },
  {
   "cell_type": "code",
   "execution_count": null,
   "metadata": {},
   "outputs": [],
   "source": [
    "for i in a:\n",
    "    print('Element taken by i=',i)\n",
    "    print('Value after i multiplied by 4=',4*i)\n",
    "#first iteration, i=a[0]\n",
    "#second iteration, i=a[1]....    "
   ]
  },
  {
   "cell_type": "code",
   "execution_count": null,
   "metadata": {},
   "outputs": [],
   "source": [
    "a"
   ]
  },
  {
   "cell_type": "code",
   "execution_count": null,
   "metadata": {},
   "outputs": [],
   "source": [
    "list1=[]\n",
    "for i in a:\n",
    "    list1.append(4*i)\n",
    "b=tuple(list1)\n",
    "b"
   ]
  },
  {
   "cell_type": "code",
   "execution_count": null,
   "metadata": {},
   "outputs": [],
   "source": [
    "tup4 = ('Hi!',)\n",
    "tup4*5"
   ]
  },
  {
   "cell_type": "code",
   "execution_count": null,
   "metadata": {},
   "outputs": [],
   "source": [
    "# Max and min in tuple\n",
    "tuple1 = (456, 700, 200,58)\n",
    "print(max(tuple1))\n",
    "print(min(tuple1))"
   ]
  },
  {
   "cell_type": "markdown",
   "metadata": {},
   "source": [
    "|Letter|Position|\n",
    "|------|--------|\n",
    "|A|0|\n",
    "|B|1|\n",
    "|C|2|\n",
    "|D|3|"
   ]
  },
  {
   "cell_type": "code",
   "execution_count": null,
   "metadata": {},
   "outputs": [],
   "source": [
    "#A,B,C......X,Y,Z,a,b,c,.....x,y,z\n",
    "tuple1 = ('k','c','w','z')\n",
    "print(max(tuple1))\n",
    "print(min(tuple1))"
   ]
  },
  {
   "cell_type": "code",
   "execution_count": null,
   "metadata": {},
   "outputs": [],
   "source": [
    "tuple1 = ('k','M','c','w','Z')\n",
    "print(max(tuple1))\n",
    "print(min(tuple1))"
   ]
  },
  {
   "cell_type": "code",
   "execution_count": null,
   "metadata": {},
   "outputs": [],
   "source": [
    "#A,B,C,....X,Y,Z,a,b,c,....x,y,z"
   ]
  },
  {
   "cell_type": "markdown",
   "metadata": {},
   "source": [
    "# Data\n",
    "\n",
    "## Data\n",
    "\n",
    "### Data\n",
    "\n",
    "#### Data\n",
    "\n",
    "##### Data\n",
    "\n",
    "###### Data\n",
    "\n",
    "####### Data"
   ]
  },
  {
   "cell_type": "markdown",
   "metadata": {},
   "source": [
    "# Dictionary"
   ]
  },
  {
   "cell_type": "code",
   "execution_count": null,
   "metadata": {},
   "outputs": [],
   "source": [
    "#Create a Dictionary\n",
    "a = {'Name': 'Saurabh', 'Age': 25, 'Bike': 'Activa','Marks':25, 'Name': 'Rahul','name':'Neha'}\n",
    "a"
   ]
  },
  {
   "cell_type": "code",
   "execution_count": null,
   "metadata": {},
   "outputs": [],
   "source": [
    "a['Name']"
   ]
  },
  {
   "cell_type": "code",
   "execution_count": null,
   "metadata": {},
   "outputs": [],
   "source": [
    "a['Age']"
   ]
  },
  {
   "cell_type": "code",
   "execution_count": null,
   "metadata": {},
   "outputs": [],
   "source": [
    "a['Activa']"
   ]
  },
  {
   "cell_type": "code",
   "execution_count": null,
   "metadata": {},
   "outputs": [],
   "source": [
    "a.keys()"
   ]
  },
  {
   "cell_type": "code",
   "execution_count": null,
   "metadata": {},
   "outputs": [],
   "source": [
    "keys_list=list(a.keys())\n",
    "keys_tuple=tuple(a.keys())\n",
    "print(keys_list)\n",
    "print(keys_tuple)      "
   ]
  },
  {
   "cell_type": "code",
   "execution_count": null,
   "metadata": {},
   "outputs": [],
   "source": [
    "a.values()"
   ]
  },
  {
   "cell_type": "code",
   "execution_count": null,
   "metadata": {},
   "outputs": [],
   "source": [
    "a = {1: 'Nisha', 2: 'Nikhil', 3: 'Ankita'}\n",
    "a"
   ]
  },
  {
   "cell_type": "code",
   "execution_count": null,
   "metadata": {},
   "outputs": [],
   "source": [
    "type(a)"
   ]
  },
  {
   "cell_type": "code",
   "execution_count": null,
   "metadata": {},
   "outputs": [],
   "source": [
    "a[1]"
   ]
  },
  {
   "cell_type": "code",
   "execution_count": null,
   "metadata": {
    "scrolled": true
   },
   "outputs": [],
   "source": [
    "#Cannot store values in a simple series form.\n",
    "dict(range(9))"
   ]
  },
  {
   "cell_type": "code",
   "execution_count": null,
   "metadata": {},
   "outputs": [],
   "source": [
    "list(range(9))"
   ]
  },
  {
   "cell_type": "code",
   "execution_count": null,
   "metadata": {},
   "outputs": [],
   "source": [
    "tuple(range(9))"
   ]
  },
  {
   "cell_type": "code",
   "execution_count": null,
   "metadata": {},
   "outputs": [],
   "source": [
    "dict1={'Range 1': list(range(8)),'Range 2': list(range(9)),\n",
    "       'Range 3': list(range(12))}\n",
    "dict1"
   ]
  },
  {
   "cell_type": "code",
   "execution_count": null,
   "metadata": {},
   "outputs": [],
   "source": [
    "list(range(7,31*7,7))"
   ]
  },
  {
   "cell_type": "code",
   "execution_count": null,
   "metadata": {},
   "outputs": [],
   "source": [
    "dict1={'list_1':list(range(1,6)),\n",
    "       'list_2':list(range(6,11)),\n",
    "       'list_3':list(range(11,16)),\n",
    "       'list_4':list(range(16,21)),\n",
    "       'list_5':list(range(21,26))}\n",
    "print(dict1)\n",
    "\n",
    "#Print 1,7,13,19,25 using 'for' loop from the above dictionary"
   ]
  },
  {
   "cell_type": "code",
   "execution_count": null,
   "metadata": {},
   "outputs": [],
   "source": [
    "for i in dict1.values():\n",
    "    print(i)"
   ]
  },
  {
   "cell_type": "code",
   "execution_count": null,
   "metadata": {},
   "outputs": [],
   "source": [
    "a=0\n",
    "for i in dict1.values():\n",
    "    print(i[a])\n",
    "    a+=1"
   ]
  },
  {
   "cell_type": "code",
   "execution_count": null,
   "metadata": {},
   "outputs": [],
   "source": [
    "dict1={'list_1':list(range(0,3)),\n",
    "       'list_2':list(range(3,6)),\n",
    "       'list_3':list(range(6,9))}\n",
    "\n",
    "#Call values 1,4,7 from the dictionary given above using for & if.\n",
    "for i in dict1.values():\n",
    "    print(i[1])"
   ]
  },
  {
   "cell_type": "code",
   "execution_count": null,
   "metadata": {},
   "outputs": [],
   "source": [
    "dict1={'Range 1': tuple(range(8)),'Range 2': tuple(range(9)),\n",
    "       'Range 3': tuple(range(12))}\n",
    "dict1"
   ]
  },
  {
   "cell_type": "code",
   "execution_count": null,
   "metadata": {},
   "outputs": [],
   "source": [
    "list1=[]\n",
    "for i in range(1,21):\n",
    "    if i%2==0:\n",
    "        list1.append(i)\n",
    "\n",
    "list2=[]\n",
    "for i in range(1,31):\n",
    "    if i%3==0:\n",
    "        list2.append(i)\n",
    "\n",
    "list3=[]\n",
    "for i in range(1,41):\n",
    "    if i%4==0:\n",
    "        list3.append(i)\n",
    "\n",
    "print(list1)\n",
    "print(list2)\n",
    "print(list3)\n",
    "\n",
    "dict_tables={'Table_2':list1, 'Table_3':list2,'Table_4':list3}\n",
    "dict_tables"
   ]
  },
  {
   "cell_type": "code",
   "execution_count": null,
   "metadata": {},
   "outputs": [],
   "source": [
    "fruit = [['Orange','Fruit'],['Banana','Fruit'], ['Mango', 'Fruit']]\n",
    "consume = ['Juice', 'Eat']\n",
    "possible = []\n",
    "\n",
    "# Iterating item in list fruit\n",
    "for item in fruit :\n",
    "\n",
    "# Iterating use in list consume\n",
    "    for use in consume :\n",
    "        item.append(use)\n",
    "        possible.append(item[:])\n",
    "        item.pop()\n",
    "print(possible)"
   ]
  },
  {
   "cell_type": "code",
   "execution_count": null,
   "metadata": {},
   "outputs": [],
   "source": [
    "list1=[]\n",
    "for i in range(1,21):\n",
    "    if i%2==0:\n",
    "        list1.append(i)\n",
    "    \n",
    "list2=[]\n",
    "for i in range(1,31):\n",
    "    if i%3==0:\n",
    "        list2.append(i)\n",
    "        \n",
    "list3=[]\n",
    "for i in range(1,41):\n",
    "    if i%4==0:\n",
    "        list3.append(i)\n",
    "    \n",
    "print(list1)\n",
    "print(list2)\n",
    "print(list3)\n",
    "\n",
    "dict_tables={'Table_2':list1, 'Table_3':list2,'Table_4':list3}\n",
    "dict_tables"
   ]
  },
  {
   "cell_type": "code",
   "execution_count": null,
   "metadata": {},
   "outputs": [],
   "source": [
    "list1=list(range(2,21,2))\n",
    "list2=list(range(3,31,3))\n",
    "list3=list(range(4,41,4))\n",
    "print(list1)\n",
    "print(list2)\n",
    "print(list3)\n",
    "dict_tables={'Table_2':list1, 'Table_3':list2,'Table_4':list3}\n",
    "dict_tables"
   ]
  },
  {
   "cell_type": "code",
   "execution_count": null,
   "metadata": {},
   "outputs": [],
   "source": [
    "dict_tab={'tab2':list(range(2,21,2)), 'tab3':list(range(3,31,3)), 'tab4':list(range(4,41,4))}\n",
    "dict_tab"
   ]
  },
  {
   "cell_type": "code",
   "execution_count": null,
   "metadata": {},
   "outputs": [],
   "source": [
    "list1=[]\n",
    "list2=[]\n",
    "list3=[]\n",
    "\n",
    "for i in range(1,11):\n",
    "    list1.append(2*i)\n",
    "    list2.append(3*i)\n",
    "    list3.append(4*i)\n",
    "    \n",
    "dict_tables={'Table_2': list1,'Table_3':list2,'Table_4':list3}\n",
    "print(dict_tables)"
   ]
  },
  {
   "cell_type": "code",
   "execution_count": null,
   "metadata": {},
   "outputs": [],
   "source": [
    "dict_tables={'Table_2': [2*i for i in range(1,11)],'Table_3':[3*i for i in range(1,11)],\n",
    "             'Table_4':[4*i for i in range(1,11)]}\n",
    "print(dict_tables)"
   ]
  },
  {
   "cell_type": "code",
   "execution_count": null,
   "metadata": {},
   "outputs": [],
   "source": [
    "b={'Name':['Nisha','Manoj','Rahul','Nikita'], 'Age':[25,36,58,63]}\n",
    "b"
   ]
  },
  {
   "cell_type": "code",
   "execution_count": null,
   "metadata": {},
   "outputs": [],
   "source": [
    "a = {'Name': 'Nisha', 'Age': 25, 'Bike': 'Activa','Marks':25}\n",
    "print(a)\n",
    "#Accessing Values in Dictionary\n",
    "print(a['Name'])\n",
    "print(a['Age'])\n",
    "print(a['Bike'])\n",
    "print(a['Marks'])"
   ]
  },
  {
   "cell_type": "code",
   "execution_count": null,
   "metadata": {},
   "outputs": [],
   "source": [
    "a['Activa']"
   ]
  },
  {
   "cell_type": "code",
   "execution_count": null,
   "metadata": {},
   "outputs": [],
   "source": [
    "a.keys()"
   ]
  },
  {
   "cell_type": "code",
   "execution_count": null,
   "metadata": {},
   "outputs": [],
   "source": [
    "a.values()"
   ]
  },
  {
   "cell_type": "code",
   "execution_count": null,
   "metadata": {},
   "outputs": [],
   "source": [
    "a.items()"
   ]
  },
  {
   "cell_type": "code",
   "execution_count": null,
   "metadata": {},
   "outputs": [],
   "source": [
    "a = {'Name': 'Nisha', 'Age': 25, 'Bike': 'Activa','Marks':25}\n",
    "for i in a.keys():\n",
    "    print(a[i])"
   ]
  },
  {
   "cell_type": "code",
   "execution_count": null,
   "metadata": {},
   "outputs": [],
   "source": [
    "a = {'Name': 'Nisha', 'Age': 25, 'Bike': 'Activa','Marks':25}\n",
    "for i in a.keys():\n",
    "    print(i)"
   ]
  },
  {
   "cell_type": "code",
   "execution_count": null,
   "metadata": {},
   "outputs": [],
   "source": [
    "b=[]\n",
    "a = {'Name': 'Nisha', 'Age': 25, 'Bike': 'Activa','Marks':25}\n",
    "for i in a.keys():\n",
    "    b.append(a[i])\n",
    "    c=tuple(b)\n",
    "\n",
    "print(b)\n",
    "print(c)    "
   ]
  },
  {
   "cell_type": "code",
   "execution_count": null,
   "metadata": {},
   "outputs": [],
   "source": [
    "a = {'Name': 'Nisha', 'Age': 25, 'Bike': 'Activa','Marks':25}\n",
    "for i in a.keys():\n",
    "    print(i)"
   ]
  },
  {
   "cell_type": "code",
   "execution_count": null,
   "metadata": {},
   "outputs": [],
   "source": [
    "b=[]\n",
    "a = {'Name': 'Nisha', 'Age': 25, 'Bike': 'Activa','Marks':25}\n",
    "for i in a.keys():\n",
    "    b.append(i)\n",
    "    c=tuple(b)\n",
    "\n",
    "print(b)\n",
    "print(c)   "
   ]
  },
  {
   "cell_type": "code",
   "execution_count": null,
   "metadata": {},
   "outputs": [],
   "source": [
    "a = {'Name': 'Nisha', 'Age': 25, 'Bike': 'Activa','Marks':25}\n",
    "for i in a.values():\n",
    "    print(i)"
   ]
  },
  {
   "cell_type": "code",
   "execution_count": null,
   "metadata": {},
   "outputs": [],
   "source": [
    "print(a['Nisha'])"
   ]
  },
  {
   "cell_type": "code",
   "execution_count": null,
   "metadata": {},
   "outputs": [],
   "source": [
    "#We cannot access an element in a dictionary with index value\n",
    "a[0]"
   ]
  },
  {
   "cell_type": "code",
   "execution_count": null,
   "metadata": {},
   "outputs": [],
   "source": [
    "dict3= {\"Name\" : \"Geethika\" ,\"Age\" : 23 , \"Place\" : \"Hyderabad\" , \n",
    "        \"Address\":{\"Pincode\":500072, \"District\":\"Rangareddy\", \"State\":\"Telangana\"}}\n",
    "dict3"
   ]
  },
  {
   "cell_type": "code",
   "execution_count": null,
   "metadata": {},
   "outputs": [],
   "source": [
    "dict3['Address']['District']"
   ]
  },
  {
   "cell_type": "code",
   "execution_count": null,
   "metadata": {},
   "outputs": [],
   "source": [
    "dict3['Address']['State']"
   ]
  },
  {
   "cell_type": "code",
   "execution_count": null,
   "metadata": {},
   "outputs": [],
   "source": [
    "FamilyTree={'Ali_Zohra':{{'Nasir_Tasneem':{{'Nida_Atif':['Aayan','Aaira']},{'Nabila_Faraz':'Ishaq'},{'Nizam_Husna':'Ibrahm'}},{'Mudassir_Birjis':{{'Mehreen_Sadik':['Musaddiq','Mubashir']},{'Maroof_Sumerna':'Ali'}}},{'Reshma_Muzammil':{{'Neha_Faisal':'Hamza'},{'Mansha_Tiham':[]}}},{'samina_Shakil':{{'Fatima_Faiq':'Nazir'},{'Hamza_Yusra':'Hunaiza'}}}}}\n"
   ]
  },
  {
   "cell_type": "code",
   "execution_count": null,
   "metadata": {},
   "outputs": [],
   "source": [
    "Familytree={'Hanumanthreddy_Chennamma':\n",
    "            {'srinivas_Satyamma':['Sandeep','Sirish'],\n",
    "             'Ashok_Kavita':['Sneha','Supriya','Harish'],\n",
    "             'Shobha_Krishna':['Sushma','Spoorti']}}"
   ]
  },
  {
   "cell_type": "code",
   "execution_count": null,
   "metadata": {},
   "outputs": [],
   "source": [
    "Family_Tree={'Grandpa_Grandma':{'Child1_Spouse':{'Name1_Spouse':[0],'Name2_Spouse':['Name']},'Uncle_spouse':{}}}"
   ]
  },
  {
   "cell_type": "code",
   "execution_count": null,
   "metadata": {},
   "outputs": [],
   "source": [
    "familytree={\"palani_paval\":\n",
    "             {\"logu_anna\":{\"pri_jaga\":[\"johi\"]},\n",
    "             \"sawmy_samb\":{\"ram_mehala\":[\"yalini\"],\n",
    "                            \"sasi_bala\":[\"aadhi\",\"priyan\"]}}}\n",
    "familytree\n"
   ]
  },
  {
   "cell_type": "code",
   "execution_count": null,
   "metadata": {},
   "outputs": [],
   "source": [
    "dict3['Address'].keys()"
   ]
  },
  {
   "cell_type": "code",
   "execution_count": null,
   "metadata": {},
   "outputs": [],
   "source": [
    "dict3.keys()"
   ]
  },
  {
   "cell_type": "code",
   "execution_count": null,
   "metadata": {},
   "outputs": [],
   "source": [
    "dict3.values()"
   ]
  },
  {
   "cell_type": "code",
   "execution_count": null,
   "metadata": {},
   "outputs": [],
   "source": [
    "dict3['Address'].values()"
   ]
  },
  {
   "cell_type": "code",
   "execution_count": null,
   "metadata": {},
   "outputs": [],
   "source": [
    "for i in dict3['Address'].keys():\n",
    "    print(dict3['Address'][i])"
   ]
  },
  {
   "cell_type": "code",
   "execution_count": null,
   "metadata": {},
   "outputs": [],
   "source": [
    "dict1 = {'DOB': '21/01/1998', 'Sex': 'Female', 'Education': 'UG', \n",
    "         'Work Exp' : 'Nil', 'Nationality':'Indian'}\n",
    "dict1"
   ]
  },
  {
   "cell_type": "code",
   "execution_count": null,
   "metadata": {},
   "outputs": [],
   "source": [
    "dict1['Area']='Jayanagar'\n",
    "dict1['Hair Color']='Brown'\n",
    "dict1"
   ]
  },
  {
   "cell_type": "code",
   "execution_count": null,
   "metadata": {},
   "outputs": [],
   "source": [
    "##Updating Dictionary\n",
    "dict1 = {'Name': 'Vinod', 'Age': 25, 'Bike': 'Beneli'}\n",
    "print(dict1)\n",
    "# update existing entry\n",
    "dict1['Age'] = 38 \n",
    "print(dict1)"
   ]
  },
  {
   "cell_type": "code",
   "execution_count": null,
   "metadata": {},
   "outputs": [],
   "source": [
    "print(dict1)\n",
    "dict1['Name']='Niharika'\n",
    "dict1['Bike']='Grazia'\n",
    "print(dict1)"
   ]
  },
  {
   "cell_type": "code",
   "execution_count": null,
   "metadata": {},
   "outputs": [],
   "source": [
    "a={'List1':[1,2,3],'List2':[4,5,6],'List3':[7,8,9]}\n",
    "a"
   ]
  },
  {
   "cell_type": "code",
   "execution_count": null,
   "metadata": {},
   "outputs": [],
   "source": [
    "print(a.keys())\n",
    "print(a.values())"
   ]
  },
  {
   "cell_type": "code",
   "execution_count": null,
   "metadata": {},
   "outputs": [],
   "source": [
    "a['List3'][2]"
   ]
  },
  {
   "cell_type": "code",
   "execution_count": null,
   "metadata": {},
   "outputs": [],
   "source": [
    "for i in a.values():\n",
    "    print(i[0])"
   ]
  },
  {
   "cell_type": "code",
   "execution_count": null,
   "metadata": {},
   "outputs": [],
   "source": [
    "a['List2'][2]"
   ]
  },
  {
   "cell_type": "code",
   "execution_count": null,
   "metadata": {},
   "outputs": [],
   "source": [
    "print(a['List1'])\n",
    "print(a['List2'])\n",
    "print(a['List3'])"
   ]
  },
  {
   "cell_type": "code",
   "execution_count": null,
   "metadata": {},
   "outputs": [],
   "source": [
    "a['List1'][1],a['List2'][1],a['List3'][1]"
   ]
  },
  {
   "cell_type": "code",
   "execution_count": null,
   "metadata": {},
   "outputs": [],
   "source": [
    "a['List1'][0],a['List2'][0],a['List3'][0]"
   ]
  },
  {
   "cell_type": "code",
   "execution_count": null,
   "metadata": {},
   "outputs": [],
   "source": [
    "a.keys()"
   ]
  },
  {
   "cell_type": "code",
   "execution_count": null,
   "metadata": {},
   "outputs": [],
   "source": [
    "for i in a.keys():\n",
    "    print(a[i][0],a[i][1],a[i][2], end=' ')"
   ]
  },
  {
   "cell_type": "code",
   "execution_count": null,
   "metadata": {},
   "outputs": [],
   "source": [
    "a"
   ]
  },
  {
   "cell_type": "code",
   "execution_count": null,
   "metadata": {},
   "outputs": [],
   "source": [
    "j=0\n",
    "for i in a.keys():\n",
    "    print(a[i][j])\n",
    "    j=j+1"
   ]
  },
  {
   "cell_type": "code",
   "execution_count": null,
   "metadata": {},
   "outputs": [],
   "source": [
    "for i in a.values():\n",
    "    print(i[1])"
   ]
  },
  {
   "cell_type": "code",
   "execution_count": null,
   "metadata": {},
   "outputs": [],
   "source": [
    "a.values()"
   ]
  },
  {
   "cell_type": "code",
   "execution_count": null,
   "metadata": {},
   "outputs": [],
   "source": [
    "count=0\n",
    "for i in a.values():\n",
    "    for j in i:\n",
    "        count=count+1\n",
    "        if( count==1 or count==5 or count==9 ):\n",
    "            print(j)"
   ]
  },
  {
   "cell_type": "code",
   "execution_count": null,
   "metadata": {
    "scrolled": true
   },
   "outputs": [],
   "source": [
    "# Remove an entry \n",
    "dict1={'Name': 'Neha', 'Bike': 'Activa', 'Qualification': 'MBA', \n",
    "       'Place': 'Goa','Height':5.6}\n",
    "print(dict1)\n",
    "del(dict1['Place'])\n",
    "print(dict1)\n",
    "del(dict1['Bike'])\n",
    "print(dict1)"
   ]
  },
  {
   "cell_type": "code",
   "execution_count": null,
   "metadata": {},
   "outputs": [],
   "source": [
    "# Remove all entries in dict1\n",
    "print(dict1)\n",
    "dict1.clear() \n",
    "dict1"
   ]
  },
  {
   "cell_type": "code",
   "execution_count": null,
   "metadata": {},
   "outputs": [],
   "source": [
    "dict1={'Name': 'Neha', 'Bike': 'Activa', 'Qualification': 'MBA', 'Place': 'Goa', 'Height':5.6}\n",
    "print(dict1)\n",
    "ind=0\n",
    "for i in dict1.keys(): \n",
    "    if i!='Place':\n",
    "        ind=ind+1\n",
    "    else:\n",
    "        print(ind)  \n",
    "    "
   ]
  },
  {
   "cell_type": "code",
   "execution_count": null,
   "metadata": {},
   "outputs": [],
   "source": [
    "#To create a list of all keys\n",
    "list_keys=[]\n",
    "for i in dict1.keys():\n",
    "    list_keys.append(i)\n",
    "    \n",
    "list_keys    "
   ]
  },
  {
   "cell_type": "code",
   "execution_count": null,
   "metadata": {},
   "outputs": [],
   "source": [
    "#To create a list of all values\n",
    "list_values=[]\n",
    "for i in dict1.values():\n",
    "    list_values.append(i)\n",
    "    \n",
    "list_values  "
   ]
  },
  {
   "cell_type": "code",
   "execution_count": null,
   "metadata": {},
   "outputs": [],
   "source": [
    "list_keys = list(dict1.keys())\n",
    "list_values = list(dict1.values())\n",
    "\n",
    "print(list_keys)\n",
    "print(list_values)"
   ]
  },
  {
   "cell_type": "code",
   "execution_count": null,
   "metadata": {
    "scrolled": true
   },
   "outputs": [],
   "source": [
    "# delete entire dictionary\n",
    "print(dict1)\n",
    "del(dict1)     \n",
    "print(dict1)"
   ]
  },
  {
   "cell_type": "code",
   "execution_count": null,
   "metadata": {},
   "outputs": [],
   "source": [
    "import pandas as pd\n",
    "dict1={'Name': ['Neha','Saran','Sriram','Shabarish','Rahul','Yukta','Prithviraj','Umesh','Vishwas','Charan'], 'Gender': ['F','M','M','M','M','F','M','M','M','M'],'Age':[5,7,4,2,5,6,3,5,8,5]}\n",
    "df=pd.DataFrame(dict1)\n",
    "df"
   ]
  },
  {
   "cell_type": "code",
   "execution_count": null,
   "metadata": {},
   "outputs": [],
   "source": [
    "dict1={'Name': ['Neha','Shabarish','Rahul','Yukta','Prithviraj','Umesh','Vishwas','Charan'], \n",
    "       'Gender': ['F','M','M','F','M','M','M','M'],\n",
    "       'Age': [5,2,5,6,3,5,8,5]}"
   ]
  },
  {
   "cell_type": "code",
   "execution_count": null,
   "metadata": {},
   "outputs": [],
   "source": [
    "dict1 = {'Name': 'Vinod', 'Age': 25, 'Bike': 'Beneli'}\n",
    "a=dict1.items()\n",
    "a=list(a)\n",
    "a[0]"
   ]
  },
  {
   "cell_type": "code",
   "execution_count": null,
   "metadata": {},
   "outputs": [],
   "source": [
    "dict1.items()"
   ]
  },
  {
   "cell_type": "code",
   "execution_count": null,
   "metadata": {},
   "outputs": [],
   "source": [
    "for x, y in dict1.items():\n",
    "    print(x, y)"
   ]
  },
  {
   "cell_type": "markdown",
   "metadata": {},
   "source": [
    "# Sets\n",
    "\n",
    "- Sets are mutable unordered sequence of unique elements \n",
    "- Sets are constructed from a sequence (or some other iterable object). \n",
    "- Since sets cannot have duplicated items, they are usually used to build sequence of unique items (e.g. set of identifiers).\n"
   ]
  },
  {
   "cell_type": "code",
   "execution_count": null,
   "metadata": {},
   "outputs": [],
   "source": [
    "animals={'dog','cat','lion','tiger'}\n",
    "print(\"first input:\",animals)\n",
    "animals"
   ]
  },
  {
   "cell_type": "code",
   "execution_count": null,
   "metadata": {},
   "outputs": [],
   "source": [
    "#\"dog\" is repeated two times, but sets cannot keep duplicate item, so one \"dog\" is removed\n",
    "animals1={'dog','dog','lion','tiger','cat'}\n",
    "print(\"second input:\",animals1)\n",
    "animals1"
   ]
  },
  {
   "cell_type": "code",
   "execution_count": null,
   "metadata": {},
   "outputs": [],
   "source": [
    "id(animals1)"
   ]
  },
  {
   "cell_type": "code",
   "execution_count": null,
   "metadata": {},
   "outputs": [],
   "source": [
    "#Creating a Set A set is created by using the set() function or placing all the elements within a pair of curly braces.\n",
    "Days=[\"Mon\",\"Mon\",\"Tue\",\"Wed\",\"Wed\",\"Thu\",\"Fri\",\"Sat\",\"Sun\",\"Sun\"]\n",
    "print('Days:', Days)\n",
    "Days1=set(Days)\n",
    "print('Days1:', Days1)\n",
    "Days2=list(Days1)\n",
    "print('Days2:',Days2)"
   ]
  },
  {
   "cell_type": "code",
   "execution_count": null,
   "metadata": {},
   "outputs": [],
   "source": [
    "#Conversion from a set to list by the 'list' function\n",
    "Days=list({\"Mon\",\"Mon\",\"Tue\",\"Wed\",\"Wed\",\"Thu\",\"Fri\",\"Sat\",\"Sun\",\"Sun\"})\n",
    "Days"
   ]
  },
  {
   "cell_type": "code",
   "execution_count": null,
   "metadata": {},
   "outputs": [],
   "source": [
    "#Conversion from a list to set by the 'set' function\n",
    "Days=set([\"Mon\",\"Tue\",\"Wed\",\"Thu\",\"Fri\",\"Sat\",\"Sun\"])\n",
    "Days"
   ]
  },
  {
   "cell_type": "code",
   "execution_count": null,
   "metadata": {},
   "outputs": [],
   "source": [
    "Weekdays=set(['Wed', 'Sun', 'Fri', 'Tue', 'Mon', 'Thu', 'Sat'])\n",
    "Months=set(['Jan', 'Mar', 'Feb'])\n",
    "Dates=set([17, 21, 22])\n",
    "print(Weekdays)\n",
    "print(Months)\n",
    "print(Dates)"
   ]
  },
  {
   "cell_type": "code",
   "execution_count": null,
   "metadata": {},
   "outputs": [],
   "source": [
    "#Accessing Values in a Set \n",
    "#We cannot access individual values in a set. \n",
    "#We can only access all the elements together.\n",
    "\n",
    "Days=set([\"Mon\",\"Tue\",\"Wed\",\"Thu\",\"Fri\",\"Sat\",\"Sun\"])\n",
    "Days"
   ]
  },
  {
   "cell_type": "code",
   "execution_count": null,
   "metadata": {},
   "outputs": [],
   "source": [
    "for d in Days:\n",
    "    print(d, end='-*-') "
   ]
  },
  {
   "cell_type": "code",
   "execution_count": null,
   "metadata": {},
   "outputs": [],
   "source": [
    "for d in Days:\n",
    "    print(d)   "
   ]
  },
  {
   "cell_type": "code",
   "execution_count": null,
   "metadata": {},
   "outputs": [],
   "source": [
    "print(Days)\n",
    "Days[0]"
   ]
  },
  {
   "cell_type": "code",
   "execution_count": null,
   "metadata": {},
   "outputs": [],
   "source": [
    "#Adding Items to a Set We can add elements to a set by using add() method. \n",
    "#There is no specific index attached to the newly added element.\n",
    "Days=set([\"Mon\",\"Tue\",\"Wed\",\"Thu\",\"Fri\",\"Sat\"])\n",
    "print(Days)\n",
    "Days.add(\"Sun\")\n",
    "print(Days)"
   ]
  },
  {
   "cell_type": "code",
   "execution_count": null,
   "metadata": {},
   "outputs": [],
   "source": [
    "#If element is not present in the set, then the element in the 'add' method will be added to the set.\n",
    "#If element is already present in the set, then it will not be added to the set again.\n",
    "print(Days)\n",
    "Days.add(\"Mon\")\n",
    "print(Days)"
   ]
  },
  {
   "cell_type": "code",
   "execution_count": null,
   "metadata": {},
   "outputs": [],
   "source": [
    "#Removing Item from a Set \n",
    "#We can remove elements from a set by using discard() method. \n",
    "\n",
    "Days=set([\"Mon\",\"Tue\",\"Wed\",\"Thu\",\"Fri\",\"Sat\",\"Sun\"])\n",
    "print(Days) \n",
    "Days.discard(\"Mon\")\n",
    "print(Days)\n",
    "Days.remove('Tue')\n",
    "print(Days)"
   ]
  },
  {
   "cell_type": "markdown",
   "metadata": {},
   "source": [
    "# Union of Sets: \n",
    "\n",
    "The union operation on two sets produces a new set containing all the distinct elements from both the sets. "
   ]
  },
  {
   "cell_type": "code",
   "execution_count": null,
   "metadata": {},
   "outputs": [],
   "source": [
    "'''In the example below, the element “Wed” is present in both the sets, \n",
    "but will show only once in the Union Set.'''\n",
    "\n",
    "DaysA = set([\"Mon\",\"Tue\",\"Wed\",\"Thu\",\"Sat\"])\n",
    "DaysB = set([\"Wed\",\"Thu\",\"Fri\",\"Sat\",\"Sun\"])\n",
    "AllDays = DaysA|DaysB\n",
    "print(AllDays)"
   ]
  },
  {
   "cell_type": "code",
   "execution_count": null,
   "metadata": {},
   "outputs": [],
   "source": [
    "#| Union/OR\n",
    "print(DaysA.union(DaysB))\n",
    "print(DaysB.union(DaysA))"
   ]
  },
  {
   "cell_type": "code",
   "execution_count": null,
   "metadata": {},
   "outputs": [],
   "source": [
    "#Union of three sets - \n",
    "'''Element either in A, or B or C, or all 3 or any 2 of the sets, \n",
    "will be taken in union'''\n",
    "A={1,2,6,5,7}\n",
    "B={8,7,1,5}\n",
    "C={10,14,15}\n",
    "A|B|C"
   ]
  },
  {
   "cell_type": "code",
   "execution_count": null,
   "metadata": {},
   "outputs": [],
   "source": [
    "B.union(A,C)"
   ]
  },
  {
   "cell_type": "markdown",
   "metadata": {},
   "source": [
    "# Intersection of Sets \n",
    "\n",
    "The intersection operation on two sets produces a new set containing only the common elements from both the sets. In the below example the element “Wed” is present in both the sets."
   ]
  },
  {
   "cell_type": "code",
   "execution_count": null,
   "metadata": {},
   "outputs": [],
   "source": [
    "DaysA = set([\"Mon\",\"Tue\",\"Wed\",\"Sat\"])\n",
    "DaysB = set([\"Wed\",\"Thu\",\"Fri\",\"Sat\",\"Sun\"])\n",
    "AllDays = DaysA & DaysB\n",
    "print(AllDays)"
   ]
  },
  {
   "cell_type": "code",
   "execution_count": null,
   "metadata": {},
   "outputs": [],
   "source": [
    "print(DaysA.intersection(DaysB))\n",
    "print(DaysB.intersection(DaysA))"
   ]
  },
  {
   "cell_type": "code",
   "execution_count": null,
   "metadata": {},
   "outputs": [],
   "source": [
    "A={1,2,3,4,7}\n",
    "B={7,8,9,1}\n",
    "C={7,8,2,10,15,18}\n",
    "D=A & B & C\n",
    "D"
   ]
  },
  {
   "cell_type": "code",
   "execution_count": null,
   "metadata": {},
   "outputs": [],
   "source": [
    "D=A.intersection(B,C)\n",
    "D"
   ]
  },
  {
   "cell_type": "markdown",
   "metadata": {},
   "source": [
    "# Symmetrical Difference \n",
    "\n",
    "All elements from DaysA & DaysB except the common elements."
   ]
  },
  {
   "cell_type": "code",
   "execution_count": null,
   "metadata": {},
   "outputs": [],
   "source": [
    "DaysA = set([\"Mon\",\"Tue\",\"Wed\",\"Sat\"])\n",
    "DaysB = set([\"Wed\",\"Thu\",\"Fri\",\"Sat\",\"Sun\"])\n",
    "AllDays = DaysA^DaysB\n",
    "print(AllDays)"
   ]
  },
  {
   "cell_type": "code",
   "execution_count": null,
   "metadata": {},
   "outputs": [],
   "source": [
    "A={1,2,3,4}\n",
    "B={7,8,9,1}\n",
    "print('A^B :', A^B)\n",
    "C={7,8,2,10,15,18}\n",
    "print('C :',C)\n",
    "D=A ^ B ^ C\n",
    "print('A ^ B ^ C :',D)"
   ]
  },
  {
   "cell_type": "code",
   "execution_count": null,
   "metadata": {},
   "outputs": [],
   "source": [
    "A.symmetric_difference(B).symmetric_difference(C)"
   ]
  },
  {
   "cell_type": "code",
   "execution_count": null,
   "metadata": {},
   "outputs": [],
   "source": [
    "A.symmetric_difference(B)"
   ]
  },
  {
   "cell_type": "code",
   "execution_count": null,
   "metadata": {},
   "outputs": [],
   "source": [
    "A={1,2,3,4,7,8}\n",
    "B={7,8,9,1}\n",
    "print('A:', A)\n",
    "print('B:', B)\n",
    "print('A^B:',A^B )\n",
    "C={7,8,2,10,15,18,1}\n",
    "print('C:', C)\n",
    "print('A^B^C:',A^B^C )\n",
    "D={5,8,3,6,4}\n",
    "print('D:', D)\n",
    "print('A^B^C^D:',A^B^C^D)\n",
    "E={1,5,6,9,3}\n",
    "print('E:', E)\n",
    "print('A^B^C^D^E:',A^B^C^D^E)\n",
    "\n",
    "#Expected Result = {3,7,10,15,18}"
   ]
  },
  {
   "cell_type": "code",
   "execution_count": null,
   "metadata": {},
   "outputs": [],
   "source": [
    "A ^ B ^ C ^ D ^ E\n",
    "#print('previous result',{1, 5, 6, 7, 9, 10, 15, 18}\n",
    "#print('next set', E={1,5,6,9,3}"
   ]
  },
  {
   "cell_type": "code",
   "execution_count": null,
   "metadata": {},
   "outputs": [],
   "source": [
    "list1=list([A,B,C,D,E])\n",
    "a=set()\n",
    "for i in range(len(list1)):  #0,1,2,3,4\n",
    "    a=a.symmetric_difference(list1[i])\n",
    "    print(a)\n"
   ]
  },
  {
   "cell_type": "code",
   "execution_count": null,
   "metadata": {},
   "outputs": [],
   "source": [
    "list1=list([A,B,C,D,E])\n",
    "a=set()\n",
    "for i in list1:\n",
    "    a=a.symmetric_difference(i)\n",
    "\n",
    "a"
   ]
  },
  {
   "cell_type": "code",
   "execution_count": null,
   "metadata": {},
   "outputs": [],
   "source": [
    "from collections import Counter\n",
    "from itertools import chain\n",
    "list1=list([A,B,C,D,E])\n",
    "list1\n",
    "freq=Counter(chain.from_iterable(list1))\n",
    "res={idx for idx in freq if freq[idx]==1}\n",
    "res"
   ]
  },
  {
   "cell_type": "markdown",
   "metadata": {},
   "source": [
    "# Difference of Sets \n",
    "\n",
    "The difference operation on two sets produces a new set containing only the elements from the first set and none from the second set. In the below example the element “Wed” is present in both the sets so it will not be found in the result set."
   ]
  },
  {
   "cell_type": "code",
   "execution_count": null,
   "metadata": {},
   "outputs": [],
   "source": [
    "DaysA = set([\"Mon\",\"Tue\",\"Wed\"])\n",
    "DaysB = set([\"Wed\",\"Thu\",\"Fri\",\"Sat\",\"Sun\"])"
   ]
  },
  {
   "cell_type": "code",
   "execution_count": null,
   "metadata": {},
   "outputs": [],
   "source": [
    "AllDays = DaysA - DaysB\n",
    "print('DaysA - DaysB:',AllDays)\n",
    "AllDays = DaysB - DaysA\n",
    "print('DaysB - DaysA:',AllDays)"
   ]
  },
  {
   "cell_type": "code",
   "execution_count": null,
   "metadata": {},
   "outputs": [],
   "source": [
    "DaysA.difference(DaysB)"
   ]
  },
  {
   "cell_type": "code",
   "execution_count": null,
   "metadata": {},
   "outputs": [],
   "source": [
    "DaysB.difference(DaysA)"
   ]
  },
  {
   "cell_type": "code",
   "execution_count": null,
   "metadata": {},
   "outputs": [],
   "source": [
    "A={4,5,8,9}\n",
    "B={6,3,2,4}\n",
    "A+B"
   ]
  },
  {
   "cell_type": "code",
   "execution_count": null,
   "metadata": {},
   "outputs": [],
   "source": [
    "DaysA = set([\"Mon\",\"Tue\",\"Wed\"])\n",
    "DaysB = set([\"Wed\",\"Thu\",\"Fri\",\"Sat\",\"Sun\"])\n",
    "print('DaysA:',DaysA)\n",
    "print('DaysB:',DaysB)\n",
    "DaysA.difference_update(DaysB)\n",
    "print('DaysA:',DaysA)\n",
    "print('DaysB:',DaysB)"
   ]
  },
  {
   "cell_type": "code",
   "execution_count": null,
   "metadata": {},
   "outputs": [],
   "source": [
    "DaysA = set([\"Mon\",\"Tue\",\"Wed\"])\n",
    "DaysB = set([\"Wed\",\"Thu\",\"Fri\",\"Sat\",\"Sun\"])\n",
    "print(DaysA)\n",
    "print(DaysB)\n",
    "print(DaysA.difference(DaysB))\n",
    "print(DaysA)\n",
    "print(DaysB)"
   ]
  },
  {
   "cell_type": "code",
   "execution_count": null,
   "metadata": {},
   "outputs": [],
   "source": [
    "DaysA = set([\"Mon\",\"Tue\",\"Wed\"])\n",
    "DaysB = set([\"Wed\",\"Thu\",\"Fri\",\"Sat\",\"Sun\"])\n",
    "print(DaysA)\n",
    "print(DaysB)\n",
    "DaysB.difference_update(DaysA)\n",
    "print(DaysA)\n",
    "print(DaysB)"
   ]
  },
  {
   "cell_type": "code",
   "execution_count": null,
   "metadata": {},
   "outputs": [],
   "source": [
    "DaysA = set([\"Mon\",\"Tue\",\"Wed\"])\n",
    "DaysB = set([\"Wed\",\"Thu\",\"Fri\",\"Sat\",\"Sun\"])\n",
    "print(DaysA)\n",
    "print(DaysB)\n",
    "DaysA.symmetric_difference_update(DaysB)\n",
    "print(DaysA)\n",
    "print(DaysB)"
   ]
  },
  {
   "cell_type": "code",
   "execution_count": null,
   "metadata": {},
   "outputs": [],
   "source": [
    "A={1,2,3,4,7,8,0}\n",
    "B={7,8,9,1,0}\n",
    "C={7,8,2,10,15,18,1,0}\n",
    "D={5,8,3,6,0,4,7}\n",
    "E={1,5,6,9,0,3,8,7}\n",
    "A.intersection_update(B,C,D,E)\n",
    "print('A:',A)\n",
    "print('B:',B)\n",
    "print('C:',C)\n",
    "print('D:',D)\n",
    "print('E:',E)"
   ]
  },
  {
   "cell_type": "code",
   "execution_count": null,
   "metadata": {},
   "outputs": [],
   "source": [
    "A={1,2,3,4,7,8}\n",
    "B={7,8,9,1}\n",
    "C={7,8,2,10,15,18,1}\n",
    "D={5,8,3,6,4}\n",
    "E={1,5,6,9,3}\n",
    "A.union(B,C,D)\n",
    "print(A)\n",
    "print(B)\n",
    "print(C)\n",
    "print(D)"
   ]
  },
  {
   "cell_type": "markdown",
   "metadata": {},
   "source": [
    "# Union Update"
   ]
  },
  {
   "cell_type": "code",
   "execution_count": null,
   "metadata": {},
   "outputs": [],
   "source": [
    "print(A)\n",
    "print(B)\n",
    "A.update(B)\n",
    "print(A)"
   ]
  },
  {
   "cell_type": "markdown",
   "metadata": {},
   "source": [
    "## Super Set & Sub Set"
   ]
  },
  {
   "cell_type": "code",
   "execution_count": null,
   "metadata": {},
   "outputs": [],
   "source": [
    "#Compare Sets We can check if a given set is a subset or superset of another set. \n",
    "#The result is True or False depending on the elements present in the sets.\n",
    "\n",
    "DaysA = set([\"Mon\",\"Tue\",\"Wed\"])\n",
    "DaysB = set([\"Mon\",\"Tue\",\"Wed\",\"Thu\",\"Fri\",\"Sat\",\"Sun\"])\n",
    "print('DaysA is a subset of DaysB: ', DaysA < DaysB)\n",
    "print('DaysA is a superset of DaysB: ', DaysA > DaysB)\n",
    "print('DaysB is a superset of DaysA: ', DaysB > DaysA)"
   ]
  },
  {
   "cell_type": "code",
   "execution_count": null,
   "metadata": {},
   "outputs": [],
   "source": [
    "check=0\n",
    "if len(DaysA)<=len(DaysB):\n",
    "    for i in DaysA:\n",
    "        if i not in DaysB:\n",
    "            check=1\n",
    "        else:\n",
    "            check=2\n",
    "else:\n",
    "    for i in DaysB:\n",
    "        if i not in DaysA:\n",
    "            check=3\n",
    "        else:\n",
    "            check=4\n",
    "if check==1:\n",
    "    print(\"A superset of B\")\n",
    "elif check==2:\n",
    "    print(\"A subset of B\")\n",
    "elif check==3:\n",
    "    print(\"B superset of A\")\n",
    "else:\n",
    "    print(\"B subset of A\")\n"
   ]
  },
  {
   "cell_type": "code",
   "execution_count": null,
   "metadata": {},
   "outputs": [],
   "source": [
    "DaysA=[1,2,3,4,5]\n",
    "DaysB=[1,2,3,4,5,6,8,10]\n",
    "def sub_super(DaysA,DaysB):\n",
    "    check=0\n",
    "    if len(DaysA)<=len(DaysB):\n",
    "        for i in DaysA:\n",
    "            if i not in DaysB:\n",
    "                check=1\n",
    "            else:\n",
    "                check=2\n",
    "    else:\n",
    "        for i in DaysB:\n",
    "            if i not in DaysA:\n",
    "                check=3\n",
    "            else:\n",
    "                check=4\n",
    "    if check==1:\n",
    "        print(\"A superset of B\")\n",
    "    elif check==2:\n",
    "        print(\"B superset of A\")\n",
    "    elif check==3:\n",
    "        print(\"B superset of A\")\n",
    "    else:\n",
    "        print(\"B subset of A\")\n",
    "        \n",
    "sub_super(DaysA,DaysB)\n"
   ]
  },
  {
   "cell_type": "markdown",
   "metadata": {},
   "source": [
    "## Lesser Than (<) operator stands for subset\n",
    "## Greater Than (>) operator stands for superset"
   ]
  },
  {
   "cell_type": "code",
   "execution_count": null,
   "metadata": {},
   "outputs": [],
   "source": [
    "DaysA = set([\"Mon\",\"Tue\",\"Wed\"])\n",
    "DaysB = set([\"Mon\",\"Tue\",\"Wed\"])\n",
    "print('DaysA <= DaysB :', DaysA <= DaysB)\n",
    "print('DaysA >= DaysB :', DaysA >= DaysB)\n",
    "print('DaysA < DaysB :' , DaysA < DaysB)\n",
    "print('DaysA > DaysB :' ,DaysA > DaysB)\n",
    "print('DaysA==DaysB :' ,DaysA==DaysB)"
   ]
  },
  {
   "cell_type": "code",
   "execution_count": null,
   "metadata": {},
   "outputs": [],
   "source": [
    "SetA={'A','B','C','D','E','F','G'}\n",
    "SetB={'B','D','G'}\n",
    "SetC={'A','B','I'}\n",
    "'''\n",
    "Since all the elements in SetB are present in SetA, \n",
    "SetB is the subset of SetA, & SetA is the superset of setB\n",
    "\n",
    "Since all elements of SetC are not present in the SetA,\n",
    "the SetC is not a subset of SetA, nor SetA is superset of SetC\n",
    "'''\n",
    "\n",
    "SetA>SetC"
   ]
  },
  {
   "cell_type": "code",
   "execution_count": null,
   "metadata": {},
   "outputs": [],
   "source": [
    "SetA>SetB"
   ]
  },
  {
   "cell_type": "code",
   "execution_count": null,
   "metadata": {},
   "outputs": [],
   "source": [
    "#Is setB a subset of setA?\n",
    "SetB<SetA"
   ]
  },
  {
   "cell_type": "code",
   "execution_count": null,
   "metadata": {},
   "outputs": [],
   "source": [
    "a={1,2,4,5,9,6}\n",
    "b={3,7,8,1,2,9}\n",
    "c={1,9}"
   ]
  },
  {
   "cell_type": "code",
   "execution_count": null,
   "metadata": {},
   "outputs": [],
   "source": [
    "print(\"OR function in set:\",a|b)\n",
    "#\"OR\" combines all the element and takes unique value of combined element"
   ]
  },
  {
   "cell_type": "code",
   "execution_count": null,
   "metadata": {},
   "outputs": [],
   "source": [
    "print(\"AND function in set:\",a&b)\n",
    "#\"AND\" picks all the elements which are common in both the sets"
   ]
  },
  {
   "cell_type": "code",
   "execution_count": null,
   "metadata": {},
   "outputs": [],
   "source": [
    "print(\"Subset function in set:\",a<b)\n",
    "print(\"Subset function in set:\",c<b)\n",
    "#\"<\" function looks if all the elements of \"a\" is present in \"b\""
   ]
  },
  {
   "cell_type": "code",
   "execution_count": null,
   "metadata": {},
   "outputs": [],
   "source": [
    "a={1,2,4,5,9,6}\n",
    "b={3,7,8,1,2,9}\n",
    "c={1,9}\n",
    "\n",
    "print(\"Symmetric difference function in set:\",a^b)\n",
    "#\"^\" function combines all the element & removes all the common elements"
   ]
  },
  {
   "cell_type": "code",
   "execution_count": null,
   "metadata": {},
   "outputs": [],
   "source": [
    "#Sets are iterable\n",
    "\n",
    "animals={'dog','cat','lion','tiger'}\n",
    "print(animals)"
   ]
  },
  {
   "cell_type": "code",
   "execution_count": null,
   "metadata": {},
   "outputs": [],
   "source": [
    "i='cat' in animals\n",
    "print(\"cat in animals:\",i)\n",
    "j='crow' in animals\n",
    "print(\"crow in animals:\",j)"
   ]
  },
  {
   "cell_type": "code",
   "execution_count": null,
   "metadata": {},
   "outputs": [],
   "source": [
    "#'animals' contain lion, cat, dog & tiger.\n",
    "#Since 'cat' is in 'animals' set, the statement is true.\n",
    "#But 'crow' is not part of 'animals' set, so output is false."
   ]
  },
  {
   "cell_type": "code",
   "execution_count": null,
   "metadata": {},
   "outputs": [],
   "source": [
    "a={'independence'}\n",
    "print(a)\n",
    "a=set('independence')\n",
    "print(a)"
   ]
  },
  {
   "cell_type": "code",
   "execution_count": null,
   "metadata": {},
   "outputs": [],
   "source": [
    "c=set(12345)\n",
    "print(c)"
   ]
  },
  {
   "cell_type": "code",
   "execution_count": null,
   "metadata": {},
   "outputs": [],
   "source": [
    "#Set always gives non-duplicate set of elements\n",
    "a=set('abracadabra')\n",
    "b=set('alacazam')\n",
    "print(\"Set a is\", a)\n",
    "print(\"Set b is\", b)\n",
    "print(a)\n",
    "print(b)"
   ]
  },
  {
   "cell_type": "code",
   "execution_count": null,
   "metadata": {},
   "outputs": [],
   "source": [
    "a={'c', 'b', 'a', 'r', 'd'}\n",
    "print(a)\n",
    "a={'abcb'}\n",
    "print(a)"
   ]
  },
  {
   "cell_type": "code",
   "execution_count": null,
   "metadata": {},
   "outputs": [],
   "source": [
    "#Letters in a but not in b\n",
    "a=set('abracadabra')\n",
    "b=set('alacazam')\n",
    "c=a-b\n",
    "print(\"Letters in a but not in b\",c)"
   ]
  },
  {
   "cell_type": "code",
   "execution_count": null,
   "metadata": {},
   "outputs": [],
   "source": [
    "#Letters in either a or b\n",
    "d=a|b\n",
    "print(\"Letters in either a or b\",d)\n",
    "Letters in either a or b {'c', 'z', 'b', 'a', 'm', 'r', 'l', 'd'}"
   ]
  },
  {
   "cell_type": "code",
   "execution_count": null,
   "metadata": {},
   "outputs": [],
   "source": [
    "#Letters in both a and b\n",
    "e=a&b\n",
    "print(\"Letters in both a and b\",e)"
   ]
  },
  {
   "cell_type": "code",
   "execution_count": null,
   "metadata": {},
   "outputs": [],
   "source": [
    "#Letters in a or b but not both\n",
    "f=a^b\n",
    "print(\"Letters in a or b but not both\",f)"
   ]
  },
  {
   "cell_type": "code",
   "execution_count": null,
   "metadata": {},
   "outputs": [],
   "source": []
  },
  {
   "cell_type": "code",
   "execution_count": null,
   "metadata": {},
   "outputs": [],
   "source": [
    "#Letters in a but not in b\n",
    "c=a-b\n",
    "print(\"Letters in a but not in b\",c)\n",
    "#Letters in either a or b\n",
    "d=a|b\n",
    "print(\"Letters in either a or b\",d)\n",
    "#Letters in both a and b\n",
    "e=a&b\n",
    "print(\"Letters in both a and b\",e)\n",
    "#Letters in a or b but not both\n",
    "f=a^b\n",
    "print(\"Letters in a or b but not both\",f)"
   ]
  },
  {
   "cell_type": "code",
   "execution_count": null,
   "metadata": {},
   "outputs": [],
   "source": []
  },
  {
   "cell_type": "code",
   "execution_count": null,
   "metadata": {},
   "outputs": [],
   "source": [
    "import pandas as pd\n",
    "import numpy as np"
   ]
  },
  {
   "cell_type": "code",
   "execution_count": null,
   "metadata": {},
   "outputs": [],
   "source": [
    "# importing data set using pandas\n",
    "cars = pd.read_csv(\"D:\\\\ALL DATA SCIENCE\\\\Learn Digital\\\\mtcars.csv\")"
   ]
  },
  {
   "cell_type": "code",
   "execution_count": null,
   "metadata": {},
   "outputs": [],
   "source": [
    "cars"
   ]
  },
  {
   "cell_type": "code",
   "execution_count": null,
   "metadata": {
    "scrolled": true
   },
   "outputs": [],
   "source": [
    "#To see the type of the data structure\n",
    "type(cars)"
   ]
  },
  {
   "cell_type": "code",
   "execution_count": null,
   "metadata": {},
   "outputs": [],
   "source": [
    "#Displays the first 5 rows in a dataframe. That is the default setting.\n",
    "cars.head()"
   ]
  },
  {
   "cell_type": "code",
   "execution_count": null,
   "metadata": {},
   "outputs": [],
   "source": [
    "#We can customize this by giving a value in the function. \n",
    "#Displays the first 10 rows in a dataframe\n",
    "cars.head(10)"
   ]
  },
  {
   "cell_type": "code",
   "execution_count": null,
   "metadata": {},
   "outputs": [],
   "source": [
    "#Displays the last 5 rows in a dataframe. That is the default setting.\n",
    "cars.tail()"
   ]
  },
  {
   "cell_type": "code",
   "execution_count": null,
   "metadata": {},
   "outputs": [],
   "source": [
    "#We can customize this by giving a value in the function. \n",
    "#Displays the last 15 rows in a dataframe\n",
    "cars.tail(15)"
   ]
  },
  {
   "cell_type": "code",
   "execution_count": null,
   "metadata": {},
   "outputs": [],
   "source": [
    "print(cars.head(10))\n",
    "cars.loc[[4,7],[\"disp\",\"qsec\"]]"
   ]
  },
  {
   "cell_type": "code",
   "execution_count": null,
   "metadata": {},
   "outputs": [],
   "source": [
    "cars.loc[[10,11,12,13,14,15],[\"mpg\",\"cyl\",\"gear\"]]\n",
    "#cars.loc[[10:15],[\"mpg\",\"cyl\",\"gear\"]]"
   ]
  },
  {
   "cell_type": "code",
   "execution_count": null,
   "metadata": {},
   "outputs": [],
   "source": [
    "cars.iloc[10:15,:4]"
   ]
  },
  {
   "cell_type": "code",
   "execution_count": null,
   "metadata": {},
   "outputs": [],
   "source": [
    "cars.mean()"
   ]
  },
  {
   "cell_type": "code",
   "execution_count": null,
   "metadata": {},
   "outputs": [],
   "source": [
    "cars.skew()"
   ]
  },
  {
   "cell_type": "code",
   "execution_count": null,
   "metadata": {},
   "outputs": [],
   "source": [
    "cars[\"mpg\"].skew()"
   ]
  },
  {
   "cell_type": "code",
   "execution_count": null,
   "metadata": {},
   "outputs": [],
   "source": [
    "cars.kurt()"
   ]
  },
  {
   "cell_type": "code",
   "execution_count": null,
   "metadata": {},
   "outputs": [],
   "source": [
    "cars[\"qsec\"].kurt()"
   ]
  },
  {
   "cell_type": "code",
   "execution_count": null,
   "metadata": {},
   "outputs": [],
   "source": [
    "#range(5)\n",
    "\n",
    "x1 = [1,  2, 3, 4, 5] # list format \n",
    "x2 = [10, 11, 12,100,11]  # list format \n",
    "x3 = list(range(5)) #0,1,2,3,4"
   ]
  },
  {
   "cell_type": "code",
   "execution_count": null,
   "metadata": {},
   "outputs": [],
   "source": [
    "print(x1)\n",
    "print(x2)\n",
    "print(x3)"
   ]
  },
  {
   "cell_type": "code",
   "execution_count": null,
   "metadata": {},
   "outputs": [],
   "source": [
    "# Creating a data frame using explicits lists\n",
    "X = pd.DataFrame(columns = [\"X1\",\"X2\",\"X3\"]) \n",
    "X"
   ]
  },
  {
   "cell_type": "code",
   "execution_count": null,
   "metadata": {},
   "outputs": [],
   "source": [
    "#X.X1 or X[\"X1\"]\n",
    "\n",
    "#list -> Series -> Dataframe\n",
    "\n",
    "#series - single column DF\n",
    "#DF - More than one column in DF"
   ]
  },
  {
   "cell_type": "code",
   "execution_count": null,
   "metadata": {},
   "outputs": [],
   "source": [
    "X[\"X1\"] = pd.Series(x1)  # Converting list format into pandas series format\n",
    "X[\"X2\"] = pd.Series(x2) # Converting list format into pandas series format\n",
    "X[\"X3\"] = pd.Series(x3)\n",
    "\n",
    "X"
   ]
  },
  {
   "cell_type": "code",
   "execution_count": null,
   "metadata": {},
   "outputs": [],
   "source": [
    "cars['mpg']"
   ]
  },
  {
   "cell_type": "code",
   "execution_count": null,
   "metadata": {},
   "outputs": [],
   "source": [
    "cars[['mpg','cyl','gear']]"
   ]
  },
  {
   "cell_type": "code",
   "execution_count": null,
   "metadata": {},
   "outputs": [],
   "source": [
    "X"
   ]
  },
  {
   "cell_type": "code",
   "execution_count": null,
   "metadata": {},
   "outputs": [],
   "source": [
    "X.iloc[2:5,:]"
   ]
  },
  {
   "cell_type": "code",
   "execution_count": null,
   "metadata": {},
   "outputs": [],
   "source": [
    "X.iloc[2:4,1:3]"
   ]
  },
  {
   "cell_type": "markdown",
   "metadata": {},
   "source": [
    "# index values\n",
    "X.iloc[0:3,1]  #0,1,2-rows of 1st column\n",
    "\n",
    "X.iloc[:,[1,2]] #0,1,2 rows of 0 and 1 columns\n",
    "\n",
    "X.iloc[:,:] # to get entire data frame "
   ]
  },
  {
   "cell_type": "code",
   "execution_count": null,
   "metadata": {},
   "outputs": [],
   "source": [
    "X[\"X1\"] = x1 # Converting list format into pandas series format\n",
    "X[\"X2\"] = x2 # Converting list format into pandas series format\n",
    "X[\"X3\"] = x3\n",
    "\n",
    "\n",
    "# accessing columns using \".\" (dot) operation\n",
    "X.X1\n",
    "# accessing columns alternative way\n",
    "X[\"X1\"]\n",
    "\n",
    "# Accessing multiple columns : giving column names as input in list format\n",
    "variable = X[[\"X1\",\"X2\"]]\n",
    "variable\n",
    "\n",
    "X[[\"X1\",\"X2\",\"X3\"]]\n",
    "\n",
    "# Accessing elements using \".iloc\" and loc : accessing each cell by row and column \n",
    "\n",
    "#iloc - integer location\n",
    "#loc - string location\n",
    "\n",
    "X\n",
    "\n",
    "\n",
    "\n",
    "X.loc[1:3,\"X3\"]\n",
    "X.loc[1:3,[\"X1\",\"X3\"]]\n",
    "\n",
    "X.loc[[1,3,4],[\"X1\",\"X2\"]]\n",
    "\n",
    "X.loc[0:3,[\"X1\",\"X2\"]] #0,1,2\n",
    "\n",
    "# checking the type of variable \n",
    "type(X.X1) # pandas series object\n",
    "\n",
    "type(X)\n",
    "\n",
    "# to create a data frame \n",
    "type(X.X2)\n",
    "type(X[\"X2\"])\n",
    "\n",
    "df = pd.DataFrame(columns=[\"A\",\"B\",\"C\"])\n",
    "\n",
    "# np.random.randint(a,b,c) \n",
    "# a - > starting number\n",
    "# b - > Ending number\n",
    "# c - > no. of numbers to be generated \n",
    "\n",
    "\n",
    "df[\"A\"] = pd.Series(list(np.random.randint(1,100,50)))   #randint - random integers\n",
    "df[\"B\"] = pd.Series(list(np.random.choice([0,1],size = 55))) #first\n",
    "df[\"C\"] = 15\n",
    "\n",
    "df"
   ]
  },
  {
   "cell_type": "code",
   "execution_count": null,
   "metadata": {},
   "outputs": [],
   "source": [
    "#To generate summary statistics\n",
    "cars.describe()"
   ]
  },
  {
   "cell_type": "code",
   "execution_count": null,
   "metadata": {},
   "outputs": [],
   "source": [
    "#Importing the data in a csv file into a dataframe in Anaconda environment\n",
    "\n",
    "df = pd.read_csv(\"https://raw.githubusercontent.com/Apress/data-analysis-and-visualization-using-python/master/Ch07/Salaries.csv\")"
   ]
  },
  {
   "cell_type": "code",
   "execution_count": null,
   "metadata": {},
   "outputs": [],
   "source": [
    "df"
   ]
  },
  {
   "cell_type": "code",
   "execution_count": null,
   "metadata": {},
   "outputs": [],
   "source": [
    "df['rank'].value_counts()"
   ]
  },
  {
   "cell_type": "code",
   "execution_count": null,
   "metadata": {},
   "outputs": [],
   "source": [
    "df['discipline'].value_counts()"
   ]
  },
  {
   "cell_type": "code",
   "execution_count": null,
   "metadata": {},
   "outputs": [],
   "source": [
    "df['sex'].value_counts()"
   ]
  },
  {
   "cell_type": "code",
   "execution_count": null,
   "metadata": {},
   "outputs": [],
   "source": [
    "#To display the column names in a dataframe\n",
    "df.columns"
   ]
  },
  {
   "cell_type": "code",
   "execution_count": null,
   "metadata": {},
   "outputs": [],
   "source": [
    "cars.columns"
   ]
  },
  {
   "cell_type": "code",
   "execution_count": null,
   "metadata": {},
   "outputs": [],
   "source": [
    "cars.dtypes"
   ]
  },
  {
   "cell_type": "code",
   "execution_count": null,
   "metadata": {},
   "outputs": [],
   "source": [
    "df.dtypes"
   ]
  },
  {
   "cell_type": "code",
   "execution_count": null,
   "metadata": {},
   "outputs": [],
   "source": []
  },
  {
   "cell_type": "code",
   "execution_count": null,
   "metadata": {},
   "outputs": [],
   "source": []
  },
  {
   "cell_type": "code",
   "execution_count": null,
   "metadata": {},
   "outputs": [],
   "source": []
  },
  {
   "cell_type": "code",
   "execution_count": null,
   "metadata": {},
   "outputs": [],
   "source": []
  },
  {
   "cell_type": "code",
   "execution_count": null,
   "metadata": {},
   "outputs": [],
   "source": [
    "# Graphical Representation of data\n",
    "import matplotlib.pyplot as plt"
   ]
  },
  {
   "cell_type": "code",
   "execution_count": null,
   "metadata": {},
   "outputs": [],
   "source": [
    "# Histogram\n",
    "plt.hist(cars['mpg']) # left skew "
   ]
  },
  {
   "cell_type": "code",
   "execution_count": null,
   "metadata": {},
   "outputs": [],
   "source": [
    "#Boxplot\n",
    "help(plt.boxplot)"
   ]
  },
  {
   "cell_type": "code",
   "execution_count": null,
   "metadata": {},
   "outputs": [],
   "source": [
    "plt.boxplot(cars)"
   ]
  },
  {
   "cell_type": "code",
   "execution_count": null,
   "metadata": {},
   "outputs": [],
   "source": [
    "plt.boxplot(cars[\"mpg\"],vert = False)"
   ]
  },
  {
   "cell_type": "code",
   "execution_count": null,
   "metadata": {},
   "outputs": [],
   "source": [
    "plt.boxplot(cars['mpg'],vert =False);\n",
    "plt.ylabel(\"mpg\")\n",
    "plt.xlabel(\"Boxplot\")\n",
    "plt.title(\"Boxplot\")  # for vertical\n"
   ]
  },
  {
   "cell_type": "code",
   "execution_count": null,
   "metadata": {},
   "outputs": [],
   "source": [
    "plt.boxplot(cars['mpg'],vert =True);\n",
    "plt.ylabel(\"mpg\")\n",
    "plt.xlabel(\"Boxplot\")\n",
    "plt.title(\"Boxplot\")  # for vertical\n"
   ]
  },
  {
   "cell_type": "code",
   "execution_count": null,
   "metadata": {},
   "outputs": [],
   "source": [
    "plt.boxplot(cars['disp'],1,'rs',1)# For Horizontal"
   ]
  },
  {
   "cell_type": "code",
   "execution_count": null,
   "metadata": {},
   "outputs": [],
   "source": [
    "# Barplot\n",
    "# bar plot we need height i.e value of each data\n",
    "# left - for starting point of each bar plot of data on X-axis(Horizontal axis). Here data is mba['gmat']\n",
    "index = np.arange(773) # np.arange(a)  = > creates consecutive numbers from \n",
    "# 0 to 772 "
   ]
  },
  {
   "cell_type": "code",
   "execution_count": null,
   "metadata": {},
   "outputs": [],
   "source": [
    "index"
   ]
  },
  {
   "cell_type": "code",
   "execution_count": null,
   "metadata": {},
   "outputs": [],
   "source": [
    "help(plt.bar)"
   ]
  },
  {
   "cell_type": "code",
   "execution_count": null,
   "metadata": {},
   "outputs": [],
   "source": [
    "data = {'C':20, 'C++':15, 'Java':30,'Python':35}\n",
    "courses = list(data.keys())\n",
    "values = list(data.values()) \n",
    "print(courses)\n",
    "print(values)"
   ]
  },
  {
   "cell_type": "code",
   "execution_count": null,
   "metadata": {},
   "outputs": [],
   "source": [
    "fig = plt.figure(figsize = (10, 5))\n",
    " \n",
    "# creating the bar plot\n",
    "plt.bar(courses, values, color ='maroon',width = 0.4)\n",
    " \n",
    "plt.xlabel(\"Courses offered\")\n",
    "plt.ylabel(\"No. of students enrolled\")\n",
    "plt.title(\"Students enrolled in different courses\")\n",
    "plt.show()"
   ]
  },
  {
   "cell_type": "code",
   "execution_count": null,
   "metadata": {},
   "outputs": [],
   "source": [
    "# dimensions of data frame \n",
    "cars.shape"
   ]
  },
  {
   "cell_type": "code",
   "execution_count": null,
   "metadata": {},
   "outputs": [],
   "source": [
    "cars.head(10)"
   ]
  },
  {
   "cell_type": "code",
   "execution_count": null,
   "metadata": {},
   "outputs": [],
   "source": [
    "# table \n",
    "pd.crosstab(cars.gear,cars.cyl)      #32 rows"
   ]
  },
  {
   "cell_type": "code",
   "execution_count": null,
   "metadata": {},
   "outputs": [],
   "source": [
    "# bar plot between 2 different categories \n",
    "pd.crosstab(cars.gear,cars.cyl).plot(kind=\"bar\")"
   ]
  },
  {
   "cell_type": "code",
   "execution_count": null,
   "metadata": {},
   "outputs": [],
   "source": [
    "cars[\"gear\"].value_counts()"
   ]
  },
  {
   "cell_type": "code",
   "execution_count": null,
   "metadata": {},
   "outputs": [],
   "source": [
    "cars[\"cyl\"].value_counts()"
   ]
  },
  {
   "cell_type": "code",
   "execution_count": null,
   "metadata": {},
   "outputs": [],
   "source": [
    "cars[\"carb\"].value_counts()"
   ]
  },
  {
   "cell_type": "code",
   "execution_count": null,
   "metadata": {},
   "outputs": [],
   "source": [
    "cars.gear.value_counts().plot(kind=\"pie\")"
   ]
  },
  {
   "cell_type": "code",
   "execution_count": null,
   "metadata": {},
   "outputs": [],
   "source": [
    "import seaborn as sns "
   ]
  },
  {
   "cell_type": "code",
   "execution_count": null,
   "metadata": {},
   "outputs": [],
   "source": [
    "# getting boxplot of mpg with respect to each category of gears \n",
    "sns.boxplot(x=\"gear\",y=\"mpg\",data=cars)"
   ]
  },
  {
   "cell_type": "code",
   "execution_count": null,
   "metadata": {},
   "outputs": [],
   "source": [
    "sns.pairplot(cars.iloc[:,0:6]) # histogram of each column and \n",
    "# scatter plot of each variable with respect to other columns "
   ]
  },
  {
   "cell_type": "code",
   "execution_count": null,
   "metadata": {},
   "outputs": [],
   "source": [
    "plt.scatter(cars.wt,cars.mpg)## scatter plot of two variables"
   ]
  },
  {
   "cell_type": "code",
   "execution_count": null,
   "metadata": {},
   "outputs": [],
   "source": [
    "plt.scatter(cars.mpg,cars.qsec)"
   ]
  },
  {
   "cell_type": "code",
   "execution_count": null,
   "metadata": {},
   "outputs": [],
   "source": [
    "plt.plot(cars.mpg,\"rs-\") # scatter plot of single variable"
   ]
  },
  {
   "cell_type": "code",
   "execution_count": null,
   "metadata": {},
   "outputs": [],
   "source": [
    "plt.plot(cars.mpg,\"ro-\")"
   ]
  },
  {
   "cell_type": "code",
   "execution_count": null,
   "metadata": {},
   "outputs": [],
   "source": []
  },
  {
   "cell_type": "markdown",
   "metadata": {},
   "source": [
    "# Conditional Statements"
   ]
  },
  {
   "cell_type": "code",
   "execution_count": null,
   "metadata": {},
   "outputs": [],
   "source": [
    "# If\n",
    "# If the number is positive, we print an appropriate message\n",
    "num = 2\n",
    "if num > 0:\n",
    "    print(num, \"is a positive number.\")"
   ]
  },
  {
   "cell_type": "code",
   "execution_count": null,
   "metadata": {},
   "outputs": [],
   "source": [
    "num = 2\n",
    "if num >= 2:\n",
    "    print(num, \"is greater than or equal to 2.\")"
   ]
  },
  {
   "cell_type": "code",
   "execution_count": null,
   "metadata": {},
   "outputs": [],
   "source": [
    "num = 2\n",
    "if num > 2:\n",
    "    print(num, \"is greater than 2.\")"
   ]
  },
  {
   "cell_type": "code",
   "execution_count": null,
   "metadata": {},
   "outputs": [],
   "source": [
    "num = -2\n",
    "if num > 0:\n",
    "    print(num, \"is a positive number.\")\n",
    "    \n",
    "print(\"This is always printed.\")"
   ]
  },
  {
   "cell_type": "code",
   "execution_count": null,
   "metadata": {},
   "outputs": [],
   "source": [
    "# If else:\n",
    "num = -8\n",
    "\n",
    "if (num >= 0):\n",
    "    print(\"Positive or Zero\")\n",
    "else:\n",
    "    print(\"Negative number\")"
   ]
  },
  {
   "cell_type": "code",
   "execution_count": null,
   "metadata": {},
   "outputs": [],
   "source": [
    "num=8\n",
    "if num>=0:\n",
    "    print(\"Positive/Zero\")\n",
    "else:\n",
    "    print(\"Negative\")"
   ]
  },
  {
   "cell_type": "code",
   "execution_count": null,
   "metadata": {},
   "outputs": [],
   "source": [
    "## Define a function with conditional statement\n",
    "def max_num(num1,num2,num3):\n",
    "    if num1 >= num2 and num1 >= num3:\n",
    "        return num1\n",
    "    elif num2 >= num1 and num2 >= num3:\n",
    "        return num2\n",
    "    else:\n",
    "        return num3    "
   ]
  },
  {
   "cell_type": "code",
   "execution_count": null,
   "metadata": {},
   "outputs": [],
   "source": [
    "max_num(2,5,9)"
   ]
  },
  {
   "cell_type": "code",
   "execution_count": null,
   "metadata": {},
   "outputs": [],
   "source": [
    "#The objective of this function is to find the minimum number when user enters 3 numbers\n",
    "def min_num(x,y,z):\n",
    "    if x <= y and x <= z:\n",
    "        return x\n",
    "    elif y <= x and y <= z:\n",
    "        return y\n",
    "    else:\n",
    "        return z\n",
    "\n",
    "min_num(2,7,4)    "
   ]
  },
  {
   "cell_type": "code",
   "execution_count": null,
   "metadata": {},
   "outputs": [],
   "source": [
    "num1=int(input(\"First input?\"))\n",
    "num2=int(input(\"Second input?\"))\n",
    "num3=int(input(\"Third input?\"))\n",
    "def min_num(x,y,z):\n",
    "    if x <= y and x <= z:\n",
    "        return x\n",
    "    elif y <= x and y <= z:\n",
    "        return y\n",
    "    else:\n",
    "        return z\n",
    "\n",
    "min_num(num1,num2,num3)    "
   ]
  },
  {
   "cell_type": "code",
   "execution_count": null,
   "metadata": {},
   "outputs": [],
   "source": [
    "min_num()"
   ]
  },
  {
   "cell_type": "markdown",
   "metadata": {},
   "source": [
    "Define a function which fetches the mode value/ the most frequent value from the numbers given by the user.\n",
    "\n",
    "Create a simple if and else code, which displays if a person is eligible for voting or not, given the user's age (You can define an object first which stores the value for age, and then give your conditions.)\n",
    "\n",
    "Define a function that displays the capital of the country as the user enters the name of the country.(Atleast 5 countries you can enter in the code for which the capitals would be displayed)\n",
    "\n",
    "Define a function which can mention if a number is a multiple of 2.\n",
    "\n",
    "Define a function which can tell if a particular letter entered by user is a vowel or a consonant\n"
   ]
  },
  {
   "cell_type": "code",
   "execution_count": null,
   "metadata": {},
   "outputs": [],
   "source": [
    "x=int(input(\"Enter a number\"))\n",
    "def mul_2():\n",
    "    if x%2==0:\n",
    "        print(\"The number is multiple of 2\")\n",
    "    else:\n",
    "        print(\"Not multiple of 2\")\n",
    "mul_2()"
   ]
  },
  {
   "cell_type": "code",
   "execution_count": null,
   "metadata": {},
   "outputs": [],
   "source": [
    "age=int(input(\"please enter your age!!!!!!!\"))\n",
    "\n",
    "def age_men(x):\n",
    "    if x<=18:\n",
    "        print(\"You are not eligible for voting\")\n",
    "    else:\n",
    "        print(\"Congratulations you can vote..enjoy\")\n",
    "    \n",
    "\n",
    "age_men(age)"
   ]
  },
  {
   "cell_type": "code",
   "execution_count": null,
   "metadata": {
    "scrolled": true
   },
   "outputs": [],
   "source": [
    "ch = input(\"Enter a character: \")\n",
    "\n",
    "if(ch=='A' or ch=='a' or ch=='E' or ch =='e' or ch=='I'\n",
    " or ch=='i' or ch=='O' or ch=='o' or ch=='U' or ch=='u'):\n",
    "    print(ch, \"is a Vowel\")\n",
    "else:\n",
    "    print(ch, \"is a Consonant\")\n",
    "    "
   ]
  },
  {
   "cell_type": "code",
   "execution_count": null,
   "metadata": {},
   "outputs": [],
   "source": [
    "def most_frequent(List):\n",
    "    return max(set(List), key = List.count)\n",
    " \n",
    "List = [4, 1, 4, 4, 1, 3]\n",
    "print(most_frequent(List))"
   ]
  },
  {
   "cell_type": "code",
   "execution_count": null,
   "metadata": {},
   "outputs": [],
   "source": [
    "a= \"India\"\n",
    "b=\"Bangladesh\"\n",
    "c= \"Bhutan\"\n",
    "d= \"Germany\"\n",
    "e= \"Italy\"\n",
    "x= input(\"Enter a country name: \")\n",
    "\n",
    "def capital():\n",
    "    if x ==a:\n",
    "        print(\"Delhi\")\n",
    "    elif x== b:\n",
    "        print(\"Dhaka\")\n",
    "    elif x==c:\n",
    "        print(\"Thimpu\")\n",
    "    elif x==d:\n",
    "        print(\"Berlin\")\n",
    "        \n",
    "    elif x==e:\n",
    "        print(\"Rome\")\n",
    "    else:\n",
    "        print(\"Nothing\")\n",
    "capital()"
   ]
  },
  {
   "cell_type": "code",
   "execution_count": null,
   "metadata": {},
   "outputs": [],
   "source": []
  },
  {
   "cell_type": "code",
   "execution_count": null,
   "metadata": {},
   "outputs": [],
   "source": []
  },
  {
   "cell_type": "code",
   "execution_count": null,
   "metadata": {},
   "outputs": [],
   "source": []
  },
  {
   "cell_type": "code",
   "execution_count": null,
   "metadata": {},
   "outputs": [],
   "source": [
    "def food(x):\n",
    "    if x =='Brown':\n",
    "        print(\"It is Biryani\")\n",
    "    else:\n",
    "        print(\"It is not Biryani\")\n",
    "            \n",
    "food('Orange')"
   ]
  },
  {
   "cell_type": "code",
   "execution_count": null,
   "metadata": {},
   "outputs": [],
   "source": [
    "def vowel_consonant(l):\n",
    "    l1 = l.lower()\n",
    "    if l1 == 'a' or l1 == 'e' or l1 == 'i' or l1 == 'o' or  l1 == 'u':\n",
    "        return \"Vowel\"\n",
    "    else:\n",
    "        return \"Consonant\"\n",
    "vowel_consonant('Z')"
   ]
  },
  {
   "cell_type": "code",
   "execution_count": null,
   "metadata": {},
   "outputs": [],
   "source": [
    "score_theory = 40\n",
    "if(score_theory > 40):\n",
    "    print(\"Pass\")\n",
    "else:\n",
    "    print(\"Fail\")"
   ]
  },
  {
   "cell_type": "code",
   "execution_count": null,
   "metadata": {},
   "outputs": [],
   "source": [
    "def country(x):\n",
    "    if x=='INDIA':\n",
    "        print(\"The capital of INDIA is Delhi\")\n",
    "    elif x=='AUSTRALIA':\n",
    "        print(\"The capital of AUSTRALIA is Canberra\")\n",
    "    elif x=='FRANCE':\n",
    "        print(\"The capital of FRANCE is Paris\")\n",
    "    elif x=='GERMANY':\n",
    "        print(\"The capital of GERMANY is Berlin\")\n",
    "    elif x=='JAPAN':\n",
    "        print(\"The capital of JAPAN is Tokyo\")\n",
    "    else:\n",
    "        print(\"Enter valid Country code\")\n",
    "        \n",
    "country('FRANCE')"
   ]
  },
  {
   "cell_type": "code",
   "execution_count": null,
   "metadata": {},
   "outputs": [],
   "source": [
    "list1= [21, 13, 19, 13,19,13]\n",
    "list1\n",
    "mode=max(list1,key=list1.count)\n",
    "print(mode)"
   ]
  },
  {
   "cell_type": "code",
   "execution_count": null,
   "metadata": {},
   "outputs": [],
   "source": [
    "a = [54,54,70,82,70,90,82]\n",
    "mode=max(a,key=a.count)\n",
    "print(mode)"
   ]
  },
  {
   "cell_type": "code",
   "execution_count": null,
   "metadata": {},
   "outputs": [],
   "source": [
    "# Nested If\n",
    "num = int(input(\"Enter a number: \"))\n",
    "\n",
    "if num >= 0:\n",
    "    if num == 0:\n",
    "        print(\"Zero\")\n",
    "    else:\n",
    "        print(\"Positive number\")\n",
    "else:\n",
    "    print(\"Negative number\")"
   ]
  },
  {
   "cell_type": "code",
   "execution_count": null,
   "metadata": {},
   "outputs": [],
   "source": [
    "num = int(input(\"Enter a number: \"))\n",
    "\n",
    "if num >= 0:\n",
    "    if num == 0:\n",
    "        print(\"Zero\")\n",
    "    else:\n",
    "        print(\"Positive number\")\n",
    "else:\n",
    "    print(\"Negative number\")"
   ]
  },
  {
   "cell_type": "code",
   "execution_count": null,
   "metadata": {},
   "outputs": [],
   "source": [
    "num = int(input(\"Enter a number: \"))\n",
    "\n",
    "if num >= 0:\n",
    "    if num == 0:\n",
    "        print(\"Zero\")\n",
    "    else:\n",
    "        print(\"Positive number\")\n",
    "else:\n",
    "    print(\"Negative number\")"
   ]
  },
  {
   "cell_type": "markdown",
   "metadata": {},
   "source": [
    "# Loops"
   ]
  },
  {
   "cell_type": "markdown",
   "metadata": {},
   "source": [
    "## For Loop"
   ]
  },
  {
   "cell_type": "code",
   "execution_count": null,
   "metadata": {},
   "outputs": [],
   "source": [
    "# for each item in sequence , till the last item reached, the loop will keep executing \n",
    "#Ex:1\n",
    "snacks = ['pizza','burger','shawarma','franky']\n",
    "for x in snacks:\n",
    "    print(\"Enjoy your snack: \", x)\n",
    "print(\"Good night!\")"
   ]
  },
  {
   "cell_type": "code",
   "execution_count": null,
   "metadata": {},
   "outputs": [],
   "source": [
    "num=[4,7,5,2,3,6,5,4,8,9,1,2]\n",
    "for i in num:\n",
    "    if i%2==0:\n",
    "        print(i,'is even number')\n",
    "    else:\n",
    "        print(i,'is not even number')"
   ]
  },
  {
   "cell_type": "code",
   "execution_count": null,
   "metadata": {},
   "outputs": [],
   "source": [
    "print('Factorial of 6 (6!): ', 1*2*3*4*5*6)"
   ]
  },
  {
   "cell_type": "code",
   "execution_count": null,
   "metadata": {},
   "outputs": [],
   "source": [
    "9*8*7*6*5*4*3*2*1"
   ]
  },
  {
   "cell_type": "code",
   "execution_count": null,
   "metadata": {},
   "outputs": [],
   "source": [
    "#Ex:2\n",
    "num = int(input(\"Enter a number to fetch its factorial: \"))\n",
    "factorial = 1\n",
    "\n",
    "if num < 0:\n",
    "    print(\"Must be positive integer\")\n",
    "elif num == 0:\n",
    "    print(\"factorial = 1\")\n",
    "else:\n",
    "    for i in range(1,num+1):         #1,2,3,4,5,6\n",
    "        factorial = factorial * i\n",
    "    print(\"factorial =  \" ,factorial)\n"
   ]
  },
  {
   "cell_type": "code",
   "execution_count": null,
   "metadata": {},
   "outputs": [],
   "source": [
    "x = range(5)   #0,1,2,3,4\n",
    "for i in x:\n",
    "    print(i)"
   ]
  },
  {
   "cell_type": "code",
   "execution_count": null,
   "metadata": {},
   "outputs": [],
   "source": [
    "#Nested for loop\n",
    "#This will give all the possible outcomes if you role 3 dice.\n",
    "for i in range(1,7):           #1,2,3,4,5,6\n",
    "    for j in range(1,7):       #1,2,3,4,5,6\n",
    "        for k in range(1,7):   #1,2,3,4,5,6\n",
    "            print(i,j,k)"
   ]
  },
  {
   "cell_type": "code",
   "execution_count": null,
   "metadata": {},
   "outputs": [],
   "source": [
    "import pandas as pd\n",
    "Dice_Outcomes=pd.DataFrame(columns=['Dice_1','Dice_2', 'Dice_3'])\n",
    "Dice_1=[]\n",
    "Dice_2=[]\n",
    "Dice_3=[]\n",
    "for i in range(1,7):           #1,2,3,4,5,6\n",
    "    for j in range(1,7):       #1,2,3,4,5,6\n",
    "        for k in range(1,7):   #1,2,3,4,5,6\n",
    "            Dice_1.append(i)\n",
    "            Dice_2.append(j)\n",
    "            Dice_3.append(k)\n",
    "            \n",
    "Dice_Outcomes['Dice_1']=pd.Series(Dice_1)\n",
    "Dice_Outcomes['Dice_2']=pd.Series(Dice_2)\n",
    "Dice_Outcomes['Dice_3']=pd.Series(Dice_3) \n",
    "Dice_Outcomes"
   ]
  },
  {
   "cell_type": "code",
   "execution_count": null,
   "metadata": {},
   "outputs": [],
   "source": [
    "########################## While Loop #############################\n",
    "# Program to add natural numbers\n",
    "# Enter the loop , test expression , true , body of code , if false - exit loop.\n",
    "# sum = 1+2+3+...+n\n",
    "#To take input from the user,\n",
    "n = int(input(\"Enter n: \"))\n",
    "#n = 6\n",
    "#1+2+3+4+5+6\n",
    "# initialize sum and counter\n",
    "summation = 0\n",
    "i = 1\n",
    "while i <= n:\n",
    "    summation = summation + i\n",
    "    i = i+1    # update counter\n",
    "    print('Iteration:', i-1 , 'summation=', summation, 'i=', i)\n",
    "# print the sum\n",
    "print(\"The sum is\", summation)"
   ]
  },
  {
   "cell_type": "code",
   "execution_count": null,
   "metadata": {},
   "outputs": [],
   "source": [
    "#factorial of a number\n",
    "n=int(input(\"Enter the number:\"))\n",
    "count=1\n",
    "\n",
    "while n>0:\n",
    "    count=count*n\n",
    "    n=n-1\n",
    "    \n",
    "print (\"the factorial of number:\",count)"
   ]
  },
  {
   "cell_type": "code",
   "execution_count": null,
   "metadata": {},
   "outputs": [],
   "source": [
    "word=list('Python_is_great')\n",
    "n=0\n",
    "while n<len(word):\n",
    "    print(word[n])\n",
    "    n=n+1"
   ]
  },
  {
   "cell_type": "code",
   "execution_count": null,
   "metadata": {},
   "outputs": [],
   "source": [
    "# While loop with else\n",
    "# Example to illustrate\n",
    "# the use of else statement\n",
    "# with the while loop\n",
    "\n",
    "counter = 0\n",
    "\n",
    "while counter < 3:\n",
    "    print(\"Inside loop\")\n",
    "    counter = counter + 1\n",
    "else:\n",
    "    print(\"Inside else\")"
   ]
  },
  {
   "cell_type": "code",
   "execution_count": null,
   "metadata": {},
   "outputs": [],
   "source": [
    "# For loop with else:\n",
    "digits = [0, 1, 5]\n",
    "\n",
    "for i in digits:\n",
    "    print(i)\n",
    "else:\n",
    "    print(\"No items left.\")\n",
    "\n",
    "#Ex: 1\n",
    "count = 0\n",
    "while count < 20:\n",
    "    print(\"Digit: \", count)\n",
    "    count = count + 1\n",
    "\n",
    "print(\"Thank you\")"
   ]
  },
  {
   "cell_type": "code",
   "execution_count": null,
   "metadata": {},
   "outputs": [],
   "source": [
    "import random\n",
    "n = 20\n",
    "random_number = int(n * random.random())\n",
    "guess = 0\n",
    "while guess != random_number:\n",
    "    guess = int(input(\"New Number: \"))\n",
    "    if guess > 0:\n",
    "        if guess > random_number:\n",
    "            print(\"number is too large\")\n",
    "        elif guess < random_number:\n",
    "            print(\"number is too small\")\n",
    "    else:\n",
    "        print(\"sorry that you are giveup!\")\n",
    "        break\n",
    "else:\n",
    "    print(\"Congratulations. YOU WON!\")"
   ]
  },
  {
   "cell_type": "markdown",
   "metadata": {},
   "source": [
    "# Strings"
   ]
  },
  {
   "cell_type": "code",
   "execution_count": null,
   "metadata": {},
   "outputs": [],
   "source": [
    "# strings are used to record textual information as well as arbitary collections of bytes.\n",
    "# Accesing Value in Strings\n",
    "Name = \"Johnny\"\n",
    "\n",
    "print(Name)    #Johnny\n",
    "\n",
    "print(Name[0])   #J\n",
    "\n",
    "print(Name[3:])   #nny\n",
    "\n",
    "print(Name[-1])  #y\n",
    "\n",
    "print(Name[-3:-1])  #nn\n"
   ]
  },
  {
   "cell_type": "code",
   "execution_count": null,
   "metadata": {},
   "outputs": [],
   "source": [
    "# Update Strings\n",
    "\n",
    "var1 = 'Hello worlds'\n",
    "print(var1)\n",
    "\n",
    "print(var1[:5])\n",
    "\n",
    "print(\"Updated String: \", var1 , 'Python')\n",
    "print(\"Updated String :- \", var1[:5] + ' Python')"
   ]
  },
  {
   "cell_type": "code",
   "execution_count": null,
   "metadata": {},
   "outputs": [],
   "source": [
    "# String Formating\n",
    "print(\"My name is %s and weight is %d kgs! my father name is %s !!\" %(\"vinod\", 70, 'narasimha rao'))"
   ]
  },
  {
   "cell_type": "code",
   "execution_count": null,
   "metadata": {},
   "outputs": [],
   "source": [
    "#Ex :1\n",
    "Name = input(\"Enter your name: \")\n",
    "Pincode = int(input(\"Please Enter your Area Pin Code:\"))\n",
    "\n",
    "print(Name)\n",
    "print(Pincode)"
   ]
  },
  {
   "cell_type": "code",
   "execution_count": null,
   "metadata": {},
   "outputs": [],
   "source": [
    "#Computing Simple Interest with User Input\n",
    "P=int(input(\"Enter the amount invested: \"))\n",
    "t=int(input(\"Enter the duration in years: \"))\n",
    "r=5\n",
    "Interest=(P * t * r)/100\n",
    "Interest\n",
    "\n",
    "print(P)\n",
    "print(t)\n",
    "print(Interest)"
   ]
  },
  {
   "cell_type": "code",
   "execution_count": null,
   "metadata": {},
   "outputs": [],
   "source": [
    "Name = \"welcome to python\"\n",
    "print(Name.capitalize())\n",
    "print(Name.upper())\n",
    "print(Name.center(30,'*'))"
   ]
  },
  {
   "cell_type": "code",
   "execution_count": null,
   "metadata": {},
   "outputs": [],
   "source": [
    "txt = \"banana\"\n",
    "x = txt.center(20, \"O\")\n",
    "print(x)"
   ]
  },
  {
   "cell_type": "code",
   "execution_count": null,
   "metadata": {},
   "outputs": [],
   "source": [
    "# count() method returns the number of occurrences of the substring in the given string.\n",
    "x = \"Welcome to python basics\"\n",
    "y = \"o\"\n",
    "count = x.count(y)\n",
    "# print count\n",
    "print(\"The count is:\", count)"
   ]
  },
  {
   "cell_type": "code",
   "execution_count": null,
   "metadata": {},
   "outputs": [],
   "source": [
    "# Count number of occurrences of a given substring using start and end\n",
    "# define string\n",
    "string = \"Python is awesome, isn't it\"\n",
    "print(string[6])\n",
    "print(string[25])"
   ]
  },
  {
   "cell_type": "code",
   "execution_count": null,
   "metadata": {},
   "outputs": [],
   "source": [
    "substring = \"i\"\n",
    "\n",
    "# count after first 'i' and before the last 'i'\n",
    "count = string.count(substring, 6, 25)\n",
    "count\n",
    "\n",
    "# print count\n",
    "print(\"The count is:\", count)"
   ]
  },
  {
   "cell_type": "code",
   "execution_count": null,
   "metadata": {},
   "outputs": [],
   "source": [
    "# Returns true if string has at least 1 character and all characters are alphanumeric and false otherwise.\n",
    "\n",
    "Num = \"M234567onica\"  # No space in this string\n",
    "print(Num.isalnum())"
   ]
  },
  {
   "cell_type": "code",
   "execution_count": null,
   "metadata": {},
   "outputs": [],
   "source": [
    "Num.isnumeric()"
   ]
  },
  {
   "cell_type": "code",
   "execution_count": null,
   "metadata": {},
   "outputs": [],
   "source": [
    "Num = \"this is string example hi!!!\"\n",
    "Num.isalnum()"
   ]
  },
  {
   "cell_type": "code",
   "execution_count": null,
   "metadata": {},
   "outputs": [],
   "source": [
    "Num = \"THIS IS STRING EXAMPLE!!!\"\n",
    "Num.lower()"
   ]
  },
  {
   "cell_type": "code",
   "execution_count": null,
   "metadata": {},
   "outputs": [],
   "source": [
    "Num = \"this is string example hi!!!\"\n",
    "Num.upper()"
   ]
  },
  {
   "cell_type": "code",
   "execution_count": null,
   "metadata": {},
   "outputs": [],
   "source": [
    "# The following example shows the usage of replace() method.\n",
    "\n",
    "reply = \"it is string example!!! is really a string\"\n",
    "print(reply.replace(\"is\", \"was\"))"
   ]
  },
  {
   "cell_type": "code",
   "execution_count": null,
   "metadata": {},
   "outputs": [],
   "source": [
    "print(reply.replace(\"is\", \"was\", 1))"
   ]
  },
  {
   "cell_type": "code",
   "execution_count": null,
   "metadata": {},
   "outputs": [],
   "source": [
    "# The following example shows the usage of split() method.\n",
    "A = \"Line1-abcdef\\nLine2-abc\\nLine4-abcd\"\n",
    "print(A.split(\"\\n\"))"
   ]
  },
  {
   "cell_type": "code",
   "execution_count": null,
   "metadata": {},
   "outputs": [],
   "source": [
    "novel=\"Harry Potter is a film series based on the eponymous novels by J. K. Rowling. The series is distributed by Warner Bros. and consists of eight fantasy films, beginning with Harry Potter and the Philosopher's Stone and culminating with Harry Potter and the Deathly Hallows\"\n",
    "novel\n",
    "novel.split(' ')"
   ]
  },
  {
   "cell_type": "code",
   "execution_count": null,
   "metadata": {},
   "outputs": [],
   "source": [
    "\n",
    "Num = \"this is string example 0909090\"\n",
    "Num.isalnum()\n",
    "\n",
    "Num = \"123\"\n",
    "Num.isalnum()\n",
    "# This method returns true if all characters in the string are alphabetic and there is at least one character, false otherwise.\n",
    "Num = \"this\"  # No space & digit in this string\n",
    "Num.isalpha()\n",
    "\n",
    "\n",
    "# This method returns true if all characters in the string are digits and there is at least one character, false otherwise.\n",
    "\n",
    "Num = \"123456\"  # Only digit in this string\n",
    "Num.isdigit()\n",
    "\n",
    "Num = \"this is string example!!!\"\n",
    "Num.isdigit()\n",
    "\n",
    "# his method returns a copy of the string in which all case-based characters have been lowercased.\n",
    "Num = \"THIS IS STRING EXAMPLE!!!\"\n",
    "Num.lower()\n",
    "\n",
    "# his method returns a copy of the string in which all case-based characters have been Uppercase.\n",
    "Num = \"this is string example!!!\"\n",
    "\n",
    "Num.upper()\n",
    "\n",
    "\n",
    "\n",
    "\n",
    "\n",
    "\n",
    "\n",
    "\n"
   ]
  },
  {
   "cell_type": "code",
   "execution_count": null,
   "metadata": {},
   "outputs": [],
   "source": []
  },
  {
   "cell_type": "code",
   "execution_count": null,
   "metadata": {},
   "outputs": [],
   "source": []
  },
  {
   "cell_type": "code",
   "execution_count": null,
   "metadata": {},
   "outputs": [],
   "source": []
  },
  {
   "cell_type": "code",
   "execution_count": null,
   "metadata": {},
   "outputs": [],
   "source": []
  },
  {
   "cell_type": "code",
   "execution_count": null,
   "metadata": {},
   "outputs": [],
   "source": []
  },
  {
   "cell_type": "code",
   "execution_count": null,
   "metadata": {},
   "outputs": [],
   "source": [
    "\n"
   ]
  },
  {
   "cell_type": "code",
   "execution_count": null,
   "metadata": {},
   "outputs": [],
   "source": [
    "a={'dogs','cats','tigers','lions','parrots'}\n",
    "b={'parrots','chickens','tigers','goats','chickens'}\n",
    "c=set(['dogs','cats','parrots'])\n",
    "allanimals=a|b\n",
    "print(allanimals)\n",
    "allanimals=a&b\n",
    "print(allanimals)\n",
    "allanimals=a-b\n",
    "print(allanimals)\n",
    "allanimals=(a<=b)\n",
    "print(allanimals)\n",
    "allanimals=(a>=c)\n",
    "print(allanimals)\n",
    "allanimals=a^b\n",
    "print(allanimals)\n"
   ]
  },
  {
   "cell_type": "code",
   "execution_count": null,
   "metadata": {},
   "outputs": [],
   "source": [
    "GroupA=set([\"Raju\",\"Mani\",\"Mallu\",\"Rani\"])\n",
    "GroupB=set([\"Raju\",\"Mani\",\"Mallu\",\"Anil\",\"Kiran\",\"Anup\"])\n",
    "Students=(GroupA<=GroupB)\n",
    "print(Students)\n",
    "Students=(GroupA>=GroupB)\n",
    "print(Students)\n",
    "Students=(GroupA^GroupB)\n",
    "print(Students)\n",
    "ClassA=set([\"Andy\",\"Sandy\",\"Sunil\",\"Pooja\"])\n",
    "print(ClassA)\n",
    "ClassA.add(\"Anup\")\n",
    "print(ClassA)\n"
   ]
  },
  {
   "cell_type": "code",
   "execution_count": null,
   "metadata": {},
   "outputs": [],
   "source": [
    "colors1 = {'Red','Green','Blue','Brown','Black'}\n",
    "print(colors1)\n",
    "colors2 = {'White','Red','Magenta','Purple','Green'}\n",
    "print(colors2)\n",
    "colors3 = set(['Grey','Ochre'])\n",
    "colors3.add(\"Pink\")\n",
    "print(colors3)\n",
    "colors4=(colors1|colors2)\n",
    "print(colors4)\n",
    "colors4=(colors1-colors2)\n",
    "print(colors4)\n",
    "colors4=(colors1<=colors2)\n",
    "print(colors4)\n",
    "colors4=(colors1^colors2)\n",
    "print(colors4)\n"
   ]
  },
  {
   "cell_type": "code",
   "execution_count": null,
   "metadata": {},
   "outputs": [],
   "source": []
  },
  {
   "cell_type": "markdown",
   "metadata": {},
   "source": [
    "1. Load the titanic dataset in Python\n",
    "2. Fill up the missing values in age variable with the mean of the variable.\n",
    "3. For age variable, prepare the following bins:\n",
    "- 0-15  - Children\n",
    "- 15-20 - Adolescents\n",
    "- 20-30 - Adult_Students\n",
    "- 30-55 - Adult_Working\n",
    "- 55+   - Aged\n",
    "4. Prepare Bins for the 'fare' variable\n",
    "- 0-50 - Low\n",
    "- 50-100 - Medium\n",
    "- 100-200 - Expensive\n",
    "- 200+ - Very_Expensive"
   ]
  },
  {
   "cell_type": "code",
   "execution_count": null,
   "metadata": {},
   "outputs": [],
   "source": [
    "import pandas as pd\n",
    "titanic=pd.read_csv('D:\\\\ALL DATA SCIENCE\\\\ExcelR\\\\Datasets\\\\titanic.csv')\n",
    "titanic"
   ]
  },
  {
   "cell_type": "code",
   "execution_count": null,
   "metadata": {},
   "outputs": [],
   "source": [
    "age_mean=round(titanic['age'].mean(),1)\n",
    "age_mean"
   ]
  },
  {
   "cell_type": "code",
   "execution_count": null,
   "metadata": {},
   "outputs": [],
   "source": [
    "titanic['age']=titanic['age'].fillna(age_mean)\n",
    "titanic"
   ]
  },
  {
   "cell_type": "code",
   "execution_count": null,
   "metadata": {},
   "outputs": [],
   "source": [
    "titanic['age_bins']=pd.cut(x=titanic['age'],bins=[0,15,20,30,55,100],\n",
    "                          labels=[\"Children\",\"Adolescents\",\"Adult_Student\",\"Adult_Working\",\"Aged\"])\n",
    "titanic"
   ]
  },
  {
   "cell_type": "code",
   "execution_count": null,
   "metadata": {},
   "outputs": [],
   "source": [
    "titanic['fare_bins']=pd.cut(x=titanic['fare'],bins=[0,50,100,200,600],\n",
    "                          labels=[\"Low\",\"Medium\",\"Expensive\",\"Very_Expensive\"])\n",
    "titanic"
   ]
  },
  {
   "cell_type": "code",
   "execution_count": null,
   "metadata": {},
   "outputs": [],
   "source": []
  },
  {
   "cell_type": "code",
   "execution_count": null,
   "metadata": {},
   "outputs": [],
   "source": [
    "Family={'Jethanand_Devi': {'Prakash_Deepa': ['Neha','Saurabh'], 'Mukesh_Ritika': {'Vineet_Aditi':[0], 'Surbhi':[0]}, 'Suresh_Sushma':['Abhishek'], 'Sacheen_Hemlata':['Sudhanshu']}}\n",
    "Family"
   ]
  },
  {
   "cell_type": "code",
   "execution_count": null,
   "metadata": {},
   "outputs": [],
   "source": [
    "num=int(input(\"Input a number:\"))\n",
    "i=1\n",
    "fact=1\n",
    "while(i<=num):\n",
    "    fact=fact*i\n",
    "    i=i+1\n",
    "    #print(\"Factorial:\",fact)\n",
    "if(num==0):\n",
    "    print(\"Factorial:\",fact)\n",
    "else:\n",
    "    if (num<0):\n",
    "        print(\"Factorial is not possible\")\n",
    "\n",
    "print(fact)"
   ]
  },
  {
   "cell_type": "code",
   "execution_count": null,
   "metadata": {},
   "outputs": [],
   "source": [
    "num=int(input(\"Input a number:\"))\n",
    "i=1\n",
    "fact=1\n",
    "if (num<=0):\n",
    "    if(num<0):\n",
    "        print(\"Factorial is not possible\")\n",
    "    else:\n",
    "        print(\"Factorial is\",  fact)\n",
    "else:\n",
    "    while(i<=num):\n",
    "        fact=fact*i\n",
    "        i=i+1\n",
    "    print(fact)"
   ]
  },
  {
   "cell_type": "code",
   "execution_count": null,
   "metadata": {},
   "outputs": [],
   "source": []
  },
  {
   "cell_type": "code",
   "execution_count": null,
   "metadata": {},
   "outputs": [],
   "source": []
  },
  {
   "cell_type": "code",
   "execution_count": null,
   "metadata": {},
   "outputs": [],
   "source": []
  },
  {
   "cell_type": "code",
   "execution_count": null,
   "metadata": {},
   "outputs": [],
   "source": []
  },
  {
   "cell_type": "code",
   "execution_count": null,
   "metadata": {},
   "outputs": [],
   "source": []
  },
  {
   "cell_type": "code",
   "execution_count": null,
   "metadata": {},
   "outputs": [],
   "source": [
    "import numpy\n",
    "dir(numpy)"
   ]
  },
  {
   "cell_type": "code",
   "execution_count": null,
   "metadata": {},
   "outputs": [],
   "source": [
    "FTree = {'Nirmal_Pushpa':{'Pradeep_Alka':{'Vaibhav_Ritika':[0],'Umang':[0]},\n",
    "         'Rajesh_Bhawna':['Livie','Ujjawal'],\n",
    "         'Shailendra_Sunita':{'Sneha_Hritik':[0],'Charu':[0],'Aarav':[0]}}}\n",
    "\n",
    "#FTree = {'Nirmal_Pushpa':{'Pradeep_Alka':{'Vaibhav_Ritika':[0],'Umang':[0]}},\n",
    "#         'Rajesh_Bhawna':['Livie','Ujjawal'],\n",
    "#         'Shailendra_Sunita':{'Sneha_Hritik':[0],'Charu':[0],'Aarav':[0]}}\n"
   ]
  },
  {
   "cell_type": "code",
   "execution_count": null,
   "metadata": {},
   "outputs": [],
   "source": []
  }
 ],
 "metadata": {
  "kernelspec": {
   "display_name": "Python 3 (ipykernel)",
   "language": "python",
   "name": "python3"
  },
  "language_info": {
   "codemirror_mode": {
    "name": "ipython",
    "version": 3
   },
   "file_extension": ".py",
   "mimetype": "text/x-python",
   "name": "python",
   "nbconvert_exporter": "python",
   "pygments_lexer": "ipython3",
   "version": "3.9.12"
  }
 },
 "nbformat": 4,
 "nbformat_minor": 4
}
